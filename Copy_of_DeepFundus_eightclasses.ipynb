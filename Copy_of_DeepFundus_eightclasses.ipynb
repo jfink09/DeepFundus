{
  "nbformat": 4,
  "nbformat_minor": 0,
  "metadata": {
    "colab": {
      "provenance": [],
      "mount_file_id": "https://github.com/jfink09/DeepFundus/blob/main/DeepFundus_sevenclasses.ipynb",
      "authorship_tag": "ABX9TyPZQ0zWHPwX31rG476ISYUx",
      "include_colab_link": true
    },
    "kernelspec": {
      "name": "python3",
      "display_name": "Python 3"
    },
    "language_info": {
      "name": "python"
    },
    "accelerator": "GPU",
    "gpuClass": "standard",
    "widgets": {
      "application/vnd.jupyter.widget-state+json": {
        "8e931af41afc4b58aeb938f76435f6f4": {
          "model_module": "@jupyter-widgets/controls",
          "model_name": "HBoxModel",
          "model_module_version": "1.5.0",
          "state": {
            "_dom_classes": [],
            "_model_module": "@jupyter-widgets/controls",
            "_model_module_version": "1.5.0",
            "_model_name": "HBoxModel",
            "_view_count": null,
            "_view_module": "@jupyter-widgets/controls",
            "_view_module_version": "1.5.0",
            "_view_name": "HBoxView",
            "box_style": "",
            "children": [
              "IPY_MODEL_4e64eb16bf8e4d0a9e515b0e9d912a96",
              "IPY_MODEL_217c695e04e040b99c38e973a5c03dba",
              "IPY_MODEL_b832c342c8764964962ced0a6173272e"
            ],
            "layout": "IPY_MODEL_6043815586f849d3be2898f14d739126"
          }
        },
        "4e64eb16bf8e4d0a9e515b0e9d912a96": {
          "model_module": "@jupyter-widgets/controls",
          "model_name": "HTMLModel",
          "model_module_version": "1.5.0",
          "state": {
            "_dom_classes": [],
            "_model_module": "@jupyter-widgets/controls",
            "_model_module_version": "1.5.0",
            "_model_name": "HTMLModel",
            "_view_count": null,
            "_view_module": "@jupyter-widgets/controls",
            "_view_module_version": "1.5.0",
            "_view_name": "HTMLView",
            "description": "",
            "description_tooltip": null,
            "layout": "IPY_MODEL_d821d26bd8fd48ab8d1b80c5180057ae",
            "placeholder": "​",
            "style": "IPY_MODEL_d6b0b61595d24dc397a3cc78942dc3e7",
            "value": "100%"
          }
        },
        "217c695e04e040b99c38e973a5c03dba": {
          "model_module": "@jupyter-widgets/controls",
          "model_name": "FloatProgressModel",
          "model_module_version": "1.5.0",
          "state": {
            "_dom_classes": [],
            "_model_module": "@jupyter-widgets/controls",
            "_model_module_version": "1.5.0",
            "_model_name": "FloatProgressModel",
            "_view_count": null,
            "_view_module": "@jupyter-widgets/controls",
            "_view_module_version": "1.5.0",
            "_view_name": "ProgressView",
            "bar_style": "success",
            "description": "",
            "description_tooltip": null,
            "layout": "IPY_MODEL_f5f9e994c55f40809bfce15215fd4c20",
            "max": 267046505,
            "min": 0,
            "orientation": "horizontal",
            "style": "IPY_MODEL_fc54f4a5e3734c8f9d75e13c3fd6f061",
            "value": 267046505
          }
        },
        "b832c342c8764964962ced0a6173272e": {
          "model_module": "@jupyter-widgets/controls",
          "model_name": "HTMLModel",
          "model_module_version": "1.5.0",
          "state": {
            "_dom_classes": [],
            "_model_module": "@jupyter-widgets/controls",
            "_model_module_version": "1.5.0",
            "_model_name": "HTMLModel",
            "_view_count": null,
            "_view_module": "@jupyter-widgets/controls",
            "_view_module_version": "1.5.0",
            "_view_name": "HTMLView",
            "description": "",
            "description_tooltip": null,
            "layout": "IPY_MODEL_1ca04c05fa8747aca855d386465b5ae2",
            "placeholder": "​",
            "style": "IPY_MODEL_965c729e8a714776b0c88a879077c02c",
            "value": " 255M/255M [00:01&lt;00:00, 272MB/s]"
          }
        },
        "6043815586f849d3be2898f14d739126": {
          "model_module": "@jupyter-widgets/base",
          "model_name": "LayoutModel",
          "model_module_version": "1.2.0",
          "state": {
            "_model_module": "@jupyter-widgets/base",
            "_model_module_version": "1.2.0",
            "_model_name": "LayoutModel",
            "_view_count": null,
            "_view_module": "@jupyter-widgets/base",
            "_view_module_version": "1.2.0",
            "_view_name": "LayoutView",
            "align_content": null,
            "align_items": null,
            "align_self": null,
            "border": null,
            "bottom": null,
            "display": null,
            "flex": null,
            "flex_flow": null,
            "grid_area": null,
            "grid_auto_columns": null,
            "grid_auto_flow": null,
            "grid_auto_rows": null,
            "grid_column": null,
            "grid_gap": null,
            "grid_row": null,
            "grid_template_areas": null,
            "grid_template_columns": null,
            "grid_template_rows": null,
            "height": null,
            "justify_content": null,
            "justify_items": null,
            "left": null,
            "margin": null,
            "max_height": null,
            "max_width": null,
            "min_height": null,
            "min_width": null,
            "object_fit": null,
            "object_position": null,
            "order": null,
            "overflow": null,
            "overflow_x": null,
            "overflow_y": null,
            "padding": null,
            "right": null,
            "top": null,
            "visibility": null,
            "width": null
          }
        },
        "d821d26bd8fd48ab8d1b80c5180057ae": {
          "model_module": "@jupyter-widgets/base",
          "model_name": "LayoutModel",
          "model_module_version": "1.2.0",
          "state": {
            "_model_module": "@jupyter-widgets/base",
            "_model_module_version": "1.2.0",
            "_model_name": "LayoutModel",
            "_view_count": null,
            "_view_module": "@jupyter-widgets/base",
            "_view_module_version": "1.2.0",
            "_view_name": "LayoutView",
            "align_content": null,
            "align_items": null,
            "align_self": null,
            "border": null,
            "bottom": null,
            "display": null,
            "flex": null,
            "flex_flow": null,
            "grid_area": null,
            "grid_auto_columns": null,
            "grid_auto_flow": null,
            "grid_auto_rows": null,
            "grid_column": null,
            "grid_gap": null,
            "grid_row": null,
            "grid_template_areas": null,
            "grid_template_columns": null,
            "grid_template_rows": null,
            "height": null,
            "justify_content": null,
            "justify_items": null,
            "left": null,
            "margin": null,
            "max_height": null,
            "max_width": null,
            "min_height": null,
            "min_width": null,
            "object_fit": null,
            "object_position": null,
            "order": null,
            "overflow": null,
            "overflow_x": null,
            "overflow_y": null,
            "padding": null,
            "right": null,
            "top": null,
            "visibility": null,
            "width": null
          }
        },
        "d6b0b61595d24dc397a3cc78942dc3e7": {
          "model_module": "@jupyter-widgets/controls",
          "model_name": "DescriptionStyleModel",
          "model_module_version": "1.5.0",
          "state": {
            "_model_module": "@jupyter-widgets/controls",
            "_model_module_version": "1.5.0",
            "_model_name": "DescriptionStyleModel",
            "_view_count": null,
            "_view_module": "@jupyter-widgets/base",
            "_view_module_version": "1.2.0",
            "_view_name": "StyleView",
            "description_width": ""
          }
        },
        "f5f9e994c55f40809bfce15215fd4c20": {
          "model_module": "@jupyter-widgets/base",
          "model_name": "LayoutModel",
          "model_module_version": "1.2.0",
          "state": {
            "_model_module": "@jupyter-widgets/base",
            "_model_module_version": "1.2.0",
            "_model_name": "LayoutModel",
            "_view_count": null,
            "_view_module": "@jupyter-widgets/base",
            "_view_module_version": "1.2.0",
            "_view_name": "LayoutView",
            "align_content": null,
            "align_items": null,
            "align_self": null,
            "border": null,
            "bottom": null,
            "display": null,
            "flex": null,
            "flex_flow": null,
            "grid_area": null,
            "grid_auto_columns": null,
            "grid_auto_flow": null,
            "grid_auto_rows": null,
            "grid_column": null,
            "grid_gap": null,
            "grid_row": null,
            "grid_template_areas": null,
            "grid_template_columns": null,
            "grid_template_rows": null,
            "height": null,
            "justify_content": null,
            "justify_items": null,
            "left": null,
            "margin": null,
            "max_height": null,
            "max_width": null,
            "min_height": null,
            "min_width": null,
            "object_fit": null,
            "object_position": null,
            "order": null,
            "overflow": null,
            "overflow_x": null,
            "overflow_y": null,
            "padding": null,
            "right": null,
            "top": null,
            "visibility": null,
            "width": null
          }
        },
        "fc54f4a5e3734c8f9d75e13c3fd6f061": {
          "model_module": "@jupyter-widgets/controls",
          "model_name": "ProgressStyleModel",
          "model_module_version": "1.5.0",
          "state": {
            "_model_module": "@jupyter-widgets/controls",
            "_model_module_version": "1.5.0",
            "_model_name": "ProgressStyleModel",
            "_view_count": null,
            "_view_module": "@jupyter-widgets/base",
            "_view_module_version": "1.2.0",
            "_view_name": "StyleView",
            "bar_color": null,
            "description_width": ""
          }
        },
        "1ca04c05fa8747aca855d386465b5ae2": {
          "model_module": "@jupyter-widgets/base",
          "model_name": "LayoutModel",
          "model_module_version": "1.2.0",
          "state": {
            "_model_module": "@jupyter-widgets/base",
            "_model_module_version": "1.2.0",
            "_model_name": "LayoutModel",
            "_view_count": null,
            "_view_module": "@jupyter-widgets/base",
            "_view_module_version": "1.2.0",
            "_view_name": "LayoutView",
            "align_content": null,
            "align_items": null,
            "align_self": null,
            "border": null,
            "bottom": null,
            "display": null,
            "flex": null,
            "flex_flow": null,
            "grid_area": null,
            "grid_auto_columns": null,
            "grid_auto_flow": null,
            "grid_auto_rows": null,
            "grid_column": null,
            "grid_gap": null,
            "grid_row": null,
            "grid_template_areas": null,
            "grid_template_columns": null,
            "grid_template_rows": null,
            "height": null,
            "justify_content": null,
            "justify_items": null,
            "left": null,
            "margin": null,
            "max_height": null,
            "max_width": null,
            "min_height": null,
            "min_width": null,
            "object_fit": null,
            "object_position": null,
            "order": null,
            "overflow": null,
            "overflow_x": null,
            "overflow_y": null,
            "padding": null,
            "right": null,
            "top": null,
            "visibility": null,
            "width": null
          }
        },
        "965c729e8a714776b0c88a879077c02c": {
          "model_module": "@jupyter-widgets/controls",
          "model_name": "DescriptionStyleModel",
          "model_module_version": "1.5.0",
          "state": {
            "_model_module": "@jupyter-widgets/controls",
            "_model_module_version": "1.5.0",
            "_model_name": "DescriptionStyleModel",
            "_view_count": null,
            "_view_module": "@jupyter-widgets/base",
            "_view_module_version": "1.2.0",
            "_view_name": "StyleView",
            "description_width": ""
          }
        },
        "2ad990f4eab14bdaa667b1f04ffcbbb1": {
          "model_module": "@jupyter-widgets/controls",
          "model_name": "HBoxModel",
          "model_module_version": "1.5.0",
          "state": {
            "_dom_classes": [],
            "_model_module": "@jupyter-widgets/controls",
            "_model_module_version": "1.5.0",
            "_model_name": "HBoxModel",
            "_view_count": null,
            "_view_module": "@jupyter-widgets/controls",
            "_view_module_version": "1.5.0",
            "_view_name": "HBoxView",
            "box_style": "",
            "children": [
              "IPY_MODEL_c3ac131a847441218f3f939e86b20aaa",
              "IPY_MODEL_0877ad2297134ed19eaca26e3bab2e21",
              "IPY_MODEL_5bb514b43c6d442a8a192d719dee1a0e"
            ],
            "layout": "IPY_MODEL_a5ee48c13b614344920393e17b1d83b4"
          }
        },
        "c3ac131a847441218f3f939e86b20aaa": {
          "model_module": "@jupyter-widgets/controls",
          "model_name": "HTMLModel",
          "model_module_version": "1.5.0",
          "state": {
            "_dom_classes": [],
            "_model_module": "@jupyter-widgets/controls",
            "_model_module_version": "1.5.0",
            "_model_name": "HTMLModel",
            "_view_count": null,
            "_view_module": "@jupyter-widgets/controls",
            "_view_module_version": "1.5.0",
            "_view_name": "HTMLView",
            "description": "",
            "description_tooltip": null,
            "layout": "IPY_MODEL_756d78da838c4d4db47b7cd0d58ae76f",
            "placeholder": "​",
            "style": "IPY_MODEL_8d85faf4388146f79162f80e3147ace2",
            "value": "100%"
          }
        },
        "0877ad2297134ed19eaca26e3bab2e21": {
          "model_module": "@jupyter-widgets/controls",
          "model_name": "FloatProgressModel",
          "model_module_version": "1.5.0",
          "state": {
            "_dom_classes": [],
            "_model_module": "@jupyter-widgets/controls",
            "_model_module_version": "1.5.0",
            "_model_name": "FloatProgressModel",
            "_view_count": null,
            "_view_module": "@jupyter-widgets/controls",
            "_view_module_version": "1.5.0",
            "_view_name": "ProgressView",
            "bar_style": "success",
            "description": "",
            "description_tooltip": null,
            "layout": "IPY_MODEL_a684b1ff975b4b1a89867478ce309394",
            "max": 10,
            "min": 0,
            "orientation": "horizontal",
            "style": "IPY_MODEL_2f56f379f6ab42f5b64b62fd18c87086",
            "value": 10
          }
        },
        "5bb514b43c6d442a8a192d719dee1a0e": {
          "model_module": "@jupyter-widgets/controls",
          "model_name": "HTMLModel",
          "model_module_version": "1.5.0",
          "state": {
            "_dom_classes": [],
            "_model_module": "@jupyter-widgets/controls",
            "_model_module_version": "1.5.0",
            "_model_name": "HTMLModel",
            "_view_count": null,
            "_view_module": "@jupyter-widgets/controls",
            "_view_module_version": "1.5.0",
            "_view_name": "HTMLView",
            "description": "",
            "description_tooltip": null,
            "layout": "IPY_MODEL_c3a456ac3e9f494685e63de93108cfcd",
            "placeholder": "​",
            "style": "IPY_MODEL_b7c1ce947e8742b0b4560f77d9cf3a19",
            "value": " 10/10 [17:22&lt;00:00, 74.78s/it]"
          }
        },
        "a5ee48c13b614344920393e17b1d83b4": {
          "model_module": "@jupyter-widgets/base",
          "model_name": "LayoutModel",
          "model_module_version": "1.2.0",
          "state": {
            "_model_module": "@jupyter-widgets/base",
            "_model_module_version": "1.2.0",
            "_model_name": "LayoutModel",
            "_view_count": null,
            "_view_module": "@jupyter-widgets/base",
            "_view_module_version": "1.2.0",
            "_view_name": "LayoutView",
            "align_content": null,
            "align_items": null,
            "align_self": null,
            "border": null,
            "bottom": null,
            "display": null,
            "flex": null,
            "flex_flow": null,
            "grid_area": null,
            "grid_auto_columns": null,
            "grid_auto_flow": null,
            "grid_auto_rows": null,
            "grid_column": null,
            "grid_gap": null,
            "grid_row": null,
            "grid_template_areas": null,
            "grid_template_columns": null,
            "grid_template_rows": null,
            "height": null,
            "justify_content": null,
            "justify_items": null,
            "left": null,
            "margin": null,
            "max_height": null,
            "max_width": null,
            "min_height": null,
            "min_width": null,
            "object_fit": null,
            "object_position": null,
            "order": null,
            "overflow": null,
            "overflow_x": null,
            "overflow_y": null,
            "padding": null,
            "right": null,
            "top": null,
            "visibility": null,
            "width": null
          }
        },
        "756d78da838c4d4db47b7cd0d58ae76f": {
          "model_module": "@jupyter-widgets/base",
          "model_name": "LayoutModel",
          "model_module_version": "1.2.0",
          "state": {
            "_model_module": "@jupyter-widgets/base",
            "_model_module_version": "1.2.0",
            "_model_name": "LayoutModel",
            "_view_count": null,
            "_view_module": "@jupyter-widgets/base",
            "_view_module_version": "1.2.0",
            "_view_name": "LayoutView",
            "align_content": null,
            "align_items": null,
            "align_self": null,
            "border": null,
            "bottom": null,
            "display": null,
            "flex": null,
            "flex_flow": null,
            "grid_area": null,
            "grid_auto_columns": null,
            "grid_auto_flow": null,
            "grid_auto_rows": null,
            "grid_column": null,
            "grid_gap": null,
            "grid_row": null,
            "grid_template_areas": null,
            "grid_template_columns": null,
            "grid_template_rows": null,
            "height": null,
            "justify_content": null,
            "justify_items": null,
            "left": null,
            "margin": null,
            "max_height": null,
            "max_width": null,
            "min_height": null,
            "min_width": null,
            "object_fit": null,
            "object_position": null,
            "order": null,
            "overflow": null,
            "overflow_x": null,
            "overflow_y": null,
            "padding": null,
            "right": null,
            "top": null,
            "visibility": null,
            "width": null
          }
        },
        "8d85faf4388146f79162f80e3147ace2": {
          "model_module": "@jupyter-widgets/controls",
          "model_name": "DescriptionStyleModel",
          "model_module_version": "1.5.0",
          "state": {
            "_model_module": "@jupyter-widgets/controls",
            "_model_module_version": "1.5.0",
            "_model_name": "DescriptionStyleModel",
            "_view_count": null,
            "_view_module": "@jupyter-widgets/base",
            "_view_module_version": "1.2.0",
            "_view_name": "StyleView",
            "description_width": ""
          }
        },
        "a684b1ff975b4b1a89867478ce309394": {
          "model_module": "@jupyter-widgets/base",
          "model_name": "LayoutModel",
          "model_module_version": "1.2.0",
          "state": {
            "_model_module": "@jupyter-widgets/base",
            "_model_module_version": "1.2.0",
            "_model_name": "LayoutModel",
            "_view_count": null,
            "_view_module": "@jupyter-widgets/base",
            "_view_module_version": "1.2.0",
            "_view_name": "LayoutView",
            "align_content": null,
            "align_items": null,
            "align_self": null,
            "border": null,
            "bottom": null,
            "display": null,
            "flex": null,
            "flex_flow": null,
            "grid_area": null,
            "grid_auto_columns": null,
            "grid_auto_flow": null,
            "grid_auto_rows": null,
            "grid_column": null,
            "grid_gap": null,
            "grid_row": null,
            "grid_template_areas": null,
            "grid_template_columns": null,
            "grid_template_rows": null,
            "height": null,
            "justify_content": null,
            "justify_items": null,
            "left": null,
            "margin": null,
            "max_height": null,
            "max_width": null,
            "min_height": null,
            "min_width": null,
            "object_fit": null,
            "object_position": null,
            "order": null,
            "overflow": null,
            "overflow_x": null,
            "overflow_y": null,
            "padding": null,
            "right": null,
            "top": null,
            "visibility": null,
            "width": null
          }
        },
        "2f56f379f6ab42f5b64b62fd18c87086": {
          "model_module": "@jupyter-widgets/controls",
          "model_name": "ProgressStyleModel",
          "model_module_version": "1.5.0",
          "state": {
            "_model_module": "@jupyter-widgets/controls",
            "_model_module_version": "1.5.0",
            "_model_name": "ProgressStyleModel",
            "_view_count": null,
            "_view_module": "@jupyter-widgets/base",
            "_view_module_version": "1.2.0",
            "_view_name": "StyleView",
            "bar_color": null,
            "description_width": ""
          }
        },
        "c3a456ac3e9f494685e63de93108cfcd": {
          "model_module": "@jupyter-widgets/base",
          "model_name": "LayoutModel",
          "model_module_version": "1.2.0",
          "state": {
            "_model_module": "@jupyter-widgets/base",
            "_model_module_version": "1.2.0",
            "_model_name": "LayoutModel",
            "_view_count": null,
            "_view_module": "@jupyter-widgets/base",
            "_view_module_version": "1.2.0",
            "_view_name": "LayoutView",
            "align_content": null,
            "align_items": null,
            "align_self": null,
            "border": null,
            "bottom": null,
            "display": null,
            "flex": null,
            "flex_flow": null,
            "grid_area": null,
            "grid_auto_columns": null,
            "grid_auto_flow": null,
            "grid_auto_rows": null,
            "grid_column": null,
            "grid_gap": null,
            "grid_row": null,
            "grid_template_areas": null,
            "grid_template_columns": null,
            "grid_template_rows": null,
            "height": null,
            "justify_content": null,
            "justify_items": null,
            "left": null,
            "margin": null,
            "max_height": null,
            "max_width": null,
            "min_height": null,
            "min_width": null,
            "object_fit": null,
            "object_position": null,
            "order": null,
            "overflow": null,
            "overflow_x": null,
            "overflow_y": null,
            "padding": null,
            "right": null,
            "top": null,
            "visibility": null,
            "width": null
          }
        },
        "b7c1ce947e8742b0b4560f77d9cf3a19": {
          "model_module": "@jupyter-widgets/controls",
          "model_name": "DescriptionStyleModel",
          "model_module_version": "1.5.0",
          "state": {
            "_model_module": "@jupyter-widgets/controls",
            "_model_module_version": "1.5.0",
            "_model_name": "DescriptionStyleModel",
            "_view_count": null,
            "_view_module": "@jupyter-widgets/base",
            "_view_module_version": "1.2.0",
            "_view_name": "StyleView",
            "description_width": ""
          }
        },
        "e4a4fe2135f34144b3ce2c1e43babf99": {
          "model_module": "@jupyter-widgets/controls",
          "model_name": "HBoxModel",
          "model_module_version": "1.5.0",
          "state": {
            "_dom_classes": [],
            "_model_module": "@jupyter-widgets/controls",
            "_model_module_version": "1.5.0",
            "_model_name": "HBoxModel",
            "_view_count": null,
            "_view_module": "@jupyter-widgets/controls",
            "_view_module_version": "1.5.0",
            "_view_name": "HBoxView",
            "box_style": "",
            "children": [
              "IPY_MODEL_58ddee71eee943c09a34f29630ac05ce",
              "IPY_MODEL_66ac9ffd12384d93886d002a7b424eee",
              "IPY_MODEL_56937761518b4f93b18243e135530216"
            ],
            "layout": "IPY_MODEL_cc09bd320f744f169ab6fbdab333673c"
          }
        },
        "58ddee71eee943c09a34f29630ac05ce": {
          "model_module": "@jupyter-widgets/controls",
          "model_name": "HTMLModel",
          "model_module_version": "1.5.0",
          "state": {
            "_dom_classes": [],
            "_model_module": "@jupyter-widgets/controls",
            "_model_module_version": "1.5.0",
            "_model_name": "HTMLModel",
            "_view_count": null,
            "_view_module": "@jupyter-widgets/controls",
            "_view_module_version": "1.5.0",
            "_view_name": "HTMLView",
            "description": "",
            "description_tooltip": null,
            "layout": "IPY_MODEL_a942dc51ca7a4ee0b731af2a6e9bef1f",
            "placeholder": "​",
            "style": "IPY_MODEL_e470f531cbee4ff8ba696172b3c00265",
            "value": "100%"
          }
        },
        "66ac9ffd12384d93886d002a7b424eee": {
          "model_module": "@jupyter-widgets/controls",
          "model_name": "FloatProgressModel",
          "model_module_version": "1.5.0",
          "state": {
            "_dom_classes": [],
            "_model_module": "@jupyter-widgets/controls",
            "_model_module_version": "1.5.0",
            "_model_name": "FloatProgressModel",
            "_view_count": null,
            "_view_module": "@jupyter-widgets/controls",
            "_view_module_version": "1.5.0",
            "_view_name": "ProgressView",
            "bar_style": "success",
            "description": "",
            "description_tooltip": null,
            "layout": "IPY_MODEL_4db5cddf80f1455fb141048dd80e6d6f",
            "max": 20,
            "min": 0,
            "orientation": "horizontal",
            "style": "IPY_MODEL_d2eb56cfa95f40caaf5ab1afffa12b8b",
            "value": 20
          }
        },
        "56937761518b4f93b18243e135530216": {
          "model_module": "@jupyter-widgets/controls",
          "model_name": "HTMLModel",
          "model_module_version": "1.5.0",
          "state": {
            "_dom_classes": [],
            "_model_module": "@jupyter-widgets/controls",
            "_model_module_version": "1.5.0",
            "_model_name": "HTMLModel",
            "_view_count": null,
            "_view_module": "@jupyter-widgets/controls",
            "_view_module_version": "1.5.0",
            "_view_name": "HTMLView",
            "description": "",
            "description_tooltip": null,
            "layout": "IPY_MODEL_d56c7226cbea4f98a2aba8601a14d83d",
            "placeholder": "​",
            "style": "IPY_MODEL_990c7847316d4bca993b57b5e718bb1f",
            "value": " 20/20 [43:30&lt;00:00, 130.23s/it]"
          }
        },
        "cc09bd320f744f169ab6fbdab333673c": {
          "model_module": "@jupyter-widgets/base",
          "model_name": "LayoutModel",
          "model_module_version": "1.2.0",
          "state": {
            "_model_module": "@jupyter-widgets/base",
            "_model_module_version": "1.2.0",
            "_model_name": "LayoutModel",
            "_view_count": null,
            "_view_module": "@jupyter-widgets/base",
            "_view_module_version": "1.2.0",
            "_view_name": "LayoutView",
            "align_content": null,
            "align_items": null,
            "align_self": null,
            "border": null,
            "bottom": null,
            "display": null,
            "flex": null,
            "flex_flow": null,
            "grid_area": null,
            "grid_auto_columns": null,
            "grid_auto_flow": null,
            "grid_auto_rows": null,
            "grid_column": null,
            "grid_gap": null,
            "grid_row": null,
            "grid_template_areas": null,
            "grid_template_columns": null,
            "grid_template_rows": null,
            "height": null,
            "justify_content": null,
            "justify_items": null,
            "left": null,
            "margin": null,
            "max_height": null,
            "max_width": null,
            "min_height": null,
            "min_width": null,
            "object_fit": null,
            "object_position": null,
            "order": null,
            "overflow": null,
            "overflow_x": null,
            "overflow_y": null,
            "padding": null,
            "right": null,
            "top": null,
            "visibility": null,
            "width": null
          }
        },
        "a942dc51ca7a4ee0b731af2a6e9bef1f": {
          "model_module": "@jupyter-widgets/base",
          "model_name": "LayoutModel",
          "model_module_version": "1.2.0",
          "state": {
            "_model_module": "@jupyter-widgets/base",
            "_model_module_version": "1.2.0",
            "_model_name": "LayoutModel",
            "_view_count": null,
            "_view_module": "@jupyter-widgets/base",
            "_view_module_version": "1.2.0",
            "_view_name": "LayoutView",
            "align_content": null,
            "align_items": null,
            "align_self": null,
            "border": null,
            "bottom": null,
            "display": null,
            "flex": null,
            "flex_flow": null,
            "grid_area": null,
            "grid_auto_columns": null,
            "grid_auto_flow": null,
            "grid_auto_rows": null,
            "grid_column": null,
            "grid_gap": null,
            "grid_row": null,
            "grid_template_areas": null,
            "grid_template_columns": null,
            "grid_template_rows": null,
            "height": null,
            "justify_content": null,
            "justify_items": null,
            "left": null,
            "margin": null,
            "max_height": null,
            "max_width": null,
            "min_height": null,
            "min_width": null,
            "object_fit": null,
            "object_position": null,
            "order": null,
            "overflow": null,
            "overflow_x": null,
            "overflow_y": null,
            "padding": null,
            "right": null,
            "top": null,
            "visibility": null,
            "width": null
          }
        },
        "e470f531cbee4ff8ba696172b3c00265": {
          "model_module": "@jupyter-widgets/controls",
          "model_name": "DescriptionStyleModel",
          "model_module_version": "1.5.0",
          "state": {
            "_model_module": "@jupyter-widgets/controls",
            "_model_module_version": "1.5.0",
            "_model_name": "DescriptionStyleModel",
            "_view_count": null,
            "_view_module": "@jupyter-widgets/base",
            "_view_module_version": "1.2.0",
            "_view_name": "StyleView",
            "description_width": ""
          }
        },
        "4db5cddf80f1455fb141048dd80e6d6f": {
          "model_module": "@jupyter-widgets/base",
          "model_name": "LayoutModel",
          "model_module_version": "1.2.0",
          "state": {
            "_model_module": "@jupyter-widgets/base",
            "_model_module_version": "1.2.0",
            "_model_name": "LayoutModel",
            "_view_count": null,
            "_view_module": "@jupyter-widgets/base",
            "_view_module_version": "1.2.0",
            "_view_name": "LayoutView",
            "align_content": null,
            "align_items": null,
            "align_self": null,
            "border": null,
            "bottom": null,
            "display": null,
            "flex": null,
            "flex_flow": null,
            "grid_area": null,
            "grid_auto_columns": null,
            "grid_auto_flow": null,
            "grid_auto_rows": null,
            "grid_column": null,
            "grid_gap": null,
            "grid_row": null,
            "grid_template_areas": null,
            "grid_template_columns": null,
            "grid_template_rows": null,
            "height": null,
            "justify_content": null,
            "justify_items": null,
            "left": null,
            "margin": null,
            "max_height": null,
            "max_width": null,
            "min_height": null,
            "min_width": null,
            "object_fit": null,
            "object_position": null,
            "order": null,
            "overflow": null,
            "overflow_x": null,
            "overflow_y": null,
            "padding": null,
            "right": null,
            "top": null,
            "visibility": null,
            "width": null
          }
        },
        "d2eb56cfa95f40caaf5ab1afffa12b8b": {
          "model_module": "@jupyter-widgets/controls",
          "model_name": "ProgressStyleModel",
          "model_module_version": "1.5.0",
          "state": {
            "_model_module": "@jupyter-widgets/controls",
            "_model_module_version": "1.5.0",
            "_model_name": "ProgressStyleModel",
            "_view_count": null,
            "_view_module": "@jupyter-widgets/base",
            "_view_module_version": "1.2.0",
            "_view_name": "StyleView",
            "bar_color": null,
            "description_width": ""
          }
        },
        "d56c7226cbea4f98a2aba8601a14d83d": {
          "model_module": "@jupyter-widgets/base",
          "model_name": "LayoutModel",
          "model_module_version": "1.2.0",
          "state": {
            "_model_module": "@jupyter-widgets/base",
            "_model_module_version": "1.2.0",
            "_model_name": "LayoutModel",
            "_view_count": null,
            "_view_module": "@jupyter-widgets/base",
            "_view_module_version": "1.2.0",
            "_view_name": "LayoutView",
            "align_content": null,
            "align_items": null,
            "align_self": null,
            "border": null,
            "bottom": null,
            "display": null,
            "flex": null,
            "flex_flow": null,
            "grid_area": null,
            "grid_auto_columns": null,
            "grid_auto_flow": null,
            "grid_auto_rows": null,
            "grid_column": null,
            "grid_gap": null,
            "grid_row": null,
            "grid_template_areas": null,
            "grid_template_columns": null,
            "grid_template_rows": null,
            "height": null,
            "justify_content": null,
            "justify_items": null,
            "left": null,
            "margin": null,
            "max_height": null,
            "max_width": null,
            "min_height": null,
            "min_width": null,
            "object_fit": null,
            "object_position": null,
            "order": null,
            "overflow": null,
            "overflow_x": null,
            "overflow_y": null,
            "padding": null,
            "right": null,
            "top": null,
            "visibility": null,
            "width": null
          }
        },
        "990c7847316d4bca993b57b5e718bb1f": {
          "model_module": "@jupyter-widgets/controls",
          "model_name": "DescriptionStyleModel",
          "model_module_version": "1.5.0",
          "state": {
            "_model_module": "@jupyter-widgets/controls",
            "_model_module_version": "1.5.0",
            "_model_name": "DescriptionStyleModel",
            "_view_count": null,
            "_view_module": "@jupyter-widgets/base",
            "_view_module_version": "1.2.0",
            "_view_name": "StyleView",
            "description_width": ""
          }
        },
        "fb9ce2a18a774018882e26508c0693f1": {
          "model_module": "@jupyter-widgets/controls",
          "model_name": "HBoxModel",
          "model_module_version": "1.5.0",
          "state": {
            "_dom_classes": [],
            "_model_module": "@jupyter-widgets/controls",
            "_model_module_version": "1.5.0",
            "_model_name": "HBoxModel",
            "_view_count": null,
            "_view_module": "@jupyter-widgets/controls",
            "_view_module_version": "1.5.0",
            "_view_name": "HBoxView",
            "box_style": "",
            "children": [
              "IPY_MODEL_becafba89b4a43f4bac954357112c1b9",
              "IPY_MODEL_2acdbe818f9f4b1d93ea73f19f17baed",
              "IPY_MODEL_7fca99a401134a5abd83c3f7f8b5ff71"
            ],
            "layout": "IPY_MODEL_a790356ceff14ab185388e7e65e2566b"
          }
        },
        "becafba89b4a43f4bac954357112c1b9": {
          "model_module": "@jupyter-widgets/controls",
          "model_name": "HTMLModel",
          "model_module_version": "1.5.0",
          "state": {
            "_dom_classes": [],
            "_model_module": "@jupyter-widgets/controls",
            "_model_module_version": "1.5.0",
            "_model_name": "HTMLModel",
            "_view_count": null,
            "_view_module": "@jupyter-widgets/controls",
            "_view_module_version": "1.5.0",
            "_view_name": "HTMLView",
            "description": "",
            "description_tooltip": null,
            "layout": "IPY_MODEL_6ae992e6ac714e1ab2c7712cb7b3592a",
            "placeholder": "​",
            "style": "IPY_MODEL_24a7df471a114da8b0e55c5674e253ed",
            "value": "100%"
          }
        },
        "2acdbe818f9f4b1d93ea73f19f17baed": {
          "model_module": "@jupyter-widgets/controls",
          "model_name": "FloatProgressModel",
          "model_module_version": "1.5.0",
          "state": {
            "_dom_classes": [],
            "_model_module": "@jupyter-widgets/controls",
            "_model_module_version": "1.5.0",
            "_model_name": "FloatProgressModel",
            "_view_count": null,
            "_view_module": "@jupyter-widgets/controls",
            "_view_module_version": "1.5.0",
            "_view_name": "ProgressView",
            "bar_style": "success",
            "description": "",
            "description_tooltip": null,
            "layout": "IPY_MODEL_f074843175ae440e91bb96b89cc45ada",
            "max": 204,
            "min": 0,
            "orientation": "horizontal",
            "style": "IPY_MODEL_cf89a7cd44eb4e3e8388d0a08947823c",
            "value": 204
          }
        },
        "7fca99a401134a5abd83c3f7f8b5ff71": {
          "model_module": "@jupyter-widgets/controls",
          "model_name": "HTMLModel",
          "model_module_version": "1.5.0",
          "state": {
            "_dom_classes": [],
            "_model_module": "@jupyter-widgets/controls",
            "_model_module_version": "1.5.0",
            "_model_name": "HTMLModel",
            "_view_count": null,
            "_view_module": "@jupyter-widgets/controls",
            "_view_module_version": "1.5.0",
            "_view_name": "HTMLView",
            "description": "",
            "description_tooltip": null,
            "layout": "IPY_MODEL_08df7e07011e48a5b4046d67570db855",
            "placeholder": "​",
            "style": "IPY_MODEL_6d528a8ec56748fbbc8c803cb12fc001",
            "value": " 204/204 [05:45&lt;00:00,  1.91s/it]"
          }
        },
        "a790356ceff14ab185388e7e65e2566b": {
          "model_module": "@jupyter-widgets/base",
          "model_name": "LayoutModel",
          "model_module_version": "1.2.0",
          "state": {
            "_model_module": "@jupyter-widgets/base",
            "_model_module_version": "1.2.0",
            "_model_name": "LayoutModel",
            "_view_count": null,
            "_view_module": "@jupyter-widgets/base",
            "_view_module_version": "1.2.0",
            "_view_name": "LayoutView",
            "align_content": null,
            "align_items": null,
            "align_self": null,
            "border": null,
            "bottom": null,
            "display": null,
            "flex": null,
            "flex_flow": null,
            "grid_area": null,
            "grid_auto_columns": null,
            "grid_auto_flow": null,
            "grid_auto_rows": null,
            "grid_column": null,
            "grid_gap": null,
            "grid_row": null,
            "grid_template_areas": null,
            "grid_template_columns": null,
            "grid_template_rows": null,
            "height": null,
            "justify_content": null,
            "justify_items": null,
            "left": null,
            "margin": null,
            "max_height": null,
            "max_width": null,
            "min_height": null,
            "min_width": null,
            "object_fit": null,
            "object_position": null,
            "order": null,
            "overflow": null,
            "overflow_x": null,
            "overflow_y": null,
            "padding": null,
            "right": null,
            "top": null,
            "visibility": null,
            "width": null
          }
        },
        "6ae992e6ac714e1ab2c7712cb7b3592a": {
          "model_module": "@jupyter-widgets/base",
          "model_name": "LayoutModel",
          "model_module_version": "1.2.0",
          "state": {
            "_model_module": "@jupyter-widgets/base",
            "_model_module_version": "1.2.0",
            "_model_name": "LayoutModel",
            "_view_count": null,
            "_view_module": "@jupyter-widgets/base",
            "_view_module_version": "1.2.0",
            "_view_name": "LayoutView",
            "align_content": null,
            "align_items": null,
            "align_self": null,
            "border": null,
            "bottom": null,
            "display": null,
            "flex": null,
            "flex_flow": null,
            "grid_area": null,
            "grid_auto_columns": null,
            "grid_auto_flow": null,
            "grid_auto_rows": null,
            "grid_column": null,
            "grid_gap": null,
            "grid_row": null,
            "grid_template_areas": null,
            "grid_template_columns": null,
            "grid_template_rows": null,
            "height": null,
            "justify_content": null,
            "justify_items": null,
            "left": null,
            "margin": null,
            "max_height": null,
            "max_width": null,
            "min_height": null,
            "min_width": null,
            "object_fit": null,
            "object_position": null,
            "order": null,
            "overflow": null,
            "overflow_x": null,
            "overflow_y": null,
            "padding": null,
            "right": null,
            "top": null,
            "visibility": null,
            "width": null
          }
        },
        "24a7df471a114da8b0e55c5674e253ed": {
          "model_module": "@jupyter-widgets/controls",
          "model_name": "DescriptionStyleModel",
          "model_module_version": "1.5.0",
          "state": {
            "_model_module": "@jupyter-widgets/controls",
            "_model_module_version": "1.5.0",
            "_model_name": "DescriptionStyleModel",
            "_view_count": null,
            "_view_module": "@jupyter-widgets/base",
            "_view_module_version": "1.2.0",
            "_view_name": "StyleView",
            "description_width": ""
          }
        },
        "f074843175ae440e91bb96b89cc45ada": {
          "model_module": "@jupyter-widgets/base",
          "model_name": "LayoutModel",
          "model_module_version": "1.2.0",
          "state": {
            "_model_module": "@jupyter-widgets/base",
            "_model_module_version": "1.2.0",
            "_model_name": "LayoutModel",
            "_view_count": null,
            "_view_module": "@jupyter-widgets/base",
            "_view_module_version": "1.2.0",
            "_view_name": "LayoutView",
            "align_content": null,
            "align_items": null,
            "align_self": null,
            "border": null,
            "bottom": null,
            "display": null,
            "flex": null,
            "flex_flow": null,
            "grid_area": null,
            "grid_auto_columns": null,
            "grid_auto_flow": null,
            "grid_auto_rows": null,
            "grid_column": null,
            "grid_gap": null,
            "grid_row": null,
            "grid_template_areas": null,
            "grid_template_columns": null,
            "grid_template_rows": null,
            "height": null,
            "justify_content": null,
            "justify_items": null,
            "left": null,
            "margin": null,
            "max_height": null,
            "max_width": null,
            "min_height": null,
            "min_width": null,
            "object_fit": null,
            "object_position": null,
            "order": null,
            "overflow": null,
            "overflow_x": null,
            "overflow_y": null,
            "padding": null,
            "right": null,
            "top": null,
            "visibility": null,
            "width": null
          }
        },
        "cf89a7cd44eb4e3e8388d0a08947823c": {
          "model_module": "@jupyter-widgets/controls",
          "model_name": "ProgressStyleModel",
          "model_module_version": "1.5.0",
          "state": {
            "_model_module": "@jupyter-widgets/controls",
            "_model_module_version": "1.5.0",
            "_model_name": "ProgressStyleModel",
            "_view_count": null,
            "_view_module": "@jupyter-widgets/base",
            "_view_module_version": "1.2.0",
            "_view_name": "StyleView",
            "bar_color": null,
            "description_width": ""
          }
        },
        "08df7e07011e48a5b4046d67570db855": {
          "model_module": "@jupyter-widgets/base",
          "model_name": "LayoutModel",
          "model_module_version": "1.2.0",
          "state": {
            "_model_module": "@jupyter-widgets/base",
            "_model_module_version": "1.2.0",
            "_model_name": "LayoutModel",
            "_view_count": null,
            "_view_module": "@jupyter-widgets/base",
            "_view_module_version": "1.2.0",
            "_view_name": "LayoutView",
            "align_content": null,
            "align_items": null,
            "align_self": null,
            "border": null,
            "bottom": null,
            "display": null,
            "flex": null,
            "flex_flow": null,
            "grid_area": null,
            "grid_auto_columns": null,
            "grid_auto_flow": null,
            "grid_auto_rows": null,
            "grid_column": null,
            "grid_gap": null,
            "grid_row": null,
            "grid_template_areas": null,
            "grid_template_columns": null,
            "grid_template_rows": null,
            "height": null,
            "justify_content": null,
            "justify_items": null,
            "left": null,
            "margin": null,
            "max_height": null,
            "max_width": null,
            "min_height": null,
            "min_width": null,
            "object_fit": null,
            "object_position": null,
            "order": null,
            "overflow": null,
            "overflow_x": null,
            "overflow_y": null,
            "padding": null,
            "right": null,
            "top": null,
            "visibility": null,
            "width": null
          }
        },
        "6d528a8ec56748fbbc8c803cb12fc001": {
          "model_module": "@jupyter-widgets/controls",
          "model_name": "DescriptionStyleModel",
          "model_module_version": "1.5.0",
          "state": {
            "_model_module": "@jupyter-widgets/controls",
            "_model_module_version": "1.5.0",
            "_model_name": "DescriptionStyleModel",
            "_view_count": null,
            "_view_module": "@jupyter-widgets/base",
            "_view_module_version": "1.2.0",
            "_view_name": "StyleView",
            "description_width": ""
          }
        }
      }
    }
  },
  "cells": [
    {
      "cell_type": "markdown",
      "metadata": {
        "id": "view-in-github",
        "colab_type": "text"
      },
      "source": [
        "<a href=\"https://colab.research.google.com/github/jfink09/DeepFundus/blob/main/Copy_of_DeepFundus_eightclasses.ipynb\" target=\"_parent\"><img src=\"https://colab.research.google.com/assets/colab-badge.svg\" alt=\"Open In Colab\"/></a>"
      ]
    },
    {
      "cell_type": "code",
      "execution_count": null,
      "metadata": {
        "id": "4ZZ83Iekn4Xx"
      },
      "outputs": [],
      "source": [
        "######################################################### Use block of code if dataset is on GitHub #######################################################\n",
        "# import os\n",
        "# import requests\n",
        "# import zipfile\n",
        "# from pathlib import Path\n",
        "\n",
        "# # Setup path to data folder\n",
        "# data_path = Path(\"data/\")\n",
        "# image_path = data_path / \"deepfundus\"\n",
        "\n",
        "# # If the image folder doesn't exist, download it and prepare it... \n",
        "# if image_path.is_dir():\n",
        "#     print(f\"{image_path} directory exists.\")\n",
        "# else:\n",
        "#     print(f\"Did not find {image_path} directory, creating one...\")\n",
        "#     image_path.mkdir(parents=True, exist_ok=True)\n",
        "\n",
        "# # Download fundus data\n",
        "# with open(data_path / \"deepfundus.zip\", \"wb\") as f:\n",
        "#     request = requests.get(\"https://github.com/jfink09/DeepFundus/raw/main/deepfundus.zip\")\n",
        "#     print(\"Downloading fundus data...\")\n",
        "#     f.write(request.content)\n",
        "\n",
        "# # Unzip fundus data\n",
        "# with zipfile.ZipFile(data_path / \"deepfundus.zip\", \"r\") as zip_ref:\n",
        "#     print(\"Unzipping fundus data...\") \n",
        "#     zip_ref.extractall(image_path)\n",
        "\n",
        "# # Remove zip file\n",
        "# os.remove(data_path / \"deepfundus.zip\")"
      ]
    },
    {
      "cell_type": "code",
      "source": [
        "######################################### Use commented out code if dataset was downloaded from GitHub ######################################################\n",
        "# # Setup train and testing paths\n",
        "# train_dir = image_path / \"train\"\n",
        "# test_dir = image_path / \"test\"\n",
        "\n",
        "# train_dir, test_dir\n",
        "from pathlib import Path"
      ],
      "metadata": {
        "id": "VwLUU9PMn7q6"
      },
      "execution_count": null,
      "outputs": []
    },
    {
      "cell_type": "code",
      "source": [
        "# Setup train and testing paths\n",
        "train_dir = Path(\"drive/MyDrive/data/train\")\n",
        "test_dir = Path(\"drive/MyDrive/data/test\")\n",
        "\n",
        "train_dir, test_dir"
      ],
      "metadata": {
        "colab": {
          "base_uri": "https://localhost:8080/"
        },
        "id": "PPzE1L1vRnUr",
        "outputId": "77fefda8-4ff8-4dbd-ca41-bab595881882"
      },
      "execution_count": null,
      "outputs": [
        {
          "output_type": "execute_result",
          "data": {
            "text/plain": [
              "(PosixPath('drive/MyDrive/data/train'), PosixPath('drive/MyDrive/data/test'))"
            ]
          },
          "metadata": {},
          "execution_count": 3
        }
      ]
    },
    {
      "cell_type": "code",
      "source": [
        "from torchvision import datasets, transforms\n",
        "\n",
        "# Create simple transform\n",
        "data_transform = transforms.Compose([ \n",
        "    transforms.Resize((64, 64)),\n",
        "    transforms.ToTensor(),\n",
        "])\n",
        "\n",
        "# Use ImageFolder to create dataset(s)\n",
        "train_data = datasets.ImageFolder(root=train_dir, # target folder of images\n",
        "                                  transform=data_transform, # transforms to perform on data (images)\n",
        "                                  target_transform=None) # transforms to perform on labels (if necessary)\n",
        "\n",
        "test_data = datasets.ImageFolder(root=test_dir, \n",
        "                                 transform=data_transform)\n",
        "\n",
        "print(f\"Train data:\\n{train_data}\\nTest data:\\n{test_data}\")"
      ],
      "metadata": {
        "colab": {
          "base_uri": "https://localhost:8080/"
        },
        "id": "hwFI2yomqr5b",
        "outputId": "2a5504da-26e1-478e-d429-3deff82506b3"
      },
      "execution_count": null,
      "outputs": [
        {
          "output_type": "stream",
          "name": "stdout",
          "text": [
            "Train data:\n",
            "Dataset ImageFolder\n",
            "    Number of datapoints: 815\n",
            "    Root location: drive/MyDrive/data/train\n",
            "    StandardTransform\n",
            "Transform: Compose(\n",
            "               Resize(size=(64, 64), interpolation=bilinear, max_size=None, antialias=None)\n",
            "               ToTensor()\n",
            "           )\n",
            "Test data:\n",
            "Dataset ImageFolder\n",
            "    Number of datapoints: 204\n",
            "    Root location: drive/MyDrive/data/test\n",
            "    StandardTransform\n",
            "Transform: Compose(\n",
            "               Resize(size=(64, 64), interpolation=bilinear, max_size=None, antialias=None)\n",
            "               ToTensor()\n",
            "           )\n"
          ]
        }
      ]
    },
    {
      "cell_type": "code",
      "source": [
        "# For this notebook to run with updated APIs, we need torch 1.12+ and torchvision 0.13+\n",
        "try:\n",
        "    import torch\n",
        "    import torchvision\n",
        "    assert int(torch.__version__.split(\".\")[1]) >= 12, \"torch version should be 1.12+\"\n",
        "    assert int(torchvision.__version__.split(\".\")[1]) >= 13, \"torchvision version should be 0.13+\"\n",
        "    print(f\"torch version: {torch.__version__}\")\n",
        "    print(f\"torchvision version: {torchvision.__version__}\")\n",
        "except:\n",
        "    print(f\"[INFO] torch/torchvision versions not as required, installing nightly versions.\")\n",
        "    !pip3 install -U torch torchvision torchaudio --extra-index-url https://download.pytorch.org/whl/cu113\n",
        "    import torch\n",
        "    import torchvision\n",
        "    print(f\"torch version: {torch.__version__}\")\n",
        "    print(f\"torchvision version: {torchvision.__version__}\")"
      ],
      "metadata": {
        "id": "ZEDCvau_qxfb",
        "colab": {
          "base_uri": "https://localhost:8080/"
        },
        "outputId": "929335d9-6980-41fa-acdb-971713cd5cac"
      },
      "execution_count": null,
      "outputs": [
        {
          "output_type": "stream",
          "name": "stdout",
          "text": [
            "torch version: 1.13.1+cu116\n",
            "torchvision version: 0.14.1+cu116\n"
          ]
        }
      ]
    },
    {
      "cell_type": "code",
      "source": [
        "# Continue with regular imports\n",
        "import matplotlib.pyplot as plt\n",
        "import torch\n",
        "import torchvision\n",
        "\n",
        "from torch import nn\n",
        "from torchvision import transforms\n",
        "\n",
        "# Try to get torchinfo, install it if it doesn't work\n",
        "try:\n",
        "    from torchinfo import summary\n",
        "except:\n",
        "    print(\"[INFO] Couldn't find torchinfo... installing it.\")\n",
        "    !pip install -q torchinfo\n",
        "    from torchinfo import summary\n",
        "\n",
        "# Try to import the going_modular directory, download it from GitHub if it doesn't work\n",
        "try:\n",
        "    from going_modular.going_modular import data_setup, engine\n",
        "except:\n",
        "    # Get the going_modular scripts\n",
        "    print(\"[INFO] Couldn't find going_modular scripts... downloading them from GitHub.\")\n",
        "    !git clone https://github.com/jfink09/optical-funduscopic-convolutional-neural-network\n",
        "    !mv optical-funduscopic-convolutional-neural-network/going_modular .\n",
        "    !rm -rf optical-funduscopic-convolutional-neural-network\n",
        "    from going_modular.going_modular import data_setup, engine"
      ],
      "metadata": {
        "id": "P6rQv5ywqbAE",
        "colab": {
          "base_uri": "https://localhost:8080/"
        },
        "outputId": "1346423f-7e67-4019-fa29-58921d76e582"
      },
      "execution_count": null,
      "outputs": [
        {
          "output_type": "stream",
          "name": "stdout",
          "text": [
            "[INFO] Couldn't find torchinfo... installing it.\n",
            "[INFO] Couldn't find going_modular scripts... downloading them from GitHub.\n",
            "Cloning into 'optical-funduscopic-convolutional-neural-network'...\n",
            "remote: Enumerating objects: 260, done.\u001b[K\n",
            "remote: Counting objects: 100% (188/188), done.\u001b[K\n",
            "remote: Compressing objects: 100% (147/147), done.\u001b[K\n",
            "remote: Total 260 (delta 92), reused 90 (delta 40), pack-reused 72\u001b[K\n",
            "Receiving objects: 100% (260/260), 110.85 MiB | 16.94 MiB/s, done.\n",
            "Resolving deltas: 100% (107/107), done.\n"
          ]
        }
      ]
    },
    {
      "cell_type": "code",
      "source": [
        "# Setup device agnostic code\n",
        "device = \"cuda\" if torch.cuda.is_available() else \"cpu\"\n",
        "device"
      ],
      "metadata": {
        "colab": {
          "base_uri": "https://localhost:8080/",
          "height": 35
        },
        "id": "fkjf6AeaqhJi",
        "outputId": "ae1011d1-ccff-4917-f7d6-4b53cb6561a7"
      },
      "execution_count": null,
      "outputs": [
        {
          "output_type": "execute_result",
          "data": {
            "text/plain": [
              "'cuda'"
            ],
            "application/vnd.google.colaboratory.intrinsic+json": {
              "type": "string"
            }
          },
          "metadata": {},
          "execution_count": 7
        }
      ]
    },
    {
      "cell_type": "code",
      "source": [
        "normalize = transforms.Normalize(mean=[0.485, 0.456, 0.406],\n",
        "                                 std=[0.229, 0.224, 0.225])"
      ],
      "metadata": {
        "id": "tQpXfaI0qlNi"
      },
      "execution_count": null,
      "outputs": []
    },
    {
      "cell_type": "code",
      "source": [
        "# Create a transforms pipeline manually (required for torchvision < 0.13)\n",
        "manual_transforms = transforms.Compose([\n",
        "    transforms.Resize((224, 224)), # 1. Reshape all images to 224x224 (though some models may require different sizes)\n",
        "    transforms.ToTensor(), # 2. Turn image values to between 0 & 1 \n",
        "    transforms.Normalize(mean=[0.485, 0.456, 0.406], # 3. A mean of [0.485, 0.456, 0.406] (across each colour channel)\n",
        "                         std=[0.229, 0.224, 0.225]) # 4. A standard deviation of [0.229, 0.224, 0.225] (across each colour channel),\n",
        "])"
      ],
      "metadata": {
        "id": "FPuOwnpfqrCI"
      },
      "execution_count": null,
      "outputs": []
    },
    {
      "cell_type": "code",
      "source": [
        "# Create training and testing DataLoaders as well as get a list of class names\n",
        "train_dataloader, test_dataloader, class_names = data_setup.create_dataloaders(train_dir=train_dir,\n",
        "                                                                               test_dir=test_dir,\n",
        "                                                                               transform=manual_transforms, # resize, convert images to between 0 & 1 and normalize them\n",
        "                                                                               batch_size=32) # set mini-batch size to 32\n",
        "\n",
        "train_dataloader, test_dataloader, class_names"
      ],
      "metadata": {
        "colab": {
          "base_uri": "https://localhost:8080/"
        },
        "id": "0bjV6Zbyq3GW",
        "outputId": "af96da9c-b891-4b7d-a9c5-15e7bfb50112"
      },
      "execution_count": null,
      "outputs": [
        {
          "output_type": "execute_result",
          "data": {
            "text/plain": [
              "(<torch.utils.data.dataloader.DataLoader at 0x7f39d1029880>,\n",
              " <torch.utils.data.dataloader.DataLoader at 0x7f39d1029550>,\n",
              " ['CRVO',\n",
              "  'Diabetic Retinopathy',\n",
              "  'Laser Spots',\n",
              "  'Macular Degeneration',\n",
              "  'Myelinated Nerve Fiber',\n",
              "  'Normal',\n",
              "  'Pathological Mypoia',\n",
              "  'Retinitis Pigmentosa'])"
            ]
          },
          "metadata": {},
          "execution_count": 10
        }
      ]
    },
    {
      "cell_type": "code",
      "source": [
        "# Get a set of pretrained model weights\n",
        "weights = torchvision.models.EfficientNet_B7_Weights.DEFAULT # .DEFAULT = best available weights from pretraining on ImageNet\n",
        "weights"
      ],
      "metadata": {
        "colab": {
          "base_uri": "https://localhost:8080/"
        },
        "id": "6l8c-bCMq5le",
        "outputId": "efb06e85-187d-4db0-dbff-c2d26c88607f"
      },
      "execution_count": null,
      "outputs": [
        {
          "output_type": "execute_result",
          "data": {
            "text/plain": [
              "EfficientNet_B7_Weights.IMAGENET1K_V1"
            ]
          },
          "metadata": {},
          "execution_count": 11
        }
      ]
    },
    {
      "cell_type": "code",
      "source": [
        "# Get the transforms used to create our pretrained weights\n",
        "auto_transforms = weights.transforms()\n",
        "auto_transforms"
      ],
      "metadata": {
        "colab": {
          "base_uri": "https://localhost:8080/"
        },
        "id": "AJAVFcAqq8Ul",
        "outputId": "56836b93-6f74-40e8-b29c-d2d1a7490a42"
      },
      "execution_count": null,
      "outputs": [
        {
          "output_type": "execute_result",
          "data": {
            "text/plain": [
              "ImageClassification(\n",
              "    crop_size=[600]\n",
              "    resize_size=[600]\n",
              "    mean=[0.485, 0.456, 0.406]\n",
              "    std=[0.229, 0.224, 0.225]\n",
              "    interpolation=InterpolationMode.BICUBIC\n",
              ")"
            ]
          },
          "metadata": {},
          "execution_count": 12
        }
      ]
    },
    {
      "cell_type": "code",
      "source": [
        "# # Create training and testing DataLoaders as well as get a list of class names\n",
        "# train_dataloader, test_dataloader, class_names = data_setup.create_dataloaders(train_dir=train_dir,\n",
        "#                                                                                test_dir=test_dir,\n",
        "#                                                                                transform=auto_transforms, # perform same data transforms on our own data as the pretrained model\n",
        "#                                                                                batch_size=32) # set mini-batch size to 32\n",
        "\n",
        "# train_dataloader, test_dataloader, class_names"
      ],
      "metadata": {
        "id": "vionhpXWq-CV"
      },
      "execution_count": null,
      "outputs": []
    },
    {
      "cell_type": "code",
      "source": [
        "# OLD: Setup the model with pretrained weights and send it to the target device (this was prior to torchvision v0.13)\n",
        "# model = torchvision.models.efficientnet_b0(pretrained=True).to(device) # OLD method (with pretrained=True)\n",
        "\n",
        "# NEW: Setup the model with pretrained weights and send it to the target device (torchvision v0.13+)\n",
        "weights = torchvision.models.EfficientNet_B7_Weights.DEFAULT # .DEFAULT = best available weights \n",
        "model = torchvision.models.efficientnet_b7(weights=weights).to(device)\n",
        "\n",
        "#model # uncomment to output (it's very long)"
      ],
      "metadata": {
        "id": "_neo0rBcrAOd",
        "colab": {
          "base_uri": "https://localhost:8080/",
          "height": 67,
          "referenced_widgets": [
            "8e931af41afc4b58aeb938f76435f6f4",
            "4e64eb16bf8e4d0a9e515b0e9d912a96",
            "217c695e04e040b99c38e973a5c03dba",
            "b832c342c8764964962ced0a6173272e",
            "6043815586f849d3be2898f14d739126",
            "d821d26bd8fd48ab8d1b80c5180057ae",
            "d6b0b61595d24dc397a3cc78942dc3e7",
            "f5f9e994c55f40809bfce15215fd4c20",
            "fc54f4a5e3734c8f9d75e13c3fd6f061",
            "1ca04c05fa8747aca855d386465b5ae2",
            "965c729e8a714776b0c88a879077c02c"
          ]
        },
        "outputId": "2119ddd6-540c-4ebe-f369-89439e0185fe"
      },
      "execution_count": null,
      "outputs": [
        {
          "output_type": "stream",
          "name": "stderr",
          "text": [
            "Downloading: \"https://download.pytorch.org/models/efficientnet_b7_lukemelas-dcc49843.pth\" to /root/.cache/torch/hub/checkpoints/efficientnet_b7_lukemelas-dcc49843.pth\n"
          ]
        },
        {
          "output_type": "display_data",
          "data": {
            "text/plain": [
              "  0%|          | 0.00/255M [00:00<?, ?B/s]"
            ],
            "application/vnd.jupyter.widget-view+json": {
              "version_major": 2,
              "version_minor": 0,
              "model_id": "8e931af41afc4b58aeb938f76435f6f4"
            }
          },
          "metadata": {}
        }
      ]
    },
    {
      "cell_type": "code",
      "source": [
        "# Print a summary using torchinfo (uncomment for actual output)\n",
        "summary(model=model,\n",
        "        input_size=(32, 3, 224, 224), # make sure this is \"input_size\", not \"input_shape\"\n",
        "        # col_names=[\"input_size\"], # uncomment for smaller output\n",
        "        col_names=[\"input_size\", \"output_size\", \"num_params\", \"trainable\"],\n",
        "        col_width=20,\n",
        "        row_settings=[\"var_names\"]\n",
        ")"
      ],
      "metadata": {
        "colab": {
          "base_uri": "https://localhost:8080/"
        },
        "id": "WOQ3ZLCrrDel",
        "outputId": "4f285cff-fa78-4d2b-cf7b-31fa0cb6915d"
      },
      "execution_count": null,
      "outputs": [
        {
          "output_type": "execute_result",
          "data": {
            "text/plain": [
              "============================================================================================================================================\n",
              "Layer (type (var_name))                                      Input Shape          Output Shape         Param #              Trainable\n",
              "============================================================================================================================================\n",
              "EfficientNet (EfficientNet)                                  [32, 3, 224, 224]    [32, 1000]           --                   True\n",
              "├─Sequential (features)                                      [32, 3, 224, 224]    [32, 2560, 7, 7]     --                   True\n",
              "│    └─Conv2dNormActivation (0)                              [32, 3, 224, 224]    [32, 64, 112, 112]   --                   True\n",
              "│    │    └─Conv2d (0)                                       [32, 3, 224, 224]    [32, 64, 112, 112]   1,728                True\n",
              "│    │    └─BatchNorm2d (1)                                  [32, 64, 112, 112]   [32, 64, 112, 112]   128                  True\n",
              "│    │    └─SiLU (2)                                         [32, 64, 112, 112]   [32, 64, 112, 112]   --                   --\n",
              "│    └─Sequential (1)                                        [32, 64, 112, 112]   [32, 32, 112, 112]   --                   True\n",
              "│    │    └─MBConv (0)                                       [32, 64, 112, 112]   [32, 32, 112, 112]   4,944                True\n",
              "│    │    └─MBConv (1)                                       [32, 32, 112, 112]   [32, 32, 112, 112]   1,992                True\n",
              "│    │    └─MBConv (2)                                       [32, 32, 112, 112]   [32, 32, 112, 112]   1,992                True\n",
              "│    │    └─MBConv (3)                                       [32, 32, 112, 112]   [32, 32, 112, 112]   1,992                True\n",
              "│    └─Sequential (2)                                        [32, 32, 112, 112]   [32, 48, 56, 56]     --                   True\n",
              "│    │    └─MBConv (0)                                       [32, 32, 112, 112]   [32, 48, 56, 56]     21,224               True\n",
              "│    │    └─MBConv (1)                                       [32, 48, 56, 56]     [32, 48, 56, 56]     38,700               True\n",
              "│    │    └─MBConv (2)                                       [32, 48, 56, 56]     [32, 48, 56, 56]     38,700               True\n",
              "│    │    └─MBConv (3)                                       [32, 48, 56, 56]     [32, 48, 56, 56]     38,700               True\n",
              "│    │    └─MBConv (4)                                       [32, 48, 56, 56]     [32, 48, 56, 56]     38,700               True\n",
              "│    │    └─MBConv (5)                                       [32, 48, 56, 56]     [32, 48, 56, 56]     38,700               True\n",
              "│    │    └─MBConv (6)                                       [32, 48, 56, 56]     [32, 48, 56, 56]     38,700               True\n",
              "│    └─Sequential (3)                                        [32, 48, 56, 56]     [32, 80, 28, 28]     --                   True\n",
              "│    │    └─MBConv (0)                                       [32, 48, 56, 56]     [32, 80, 28, 28]     52,588               True\n",
              "│    │    └─MBConv (1)                                       [32, 80, 28, 28]     [32, 80, 28, 28]     110,580              True\n",
              "│    │    └─MBConv (2)                                       [32, 80, 28, 28]     [32, 80, 28, 28]     110,580              True\n",
              "│    │    └─MBConv (3)                                       [32, 80, 28, 28]     [32, 80, 28, 28]     110,580              True\n",
              "│    │    └─MBConv (4)                                       [32, 80, 28, 28]     [32, 80, 28, 28]     110,580              True\n",
              "│    │    └─MBConv (5)                                       [32, 80, 28, 28]     [32, 80, 28, 28]     110,580              True\n",
              "│    │    └─MBConv (6)                                       [32, 80, 28, 28]     [32, 80, 28, 28]     110,580              True\n",
              "│    └─Sequential (4)                                        [32, 80, 28, 28]     [32, 160, 14, 14]    --                   True\n",
              "│    │    └─MBConv (0)                                       [32, 80, 28, 28]     [32, 160, 14, 14]    141,460              True\n",
              "│    │    └─MBConv (1)                                       [32, 160, 14, 14]    [32, 160, 14, 14]    397,800              True\n",
              "│    │    └─MBConv (2)                                       [32, 160, 14, 14]    [32, 160, 14, 14]    397,800              True\n",
              "│    │    └─MBConv (3)                                       [32, 160, 14, 14]    [32, 160, 14, 14]    397,800              True\n",
              "│    │    └─MBConv (4)                                       [32, 160, 14, 14]    [32, 160, 14, 14]    397,800              True\n",
              "│    │    └─MBConv (5)                                       [32, 160, 14, 14]    [32, 160, 14, 14]    397,800              True\n",
              "│    │    └─MBConv (6)                                       [32, 160, 14, 14]    [32, 160, 14, 14]    397,800              True\n",
              "│    │    └─MBConv (7)                                       [32, 160, 14, 14]    [32, 160, 14, 14]    397,800              True\n",
              "│    │    └─MBConv (8)                                       [32, 160, 14, 14]    [32, 160, 14, 14]    397,800              True\n",
              "│    │    └─MBConv (9)                                       [32, 160, 14, 14]    [32, 160, 14, 14]    397,800              True\n",
              "│    └─Sequential (5)                                        [32, 160, 14, 14]    [32, 224, 14, 14]    --                   True\n",
              "│    │    └─MBConv (0)                                       [32, 160, 14, 14]    [32, 224, 14, 14]    474,728              True\n",
              "│    │    └─MBConv (1)                                       [32, 224, 14, 14]    [32, 224, 14, 14]    793,464              True\n",
              "│    │    └─MBConv (2)                                       [32, 224, 14, 14]    [32, 224, 14, 14]    793,464              True\n",
              "│    │    └─MBConv (3)                                       [32, 224, 14, 14]    [32, 224, 14, 14]    793,464              True\n",
              "│    │    └─MBConv (4)                                       [32, 224, 14, 14]    [32, 224, 14, 14]    793,464              True\n",
              "│    │    └─MBConv (5)                                       [32, 224, 14, 14]    [32, 224, 14, 14]    793,464              True\n",
              "│    │    └─MBConv (6)                                       [32, 224, 14, 14]    [32, 224, 14, 14]    793,464              True\n",
              "│    │    └─MBConv (7)                                       [32, 224, 14, 14]    [32, 224, 14, 14]    793,464              True\n",
              "│    │    └─MBConv (8)                                       [32, 224, 14, 14]    [32, 224, 14, 14]    793,464              True\n",
              "│    │    └─MBConv (9)                                       [32, 224, 14, 14]    [32, 224, 14, 14]    793,464              True\n",
              "│    └─Sequential (6)                                        [32, 224, 14, 14]    [32, 384, 7, 7]      --                   True\n",
              "│    │    └─MBConv (0)                                       [32, 224, 14, 14]    [32, 384, 7, 7]      1,008,824            True\n",
              "│    │    └─MBConv (1)                                       [32, 384, 7, 7]      [32, 384, 7, 7]      2,281,824            True\n",
              "│    │    └─MBConv (2)                                       [32, 384, 7, 7]      [32, 384, 7, 7]      2,281,824            True\n",
              "│    │    └─MBConv (3)                                       [32, 384, 7, 7]      [32, 384, 7, 7]      2,281,824            True\n",
              "│    │    └─MBConv (4)                                       [32, 384, 7, 7]      [32, 384, 7, 7]      2,281,824            True\n",
              "│    │    └─MBConv (5)                                       [32, 384, 7, 7]      [32, 384, 7, 7]      2,281,824            True\n",
              "│    │    └─MBConv (6)                                       [32, 384, 7, 7]      [32, 384, 7, 7]      2,281,824            True\n",
              "│    │    └─MBConv (7)                                       [32, 384, 7, 7]      [32, 384, 7, 7]      2,281,824            True\n",
              "│    │    └─MBConv (8)                                       [32, 384, 7, 7]      [32, 384, 7, 7]      2,281,824            True\n",
              "│    │    └─MBConv (9)                                       [32, 384, 7, 7]      [32, 384, 7, 7]      2,281,824            True\n",
              "│    │    └─MBConv (10)                                      [32, 384, 7, 7]      [32, 384, 7, 7]      2,281,824            True\n",
              "│    │    └─MBConv (11)                                      [32, 384, 7, 7]      [32, 384, 7, 7]      2,281,824            True\n",
              "│    │    └─MBConv (12)                                      [32, 384, 7, 7]      [32, 384, 7, 7]      2,281,824            True\n",
              "│    └─Sequential (7)                                        [32, 384, 7, 7]      [32, 640, 7, 7]      --                   True\n",
              "│    │    └─MBConv (0)                                       [32, 384, 7, 7]      [32, 640, 7, 7]      2,835,296            True\n",
              "│    │    └─MBConv (1)                                       [32, 640, 7, 7]      [32, 640, 7, 7]      6,199,200            True\n",
              "│    │    └─MBConv (2)                                       [32, 640, 7, 7]      [32, 640, 7, 7]      6,199,200            True\n",
              "│    │    └─MBConv (3)                                       [32, 640, 7, 7]      [32, 640, 7, 7]      6,199,200            True\n",
              "│    └─Conv2dNormActivation (8)                              [32, 640, 7, 7]      [32, 2560, 7, 7]     --                   True\n",
              "│    │    └─Conv2d (0)                                       [32, 640, 7, 7]      [32, 2560, 7, 7]     1,638,400            True\n",
              "│    │    └─BatchNorm2d (1)                                  [32, 2560, 7, 7]     [32, 2560, 7, 7]     5,120                True\n",
              "│    │    └─SiLU (2)                                         [32, 2560, 7, 7]     [32, 2560, 7, 7]     --                   --\n",
              "├─AdaptiveAvgPool2d (avgpool)                                [32, 2560, 7, 7]     [32, 2560, 1, 1]     --                   --\n",
              "├─Sequential (classifier)                                    [32, 2560]           [32, 1000]           --                   True\n",
              "│    └─Dropout (0)                                           [32, 2560]           [32, 2560]           --                   --\n",
              "│    └─Linear (1)                                            [32, 2560]           [32, 1000]           2,561,000            True\n",
              "============================================================================================================================================\n",
              "Total params: 66,347,960\n",
              "Trainable params: 66,347,960\n",
              "Non-trainable params: 0\n",
              "Total mult-adds (G): 165.45\n",
              "============================================================================================================================================\n",
              "Input size (MB): 19.27\n",
              "Forward/backward pass size (MB): 20508.47\n",
              "Params size (MB): 265.39\n",
              "Estimated Total Size (MB): 20793.12\n",
              "============================================================================================================================================"
            ]
          },
          "metadata": {},
          "execution_count": 15
        }
      ]
    },
    {
      "cell_type": "code",
      "source": [
        "# Freeze all base layers in the \"features\" section of the model (the feature extractor) by setting requires_grad=False\n",
        "for param in model.features.parameters():\n",
        "    param.requires_grad = False"
      ],
      "metadata": {
        "id": "jLTE_-OjrGEz"
      },
      "execution_count": null,
      "outputs": []
    },
    {
      "cell_type": "code",
      "source": [
        "# Set the manual seeds\n",
        "torch.manual_seed(42)\n",
        "torch.cuda.manual_seed(42)\n",
        "\n",
        "# Get the length of class_names (one output unit for each class)\n",
        "output_shape = len(class_names)\n",
        "\n",
        "# Recreate the classifier layer and seed it to the target device\n",
        "model.classifier = torch.nn.Sequential(\n",
        "    torch.nn.Dropout(p=0.2, inplace=True), \n",
        "    torch.nn.Linear(in_features=2560, \n",
        "                    out_features=output_shape, # same number of output units as our number of classes\n",
        "                    bias=True)).to(device)"
      ],
      "metadata": {
        "id": "VE7VsswvrKbL"
      },
      "execution_count": null,
      "outputs": []
    },
    {
      "cell_type": "code",
      "source": [
        "# # Do a summary *after* freezing the features and changing the output classifier layer (uncomment for actual output)\n",
        "summary(model, \n",
        "        input_size=(32, 3, 224, 224), # make sure this is \"input_size\", not \"input_shape\" (batch_size, color_channels, height, width)\n",
        "        verbose=0,\n",
        "        col_names=[\"input_size\", \"output_size\", \"num_params\", \"trainable\"],\n",
        "        col_width=20,\n",
        "        row_settings=[\"var_names\"]\n",
        ")"
      ],
      "metadata": {
        "colab": {
          "base_uri": "https://localhost:8080/"
        },
        "id": "AULlx2DrrORK",
        "outputId": "13153a2e-6017-4eb3-9adc-65e3ce4a4085"
      },
      "execution_count": null,
      "outputs": [
        {
          "output_type": "execute_result",
          "data": {
            "text/plain": [
              "============================================================================================================================================\n",
              "Layer (type (var_name))                                      Input Shape          Output Shape         Param #              Trainable\n",
              "============================================================================================================================================\n",
              "EfficientNet (EfficientNet)                                  [32, 3, 224, 224]    [32, 8]              --                   Partial\n",
              "├─Sequential (features)                                      [32, 3, 224, 224]    [32, 2560, 7, 7]     --                   False\n",
              "│    └─Conv2dNormActivation (0)                              [32, 3, 224, 224]    [32, 64, 112, 112]   --                   False\n",
              "│    │    └─Conv2d (0)                                       [32, 3, 224, 224]    [32, 64, 112, 112]   (1,728)              False\n",
              "│    │    └─BatchNorm2d (1)                                  [32, 64, 112, 112]   [32, 64, 112, 112]   (128)                False\n",
              "│    │    └─SiLU (2)                                         [32, 64, 112, 112]   [32, 64, 112, 112]   --                   --\n",
              "│    └─Sequential (1)                                        [32, 64, 112, 112]   [32, 32, 112, 112]   --                   False\n",
              "│    │    └─MBConv (0)                                       [32, 64, 112, 112]   [32, 32, 112, 112]   (4,944)              False\n",
              "│    │    └─MBConv (1)                                       [32, 32, 112, 112]   [32, 32, 112, 112]   (1,992)              False\n",
              "│    │    └─MBConv (2)                                       [32, 32, 112, 112]   [32, 32, 112, 112]   (1,992)              False\n",
              "│    │    └─MBConv (3)                                       [32, 32, 112, 112]   [32, 32, 112, 112]   (1,992)              False\n",
              "│    └─Sequential (2)                                        [32, 32, 112, 112]   [32, 48, 56, 56]     --                   False\n",
              "│    │    └─MBConv (0)                                       [32, 32, 112, 112]   [32, 48, 56, 56]     (21,224)             False\n",
              "│    │    └─MBConv (1)                                       [32, 48, 56, 56]     [32, 48, 56, 56]     (38,700)             False\n",
              "│    │    └─MBConv (2)                                       [32, 48, 56, 56]     [32, 48, 56, 56]     (38,700)             False\n",
              "│    │    └─MBConv (3)                                       [32, 48, 56, 56]     [32, 48, 56, 56]     (38,700)             False\n",
              "│    │    └─MBConv (4)                                       [32, 48, 56, 56]     [32, 48, 56, 56]     (38,700)             False\n",
              "│    │    └─MBConv (5)                                       [32, 48, 56, 56]     [32, 48, 56, 56]     (38,700)             False\n",
              "│    │    └─MBConv (6)                                       [32, 48, 56, 56]     [32, 48, 56, 56]     (38,700)             False\n",
              "│    └─Sequential (3)                                        [32, 48, 56, 56]     [32, 80, 28, 28]     --                   False\n",
              "│    │    └─MBConv (0)                                       [32, 48, 56, 56]     [32, 80, 28, 28]     (52,588)             False\n",
              "│    │    └─MBConv (1)                                       [32, 80, 28, 28]     [32, 80, 28, 28]     (110,580)            False\n",
              "│    │    └─MBConv (2)                                       [32, 80, 28, 28]     [32, 80, 28, 28]     (110,580)            False\n",
              "│    │    └─MBConv (3)                                       [32, 80, 28, 28]     [32, 80, 28, 28]     (110,580)            False\n",
              "│    │    └─MBConv (4)                                       [32, 80, 28, 28]     [32, 80, 28, 28]     (110,580)            False\n",
              "│    │    └─MBConv (5)                                       [32, 80, 28, 28]     [32, 80, 28, 28]     (110,580)            False\n",
              "│    │    └─MBConv (6)                                       [32, 80, 28, 28]     [32, 80, 28, 28]     (110,580)            False\n",
              "│    └─Sequential (4)                                        [32, 80, 28, 28]     [32, 160, 14, 14]    --                   False\n",
              "│    │    └─MBConv (0)                                       [32, 80, 28, 28]     [32, 160, 14, 14]    (141,460)            False\n",
              "│    │    └─MBConv (1)                                       [32, 160, 14, 14]    [32, 160, 14, 14]    (397,800)            False\n",
              "│    │    └─MBConv (2)                                       [32, 160, 14, 14]    [32, 160, 14, 14]    (397,800)            False\n",
              "│    │    └─MBConv (3)                                       [32, 160, 14, 14]    [32, 160, 14, 14]    (397,800)            False\n",
              "│    │    └─MBConv (4)                                       [32, 160, 14, 14]    [32, 160, 14, 14]    (397,800)            False\n",
              "│    │    └─MBConv (5)                                       [32, 160, 14, 14]    [32, 160, 14, 14]    (397,800)            False\n",
              "│    │    └─MBConv (6)                                       [32, 160, 14, 14]    [32, 160, 14, 14]    (397,800)            False\n",
              "│    │    └─MBConv (7)                                       [32, 160, 14, 14]    [32, 160, 14, 14]    (397,800)            False\n",
              "│    │    └─MBConv (8)                                       [32, 160, 14, 14]    [32, 160, 14, 14]    (397,800)            False\n",
              "│    │    └─MBConv (9)                                       [32, 160, 14, 14]    [32, 160, 14, 14]    (397,800)            False\n",
              "│    └─Sequential (5)                                        [32, 160, 14, 14]    [32, 224, 14, 14]    --                   False\n",
              "│    │    └─MBConv (0)                                       [32, 160, 14, 14]    [32, 224, 14, 14]    (474,728)            False\n",
              "│    │    └─MBConv (1)                                       [32, 224, 14, 14]    [32, 224, 14, 14]    (793,464)            False\n",
              "│    │    └─MBConv (2)                                       [32, 224, 14, 14]    [32, 224, 14, 14]    (793,464)            False\n",
              "│    │    └─MBConv (3)                                       [32, 224, 14, 14]    [32, 224, 14, 14]    (793,464)            False\n",
              "│    │    └─MBConv (4)                                       [32, 224, 14, 14]    [32, 224, 14, 14]    (793,464)            False\n",
              "│    │    └─MBConv (5)                                       [32, 224, 14, 14]    [32, 224, 14, 14]    (793,464)            False\n",
              "│    │    └─MBConv (6)                                       [32, 224, 14, 14]    [32, 224, 14, 14]    (793,464)            False\n",
              "│    │    └─MBConv (7)                                       [32, 224, 14, 14]    [32, 224, 14, 14]    (793,464)            False\n",
              "│    │    └─MBConv (8)                                       [32, 224, 14, 14]    [32, 224, 14, 14]    (793,464)            False\n",
              "│    │    └─MBConv (9)                                       [32, 224, 14, 14]    [32, 224, 14, 14]    (793,464)            False\n",
              "│    └─Sequential (6)                                        [32, 224, 14, 14]    [32, 384, 7, 7]      --                   False\n",
              "│    │    └─MBConv (0)                                       [32, 224, 14, 14]    [32, 384, 7, 7]      (1,008,824)          False\n",
              "│    │    └─MBConv (1)                                       [32, 384, 7, 7]      [32, 384, 7, 7]      (2,281,824)          False\n",
              "│    │    └─MBConv (2)                                       [32, 384, 7, 7]      [32, 384, 7, 7]      (2,281,824)          False\n",
              "│    │    └─MBConv (3)                                       [32, 384, 7, 7]      [32, 384, 7, 7]      (2,281,824)          False\n",
              "│    │    └─MBConv (4)                                       [32, 384, 7, 7]      [32, 384, 7, 7]      (2,281,824)          False\n",
              "│    │    └─MBConv (5)                                       [32, 384, 7, 7]      [32, 384, 7, 7]      (2,281,824)          False\n",
              "│    │    └─MBConv (6)                                       [32, 384, 7, 7]      [32, 384, 7, 7]      (2,281,824)          False\n",
              "│    │    └─MBConv (7)                                       [32, 384, 7, 7]      [32, 384, 7, 7]      (2,281,824)          False\n",
              "│    │    └─MBConv (8)                                       [32, 384, 7, 7]      [32, 384, 7, 7]      (2,281,824)          False\n",
              "│    │    └─MBConv (9)                                       [32, 384, 7, 7]      [32, 384, 7, 7]      (2,281,824)          False\n",
              "│    │    └─MBConv (10)                                      [32, 384, 7, 7]      [32, 384, 7, 7]      (2,281,824)          False\n",
              "│    │    └─MBConv (11)                                      [32, 384, 7, 7]      [32, 384, 7, 7]      (2,281,824)          False\n",
              "│    │    └─MBConv (12)                                      [32, 384, 7, 7]      [32, 384, 7, 7]      (2,281,824)          False\n",
              "│    └─Sequential (7)                                        [32, 384, 7, 7]      [32, 640, 7, 7]      --                   False\n",
              "│    │    └─MBConv (0)                                       [32, 384, 7, 7]      [32, 640, 7, 7]      (2,835,296)          False\n",
              "│    │    └─MBConv (1)                                       [32, 640, 7, 7]      [32, 640, 7, 7]      (6,199,200)          False\n",
              "│    │    └─MBConv (2)                                       [32, 640, 7, 7]      [32, 640, 7, 7]      (6,199,200)          False\n",
              "│    │    └─MBConv (3)                                       [32, 640, 7, 7]      [32, 640, 7, 7]      (6,199,200)          False\n",
              "│    └─Conv2dNormActivation (8)                              [32, 640, 7, 7]      [32, 2560, 7, 7]     --                   False\n",
              "│    │    └─Conv2d (0)                                       [32, 640, 7, 7]      [32, 2560, 7, 7]     (1,638,400)          False\n",
              "│    │    └─BatchNorm2d (1)                                  [32, 2560, 7, 7]     [32, 2560, 7, 7]     (5,120)              False\n",
              "│    │    └─SiLU (2)                                         [32, 2560, 7, 7]     [32, 2560, 7, 7]     --                   --\n",
              "├─AdaptiveAvgPool2d (avgpool)                                [32, 2560, 7, 7]     [32, 2560, 1, 1]     --                   --\n",
              "├─Sequential (classifier)                                    [32, 2560]           [32, 8]              --                   True\n",
              "│    └─Dropout (0)                                           [32, 2560]           [32, 2560]           --                   --\n",
              "│    └─Linear (1)                                            [32, 2560]           [32, 8]              20,488               True\n",
              "============================================================================================================================================\n",
              "Total params: 63,807,448\n",
              "Trainable params: 20,488\n",
              "Non-trainable params: 63,786,960\n",
              "Total mult-adds (G): 165.37\n",
              "============================================================================================================================================\n",
              "Input size (MB): 19.27\n",
              "Forward/backward pass size (MB): 20508.21\n",
              "Params size (MB): 255.23\n",
              "Estimated Total Size (MB): 20782.71\n",
              "============================================================================================================================================"
            ]
          },
          "metadata": {},
          "execution_count": 18
        }
      ]
    },
    {
      "cell_type": "code",
      "source": [
        "# Define loss and optimizer\n",
        "loss_fn = nn.CrossEntropyLoss()\n",
        "optimizer = torch.optim.Adam(model.parameters(), lr=0.001)"
      ],
      "metadata": {
        "id": "aTcT1w2WrQYh"
      },
      "execution_count": null,
      "outputs": []
    },
    {
      "cell_type": "code",
      "source": [
        "# Set the random seeds\n",
        "torch.manual_seed(42)\n",
        "torch.cuda.manual_seed(42)\n",
        "\n",
        "# Start the timer\n",
        "from timeit import default_timer as timer \n",
        "start_time = timer()\n",
        "\n",
        "# Setup training and save the results\n",
        "results = engine.train(model=model,\n",
        "                        train_dataloader=train_dataloader,\n",
        "                        test_dataloader=test_dataloader,\n",
        "                        optimizer=optimizer,\n",
        "                        loss_fn=loss_fn,\n",
        "                        epochs=10,\n",
        "                        device=device)\n",
        "\n",
        "# End the timer and print out how long it took\n",
        "end_time = timer()\n",
        "print(f\"[INFO] Total training time: {end_time-start_time:.3f} seconds\")"
      ],
      "metadata": {
        "colab": {
          "base_uri": "https://localhost:8080/",
          "height": 240,
          "referenced_widgets": [
            "2ad990f4eab14bdaa667b1f04ffcbbb1",
            "c3ac131a847441218f3f939e86b20aaa",
            "0877ad2297134ed19eaca26e3bab2e21",
            "5bb514b43c6d442a8a192d719dee1a0e",
            "a5ee48c13b614344920393e17b1d83b4",
            "756d78da838c4d4db47b7cd0d58ae76f",
            "8d85faf4388146f79162f80e3147ace2",
            "a684b1ff975b4b1a89867478ce309394",
            "2f56f379f6ab42f5b64b62fd18c87086",
            "c3a456ac3e9f494685e63de93108cfcd",
            "b7c1ce947e8742b0b4560f77d9cf3a19"
          ]
        },
        "id": "oCZElJJaJ9MR",
        "outputId": "2f593488-6986-4e09-f450-d4a92801bf28"
      },
      "execution_count": null,
      "outputs": [
        {
          "output_type": "display_data",
          "data": {
            "text/plain": [
              "  0%|          | 0/10 [00:00<?, ?it/s]"
            ],
            "application/vnd.jupyter.widget-view+json": {
              "version_major": 2,
              "version_minor": 0,
              "model_id": "2ad990f4eab14bdaa667b1f04ffcbbb1"
            }
          },
          "metadata": {}
        },
        {
          "output_type": "stream",
          "name": "stdout",
          "text": [
            "Epoch: 1 | train_loss: 1.7467 | train_acc: 0.4484 | test_loss: 1.8136 | test_acc: 0.2976\n",
            "Epoch: 2 | train_loss: 1.2403 | train_acc: 0.6594 | test_loss: 1.6067 | test_acc: 0.4628\n",
            "Epoch: 3 | train_loss: 1.0265 | train_acc: 0.7118 | test_loss: 1.4120 | test_acc: 0.5580\n",
            "Epoch: 4 | train_loss: 0.8743 | train_acc: 0.7817 | test_loss: 1.2936 | test_acc: 0.6071\n",
            "Epoch: 5 | train_loss: 0.7941 | train_acc: 0.7985 | test_loss: 1.2183 | test_acc: 0.6265\n",
            "Epoch: 6 | train_loss: 0.6881 | train_acc: 0.8302 | test_loss: 1.1714 | test_acc: 0.6399\n",
            "Epoch: 7 | train_loss: 0.6572 | train_acc: 0.8275 | test_loss: 1.1455 | test_acc: 0.6443\n",
            "Epoch: 8 | train_loss: 0.6181 | train_acc: 0.8434 | test_loss: 1.1174 | test_acc: 0.6443\n",
            "Epoch: 9 | train_loss: 0.5667 | train_acc: 0.8556 | test_loss: 1.0755 | test_acc: 0.6562\n",
            "Epoch: 10 | train_loss: 0.5222 | train_acc: 0.8822 | test_loss: 1.0584 | test_acc: 0.6607\n",
            "[INFO] Total training time: 1042.068 seconds\n"
          ]
        }
      ]
    },
    {
      "cell_type": "code",
      "source": [
        "# Get the plot_loss_curves() function from helper_functions.py, download the file if we don't have it\n",
        "try:\n",
        "    from helper_functions import plot_loss_curves\n",
        "except:\n",
        "    print(\"[INFO] Couldn't find helper_functions.py, downloading...\")\n",
        "    with open(\"helper_functions.py\", \"wb\") as f:\n",
        "        import requests\n",
        "        request = requests.get(\"https://github.com/jfink09/optical-funduscopic-convolutional-neural-network/raw/main/helper_functions.py\")\n",
        "        f.write(request.content)\n",
        "    from helper_functions import plot_loss_curves\n",
        "\n",
        "# Plot the loss curves of our model\n",
        "plot_loss_curves(results)"
      ],
      "metadata": {
        "id": "XgpF0MygrUWx"
      },
      "execution_count": null,
      "outputs": []
    },
    {
      "cell_type": "code",
      "source": [
        "from typing import List, Tuple\n",
        "\n",
        "from PIL import Image\n",
        "\n",
        "# 1. Take in a trained model, class names, image path, image size, a transform and target device\n",
        "def pred_and_plot_image(model: torch.nn.Module,\n",
        "                        image_path: str, \n",
        "                        class_names: List[str],\n",
        "                        image_size: Tuple[int, int] = (224, 224),\n",
        "                        transform: torchvision.transforms = None,\n",
        "                        device: torch.device=device):\n",
        "    \n",
        "    \n",
        "    # 2. Open image\n",
        "    img = Image.open(image_path)\n",
        "\n",
        "    # 3. Create transformation for image (if one doesn't exist)\n",
        "    if transform is not None:\n",
        "        image_transform = transform\n",
        "    else:\n",
        "        image_transform = transforms.Compose([\n",
        "            transforms.Resize(image_size),\n",
        "            transforms.ToTensor(),\n",
        "            transforms.Normalize(mean=[0.485, 0.456, 0.406],\n",
        "                                 std=[0.229, 0.224, 0.225]),\n",
        "        ])\n",
        "\n",
        "    ### Predict on image ### \n",
        "\n",
        "    # 4. Make sure the model is on the target device\n",
        "    model.to(device)\n",
        "\n",
        "    # 5. Turn on model evaluation mode and inference mode\n",
        "    model.eval()\n",
        "    with torch.inference_mode():\n",
        "      # 6. Transform and add an extra dimension to image (model requires samples in [batch_size, color_channels, height, width])\n",
        "      transformed_image = image_transform(img).unsqueeze(dim=0)\n",
        "\n",
        "      # 7. Make a prediction on image with an extra dimension and send it to the target device\n",
        "      target_image_pred = model(transformed_image.to(device))\n",
        "\n",
        "    # 8. Convert logits -> prediction probabilities (using torch.softmax() for multi-class classification)\n",
        "    target_image_pred_probs = torch.softmax(target_image_pred, dim=1)\n",
        "\n",
        "    # 9. Convert prediction probabilities -> prediction labels\n",
        "    target_image_pred_label = torch.argmax(target_image_pred_probs, dim=1)\n",
        "\n",
        "    # 10. Plot image with predicted label and probability \n",
        "    plt.figure()\n",
        "    plt.imshow(img)\n",
        "    plt.title(f\"Pred: {class_names[target_image_pred_label]} | Prob: {target_image_pred_probs.max():.3f}\")\n",
        "    plt.axis(False);"
      ],
      "metadata": {
        "id": "-scuzFiasM2-"
      },
      "execution_count": null,
      "outputs": []
    },
    {
      "cell_type": "code",
      "source": [
        "# Get a random list of image paths from test set\n",
        "import random\n",
        "num_images_to_plot = 3\n",
        "test_image_path_list = list(Path(test_dir).glob(\"*/*.jpg\")) # get list all image paths from test data \n",
        "test_image_path_sample = random.sample(population=test_image_path_list, # go through all of the test image paths\n",
        "                                       k=num_images_to_plot) # randomly select 'k' image paths to pred and plot\n",
        "\n",
        "# Make predictions on and plot the images\n",
        "for image_path in test_image_path_sample:\n",
        "    pred_and_plot_image(model=model, \n",
        "                        image_path=image_path,\n",
        "                        class_names=class_names,\n",
        "                        # transform=weights.transforms(), # optionally pass in a specified transform from our pretrained model weights\n",
        "                        image_size=(224, 224))"
      ],
      "metadata": {
        "colab": {
          "base_uri": "https://localhost:8080/",
          "height": 758
        },
        "id": "hNVglQclsRSl",
        "outputId": "eb74aed9-41ee-4ae0-d251-c36a30c5b2a4"
      },
      "execution_count": null,
      "outputs": [
        {
          "output_type": "display_data",
          "data": {
            "text/plain": [
              "<Figure size 432x288 with 1 Axes>"
            ],
            "image/png": "[encoded data removed]"
          },
          "metadata": {
            "needs_background": "light"
          }
        },
        {
          "output_type": "display_data",
          "data": {
            "text/plain": [
              "<Figure size 432x288 with 1 Axes>"
            ],
            "image/png": "[encoded data removed]"
          },
          "metadata": {
            "needs_background": "light"
          }
        },
        {
          "output_type": "display_data",
          "data": {
            "text/plain": [
              "<Figure size 432x288 with 1 Axes>"
            ],
            "image/png": "[encoded data removed]"
          },
          "metadata": {
            "needs_background": "light"
          }
        }
      ]
    },
    {
      "cell_type": "code",
      "source": [
        "data_path = Path(\"data/\")\n",
        "image_path = data_path / \"deepfundus\"\n",
        "\n",
        "# If the image folder doesn't exist, download it and prepare it... \n",
        "if image_path.is_dir():\n",
        "    print(f\"{image_path} directory exists.\")\n",
        "else:\n",
        "    print(f\"Did not find {image_path} directory, creating one...\")\n",
        "    image_path.mkdir(parents=True, exist_ok=True)"
      ],
      "metadata": {
        "colab": {
          "base_uri": "https://localhost:8080/"
        },
        "id": "hLGU36fAXjjS",
        "outputId": "88a850ac-2d5f-4140-d9a6-e6f3fc729ac3"
      },
      "execution_count": null,
      "outputs": [
        {
          "output_type": "stream",
          "name": "stdout",
          "text": [
            "Did not find data/deepfundus directory, creating one...\n"
          ]
        }
      ]
    },
    {
      "cell_type": "code",
      "source": [
        "################################################### Not needed ################################################\n",
        "# # Download custom image\n",
        "# import requests\n",
        "\n",
        "# # Setup custom image path\n",
        "# custom_image_path = data_path / \"pm256.jpg\"\n",
        "\n",
        "# # Download the image if it doesn't already exist\n",
        "# if not custom_image_path.is_file():\n",
        "#     with open(custom_image_path, \"wb\") as f:\n",
        "#         # When downloading from GitHub, need to use the \"raw\" file link\n",
        "#         #request = requests.get(\"https://github.com/jfink09/optical-funduscopic-convolutional-neural-network/raw/main/images/dr100.jpg\")\n",
        "#         #request = requests.get(\"https://github.com/jfink09/optical-funduscopic-convolutional-neural-network/raw/main/images/normal61.jpg\")\n",
        "#         request = requests.get(\"https://github.com/jfink09/DeepFundus/raw/main/images/pm256.jpg\")\n",
        "#         print(f\"Downloading {custom_image_path}...\")\n",
        "#         f.write(request.content)\n",
        "# else:\n",
        "#     print(f\"{custom_image_path} already exists, skipping download.\")\n",
        "\n",
        "# # Predict on custom image\n",
        "# pred_and_plot_image(model=model,\n",
        "#                     image_path=custom_image_path,\n",
        "#                     class_names=class_names)"
      ],
      "metadata": {
        "id": "ykOVlIUMsUCt"
      },
      "execution_count": null,
      "outputs": []
    },
    {
      "cell_type": "code",
      "source": [
        "# Import/install Gradio \n",
        "try:\n",
        "    import gradio as gr\n",
        "except: \n",
        "    !pip -q install gradio\n",
        "    import gradio as gr\n",
        "    \n",
        "print(f\"Gradio version: {gr.__version__}\")"
      ],
      "metadata": {
        "colab": {
          "base_uri": "https://localhost:8080/"
        },
        "id": "bIygv91sssiB",
        "outputId": "b2098da8-b681-4518-c02a-edcdec3b2e4a"
      },
      "execution_count": null,
      "outputs": [
        {
          "output_type": "stream",
          "name": "stdout",
          "text": [
            "\u001b[2K     \u001b[90m━━━━━━━━━━━━━━━━━━━━━━━━━━━━━━━━━━━━━━━━\u001b[0m \u001b[32m14.2/14.2 MB\u001b[0m \u001b[31m81.2 MB/s\u001b[0m eta \u001b[36m0:00:00\u001b[0m\n",
            "\u001b[2K     \u001b[90m━━━━━━━━━━━━━━━━━━━━━━━━━━━━━━━━━━━━━━━━\u001b[0m \u001b[32m55.8/55.8 KB\u001b[0m \u001b[31m7.8 MB/s\u001b[0m eta \u001b[36m0:00:00\u001b[0m\n",
            "\u001b[2K     \u001b[90m━━━━━━━━━━━━━━━━━━━━━━━━━━━━━━━━━━━━━━━━\u001b[0m \u001b[32m2.3/2.3 MB\u001b[0m \u001b[31m77.2 MB/s\u001b[0m eta \u001b[36m0:00:00\u001b[0m\n",
            "\u001b[?25h  Preparing metadata (setup.py) ... \u001b[?25l\u001b[?25hdone\n",
            "\u001b[2K     \u001b[90m━━━━━━━━━━━━━━━━━━━━━━━━━━━━━━━━━━━━━━━━\u001b[0m \u001b[32m71.5/71.5 KB\u001b[0m \u001b[31m8.9 MB/s\u001b[0m eta \u001b[36m0:00:00\u001b[0m\n",
            "\u001b[2K     \u001b[90m━━━━━━━━━━━━━━━━━━━━━━━━━━━━━━━━━━━━━━━━\u001b[0m \u001b[32m84.5/84.5 KB\u001b[0m \u001b[31m11.8 MB/s\u001b[0m eta \u001b[36m0:00:00\u001b[0m\n",
            "\u001b[?25h  Preparing metadata (setup.py) ... \u001b[?25l\u001b[?25hdone\n",
            "\u001b[2K     \u001b[90m━━━━━━━━━━━━━━━━━━━━━━━━━━━━━━━━━━━━━━\u001b[0m \u001b[32m107.0/107.0 KB\u001b[0m \u001b[31m15.3 MB/s\u001b[0m eta \u001b[36m0:00:00\u001b[0m\n",
            "\u001b[2K     \u001b[90m━━━━━━━━━━━━━━━━━━━━━━━━━━━━━━━━━━━━━━\u001b[0m \u001b[32m140.6/140.6 KB\u001b[0m \u001b[31m18.4 MB/s\u001b[0m eta \u001b[36m0:00:00\u001b[0m\n",
            "\u001b[2K     \u001b[90m━━━━━━━━━━━━━━━━━━━━━━━━━━━━━━━━━━━━━━━━\u001b[0m \u001b[32m56.9/56.9 KB\u001b[0m \u001b[31m7.1 MB/s\u001b[0m eta \u001b[36m0:00:00\u001b[0m\n",
            "\u001b[2K     \u001b[90m━━━━━━━━━━━━━━━━━━━━━━━━━━━━━━━━━━━━━━━━\u001b[0m \u001b[32m64.3/64.3 KB\u001b[0m \u001b[31m8.2 MB/s\u001b[0m eta \u001b[36m0:00:00\u001b[0m\n",
            "\u001b[2K     \u001b[90m━━━━━━━━━━━━━━━━━━━━━━━━━━━━━━━━━━━━━━━━\u001b[0m \u001b[32m80.6/80.6 KB\u001b[0m \u001b[31m11.9 MB/s\u001b[0m eta \u001b[36m0:00:00\u001b[0m\n",
            "\u001b[2K     \u001b[90m━━━━━━━━━━━━━━━━━━━━━━━━━━━━━━━━━━━━━━━━\u001b[0m \u001b[32m69.6/69.6 KB\u001b[0m \u001b[31m9.4 MB/s\u001b[0m eta \u001b[36m0:00:00\u001b[0m\n",
            "\u001b[2K     \u001b[90m━━━━━━━━━━━━━━━━━━━━━━━━━━━━━━━━━━━━━━━━\u001b[0m \u001b[32m50.5/50.5 KB\u001b[0m \u001b[31m6.8 MB/s\u001b[0m eta \u001b[36m0:00:00\u001b[0m\n",
            "\u001b[2K     \u001b[90m━━━━━━━━━━━━━━━━━━━━━━━━━━━━━━━━━━━━━━━━\u001b[0m \u001b[32m58.3/58.3 KB\u001b[0m \u001b[31m7.4 MB/s\u001b[0m eta \u001b[36m0:00:00\u001b[0m\n",
            "\u001b[?25h  Building wheel for ffmpy (setup.py) ... \u001b[?25l\u001b[?25hdone\n",
            "  Building wheel for python-multipart (setup.py) ... \u001b[?25l\u001b[?25hdone\n",
            "Gradio version: 3.16.2\n"
          ]
        }
      ]
    },
    {
      "cell_type": "code",
      "source": [
        "from google.colab import drive\n",
        "drive.mount('/content/drive')"
      ],
      "metadata": {
        "colab": {
          "base_uri": "https://localhost:8080/"
        },
        "id": "bIJYKDgJg3tl",
        "outputId": "42d876db-ec18-410d-dae6-aaf7dd363855"
      },
      "execution_count": null,
      "outputs": [
        {
          "output_type": "stream",
          "name": "stdout",
          "text": [
            "Drive already mounted at /content/drive; to attempt to forcibly remount, call drive.mount(\"/content/drive\", force_remount=True).\n"
          ]
        }
      ]
    },
    {
      "cell_type": "code",
      "source": [
        "# Put EffNetB0 on CPU\n",
        "model.to(\"cpu\") \n",
        "\n",
        "# Check the device\n",
        "next(iter(model.parameters())).device"
      ],
      "metadata": {
        "colab": {
          "base_uri": "https://localhost:8080/"
        },
        "id": "C3X4ZIvts5dQ",
        "outputId": "03015afe-412f-4344-de9a-580ce232be31"
      },
      "execution_count": null,
      "outputs": [
        {
          "output_type": "execute_result",
          "data": {
            "text/plain": [
              "device(type='cpu')"
            ]
          },
          "metadata": {},
          "execution_count": 61
        }
      ]
    },
    {
      "cell_type": "code",
      "source": [
        "# 1. Setup pretrained EffNetB0 weights\n",
        "effnetb7_weights = torchvision.models.EfficientNet_B7_Weights.DEFAULT\n",
        "\n",
        "# 2. Get EffNetB0 transforms\n",
        "effnetb7_transforms = effnetb7_weights.transforms()\n",
        "\n",
        "# 3. Setup pretrained model\n",
        "effnetb7 = torchvision.models.efficientnet_b7(weights=effnetb7_weights) # could also use weights=\"DEFAULT\"\n",
        "\n",
        "# 4. Freeze the base layers in the model (this will freeze all layers to begin with)\n",
        "for param in effnetb7.parameters():\n",
        "    param.requires_grad = False"
      ],
      "metadata": {
        "id": "dDY4GC7WZnnH"
      },
      "execution_count": null,
      "outputs": []
    },
    {
      "cell_type": "code",
      "source": [
        "# Check out EffNetB0 classifier head\n",
        "effnetb7.classifier"
      ],
      "metadata": {
        "colab": {
          "base_uri": "https://localhost:8080/"
        },
        "id": "1DTSszdVZtEV",
        "outputId": "c0de63c4-fc82-400e-c404-f9a815709e5b"
      },
      "execution_count": null,
      "outputs": [
        {
          "output_type": "execute_result",
          "data": {
            "text/plain": [
              "Sequential(\n",
              "  (0): Dropout(p=0.5, inplace=True)\n",
              "  (1): Linear(in_features=2560, out_features=1000, bias=True)\n",
              ")"
            ]
          },
          "metadata": {},
          "execution_count": 63
        }
      ]
    },
    {
      "cell_type": "code",
      "source": [
        "# 5. Update the classifier head\n",
        "effnetb7.classifier = nn.Sequential(\n",
        "    nn.Dropout(p=0.3, inplace=True), # keep dropout layer same\n",
        "    nn.Linear(in_features=2560, # keep in_features same \n",
        "              out_features=8)) # change out_features to suit our number of classes # 4"
      ],
      "metadata": {
        "id": "ZV98em5sZue1"
      },
      "execution_count": null,
      "outputs": []
    },
    {
      "cell_type": "code",
      "source": [
        "def create_effnetb7_model(num_classes:int=8, # 4\n",
        "                          seed:int=42):\n",
        "    \"\"\"Creates an EfficientNetB0 feature extractor model and transforms.\n",
        "\n",
        "    Args:\n",
        "        num_classes (int, optional): number of classes in the classifier head. \n",
        "            Defaults to 3.\n",
        "        seed (int, optional): random seed value. Defaults to 42.\n",
        "\n",
        "    Returns:\n",
        "        model (torch.nn.Module): EffNetB2 feature extractor model. \n",
        "        transforms (torchvision.transforms): EffNetB0 image transforms.\n",
        "    \"\"\"\n",
        "    # 1, 2, 3. Create EffNetB0 pretrained weights, transforms and model\n",
        "    weights = torchvision.models.EfficientNet_B7_Weights.DEFAULT\n",
        "    transforms = weights.transforms()\n",
        "    model = torchvision.models.efficientnet_b7(weights=weights)\n",
        "\n",
        "    # 4. Freeze all layers in base model\n",
        "    for param in model.parameters():\n",
        "        param.requires_grad = False\n",
        "\n",
        "    # 5. Change classifier head with random seed for reproducibility\n",
        "    torch.manual_seed(seed)\n",
        "    model.classifier = nn.Sequential(\n",
        "        nn.Dropout(p=0.3, inplace=True),\n",
        "        nn.Linear(in_features=2560\n",
        "                  , out_features=num_classes), # If using EffnetB2 in_features = 1408, EffnetB0 in_features = 1280\n",
        "    )\n",
        "    \n",
        "    return model, transforms"
      ],
      "metadata": {
        "id": "qBwZWOmbZyfN"
      },
      "execution_count": null,
      "outputs": []
    },
    {
      "cell_type": "code",
      "source": [
        "effnetb7, effnetb7_transforms = create_effnetb7_model(num_classes=8, # 4\n",
        "                                                      seed=42)"
      ],
      "metadata": {
        "id": "KEFw7kIxZ73V"
      },
      "execution_count": null,
      "outputs": []
    },
    {
      "cell_type": "code",
      "source": [
        "from torchinfo import summary\n",
        "\n",
        "# Print EffNetB0 model summary (uncomment for full output) \n",
        "summary(effnetb7, \n",
        "        input_size=(1, 3, 224, 224),\n",
        "        col_names=[\"input_size\", \"output_size\", \"num_params\", \"trainable\"],\n",
        "        col_width=20,\n",
        "        row_settings=[\"var_names\"])"
      ],
      "metadata": {
        "colab": {
          "base_uri": "https://localhost:8080/"
        },
        "id": "qDucJ7y0Z9m6",
        "outputId": "b51f96e0-2a8b-451a-e676-4168308ce752"
      },
      "execution_count": null,
      "outputs": [
        {
          "output_type": "execute_result",
          "data": {
            "text/plain": [
              "============================================================================================================================================\n",
              "Layer (type (var_name))                                      Input Shape          Output Shape         Param #              Trainable\n",
              "============================================================================================================================================\n",
              "EfficientNet (EfficientNet)                                  [1, 3, 224, 224]     [1, 8]               --                   Partial\n",
              "├─Sequential (features)                                      [1, 3, 224, 224]     [1, 2560, 7, 7]      --                   False\n",
              "│    └─Conv2dNormActivation (0)                              [1, 3, 224, 224]     [1, 64, 112, 112]    --                   False\n",
              "│    │    └─Conv2d (0)                                       [1, 3, 224, 224]     [1, 64, 112, 112]    (1,728)              False\n",
              "│    │    └─BatchNorm2d (1)                                  [1, 64, 112, 112]    [1, 64, 112, 112]    (128)                False\n",
              "│    │    └─SiLU (2)                                         [1, 64, 112, 112]    [1, 64, 112, 112]    --                   --\n",
              "│    └─Sequential (1)                                        [1, 64, 112, 112]    [1, 32, 112, 112]    --                   False\n",
              "│    │    └─MBConv (0)                                       [1, 64, 112, 112]    [1, 32, 112, 112]    (4,944)              False\n",
              "│    │    └─MBConv (1)                                       [1, 32, 112, 112]    [1, 32, 112, 112]    (1,992)              False\n",
              "│    │    └─MBConv (2)                                       [1, 32, 112, 112]    [1, 32, 112, 112]    (1,992)              False\n",
              "│    │    └─MBConv (3)                                       [1, 32, 112, 112]    [1, 32, 112, 112]    (1,992)              False\n",
              "│    └─Sequential (2)                                        [1, 32, 112, 112]    [1, 48, 56, 56]      --                   False\n",
              "│    │    └─MBConv (0)                                       [1, 32, 112, 112]    [1, 48, 56, 56]      (21,224)             False\n",
              "│    │    └─MBConv (1)                                       [1, 48, 56, 56]      [1, 48, 56, 56]      (38,700)             False\n",
              "│    │    └─MBConv (2)                                       [1, 48, 56, 56]      [1, 48, 56, 56]      (38,700)             False\n",
              "│    │    └─MBConv (3)                                       [1, 48, 56, 56]      [1, 48, 56, 56]      (38,700)             False\n",
              "│    │    └─MBConv (4)                                       [1, 48, 56, 56]      [1, 48, 56, 56]      (38,700)             False\n",
              "│    │    └─MBConv (5)                                       [1, 48, 56, 56]      [1, 48, 56, 56]      (38,700)             False\n",
              "│    │    └─MBConv (6)                                       [1, 48, 56, 56]      [1, 48, 56, 56]      (38,700)             False\n",
              "│    └─Sequential (3)                                        [1, 48, 56, 56]      [1, 80, 28, 28]      --                   False\n",
              "│    │    └─MBConv (0)                                       [1, 48, 56, 56]      [1, 80, 28, 28]      (52,588)             False\n",
              "│    │    └─MBConv (1)                                       [1, 80, 28, 28]      [1, 80, 28, 28]      (110,580)            False\n",
              "│    │    └─MBConv (2)                                       [1, 80, 28, 28]      [1, 80, 28, 28]      (110,580)            False\n",
              "│    │    └─MBConv (3)                                       [1, 80, 28, 28]      [1, 80, 28, 28]      (110,580)            False\n",
              "│    │    └─MBConv (4)                                       [1, 80, 28, 28]      [1, 80, 28, 28]      (110,580)            False\n",
              "│    │    └─MBConv (5)                                       [1, 80, 28, 28]      [1, 80, 28, 28]      (110,580)            False\n",
              "│    │    └─MBConv (6)                                       [1, 80, 28, 28]      [1, 80, 28, 28]      (110,580)            False\n",
              "│    └─Sequential (4)                                        [1, 80, 28, 28]      [1, 160, 14, 14]     --                   False\n",
              "│    │    └─MBConv (0)                                       [1, 80, 28, 28]      [1, 160, 14, 14]     (141,460)            False\n",
              "│    │    └─MBConv (1)                                       [1, 160, 14, 14]     [1, 160, 14, 14]     (397,800)            False\n",
              "│    │    └─MBConv (2)                                       [1, 160, 14, 14]     [1, 160, 14, 14]     (397,800)            False\n",
              "│    │    └─MBConv (3)                                       [1, 160, 14, 14]     [1, 160, 14, 14]     (397,800)            False\n",
              "│    │    └─MBConv (4)                                       [1, 160, 14, 14]     [1, 160, 14, 14]     (397,800)            False\n",
              "│    │    └─MBConv (5)                                       [1, 160, 14, 14]     [1, 160, 14, 14]     (397,800)            False\n",
              "│    │    └─MBConv (6)                                       [1, 160, 14, 14]     [1, 160, 14, 14]     (397,800)            False\n",
              "│    │    └─MBConv (7)                                       [1, 160, 14, 14]     [1, 160, 14, 14]     (397,800)            False\n",
              "│    │    └─MBConv (8)                                       [1, 160, 14, 14]     [1, 160, 14, 14]     (397,800)            False\n",
              "│    │    └─MBConv (9)                                       [1, 160, 14, 14]     [1, 160, 14, 14]     (397,800)            False\n",
              "│    └─Sequential (5)                                        [1, 160, 14, 14]     [1, 224, 14, 14]     --                   False\n",
              "│    │    └─MBConv (0)                                       [1, 160, 14, 14]     [1, 224, 14, 14]     (474,728)            False\n",
              "│    │    └─MBConv (1)                                       [1, 224, 14, 14]     [1, 224, 14, 14]     (793,464)            False\n",
              "│    │    └─MBConv (2)                                       [1, 224, 14, 14]     [1, 224, 14, 14]     (793,464)            False\n",
              "│    │    └─MBConv (3)                                       [1, 224, 14, 14]     [1, 224, 14, 14]     (793,464)            False\n",
              "│    │    └─MBConv (4)                                       [1, 224, 14, 14]     [1, 224, 14, 14]     (793,464)            False\n",
              "│    │    └─MBConv (5)                                       [1, 224, 14, 14]     [1, 224, 14, 14]     (793,464)            False\n",
              "│    │    └─MBConv (6)                                       [1, 224, 14, 14]     [1, 224, 14, 14]     (793,464)            False\n",
              "│    │    └─MBConv (7)                                       [1, 224, 14, 14]     [1, 224, 14, 14]     (793,464)            False\n",
              "│    │    └─MBConv (8)                                       [1, 224, 14, 14]     [1, 224, 14, 14]     (793,464)            False\n",
              "│    │    └─MBConv (9)                                       [1, 224, 14, 14]     [1, 224, 14, 14]     (793,464)            False\n",
              "│    └─Sequential (6)                                        [1, 224, 14, 14]     [1, 384, 7, 7]       --                   False\n",
              "│    │    └─MBConv (0)                                       [1, 224, 14, 14]     [1, 384, 7, 7]       (1,008,824)          False\n",
              "│    │    └─MBConv (1)                                       [1, 384, 7, 7]       [1, 384, 7, 7]       (2,281,824)          False\n",
              "│    │    └─MBConv (2)                                       [1, 384, 7, 7]       [1, 384, 7, 7]       (2,281,824)          False\n",
              "│    │    └─MBConv (3)                                       [1, 384, 7, 7]       [1, 384, 7, 7]       (2,281,824)          False\n",
              "│    │    └─MBConv (4)                                       [1, 384, 7, 7]       [1, 384, 7, 7]       (2,281,824)          False\n",
              "│    │    └─MBConv (5)                                       [1, 384, 7, 7]       [1, 384, 7, 7]       (2,281,824)          False\n",
              "│    │    └─MBConv (6)                                       [1, 384, 7, 7]       [1, 384, 7, 7]       (2,281,824)          False\n",
              "│    │    └─MBConv (7)                                       [1, 384, 7, 7]       [1, 384, 7, 7]       (2,281,824)          False\n",
              "│    │    └─MBConv (8)                                       [1, 384, 7, 7]       [1, 384, 7, 7]       (2,281,824)          False\n",
              "│    │    └─MBConv (9)                                       [1, 384, 7, 7]       [1, 384, 7, 7]       (2,281,824)          False\n",
              "│    │    └─MBConv (10)                                      [1, 384, 7, 7]       [1, 384, 7, 7]       (2,281,824)          False\n",
              "│    │    └─MBConv (11)                                      [1, 384, 7, 7]       [1, 384, 7, 7]       (2,281,824)          False\n",
              "│    │    └─MBConv (12)                                      [1, 384, 7, 7]       [1, 384, 7, 7]       (2,281,824)          False\n",
              "│    └─Sequential (7)                                        [1, 384, 7, 7]       [1, 640, 7, 7]       --                   False\n",
              "│    │    └─MBConv (0)                                       [1, 384, 7, 7]       [1, 640, 7, 7]       (2,835,296)          False\n",
              "│    │    └─MBConv (1)                                       [1, 640, 7, 7]       [1, 640, 7, 7]       (6,199,200)          False\n",
              "│    │    └─MBConv (2)                                       [1, 640, 7, 7]       [1, 640, 7, 7]       (6,199,200)          False\n",
              "│    │    └─MBConv (3)                                       [1, 640, 7, 7]       [1, 640, 7, 7]       (6,199,200)          False\n",
              "│    └─Conv2dNormActivation (8)                              [1, 640, 7, 7]       [1, 2560, 7, 7]      --                   False\n",
              "│    │    └─Conv2d (0)                                       [1, 640, 7, 7]       [1, 2560, 7, 7]      (1,638,400)          False\n",
              "│    │    └─BatchNorm2d (1)                                  [1, 2560, 7, 7]      [1, 2560, 7, 7]      (5,120)              False\n",
              "│    │    └─SiLU (2)                                         [1, 2560, 7, 7]      [1, 2560, 7, 7]      --                   --\n",
              "├─AdaptiveAvgPool2d (avgpool)                                [1, 2560, 7, 7]      [1, 2560, 1, 1]      --                   --\n",
              "├─Sequential (classifier)                                    [1, 2560]            [1, 8]               --                   True\n",
              "│    └─Dropout (0)                                           [1, 2560]            [1, 2560]            --                   --\n",
              "│    └─Linear (1)                                            [1, 2560]            [1, 8]               20,488               True\n",
              "============================================================================================================================================\n",
              "Total params: 63,807,448\n",
              "Trainable params: 20,488\n",
              "Non-trainable params: 63,786,960\n",
              "Total mult-adds (G): 5.17\n",
              "============================================================================================================================================\n",
              "Input size (MB): 0.60\n",
              "Forward/backward pass size (MB): 640.88\n",
              "Params size (MB): 255.23\n",
              "Estimated Total Size (MB): 896.71\n",
              "============================================================================================================================================"
            ]
          },
          "metadata": {},
          "execution_count": 67
        }
      ]
    },
    {
      "cell_type": "code",
      "source": [
        "# Setup DataLoaders\n",
        "from going_modular.going_modular import data_setup\n",
        "train_dataloader_effnetb7, test_dataloader_effnetb7, class_names = data_setup.create_dataloaders(train_dir=train_dir,\n",
        "                                                                                                 test_dir=test_dir,\n",
        "                                                                                                 transform=effnetb7_transforms,\n",
        "                                                                                                 batch_size=32)"
      ],
      "metadata": {
        "id": "mnQqjRXKaGbV"
      },
      "execution_count": null,
      "outputs": []
    },
    {
      "cell_type": "code",
      "source": [
        "from going_modular.going_modular import engine\n",
        "\n",
        "# Setup optimizer\n",
        "optimizer = torch.optim.Adam(params=effnetb7.parameters(),\n",
        "                             lr=1e-3)\n",
        "# Setup loss function\n",
        "loss_fn = torch.nn.CrossEntropyLoss()\n",
        "\n",
        "# Set seeds for reproducibility and train the model\n",
        "#set_seeds()\n",
        "effnetb7_results = engine.train(model=effnetb7,\n",
        "                                train_dataloader=train_dataloader_effnetb7,\n",
        "                                test_dataloader=test_dataloader_effnetb7,\n",
        "                                epochs=20,\n",
        "                                optimizer=optimizer,\n",
        "                                loss_fn=loss_fn,\n",
        "                                device=device)"
      ],
      "metadata": {
        "colab": {
          "base_uri": "https://localhost:8080/",
          "height": 396,
          "referenced_widgets": [
            "e4a4fe2135f34144b3ce2c1e43babf99",
            "58ddee71eee943c09a34f29630ac05ce",
            "66ac9ffd12384d93886d002a7b424eee",
            "56937761518b4f93b18243e135530216",
            "cc09bd320f744f169ab6fbdab333673c",
            "a942dc51ca7a4ee0b731af2a6e9bef1f",
            "e470f531cbee4ff8ba696172b3c00265",
            "4db5cddf80f1455fb141048dd80e6d6f",
            "d2eb56cfa95f40caaf5ab1afffa12b8b",
            "d56c7226cbea4f98a2aba8601a14d83d",
            "990c7847316d4bca993b57b5e718bb1f"
          ]
        },
        "id": "3cu6pWGeaQMN",
        "outputId": "75c06dc2-d4d2-44d1-f50b-ddc288578be4"
      },
      "execution_count": null,
      "outputs": [
        {
          "output_type": "display_data",
          "data": {
            "text/plain": [
              "  0%|          | 0/20 [00:00<?, ?it/s]"
            ],
            "application/vnd.jupyter.widget-view+json": {
              "version_major": 2,
              "version_minor": 0,
              "model_id": "e4a4fe2135f34144b3ce2c1e43babf99"
            }
          },
          "metadata": {}
        },
        {
          "output_type": "stream",
          "name": "stdout",
          "text": [
            "Epoch: 1 | train_loss: 1.1550 | train_acc: 0.7143 | test_loss: 1.8461 | test_acc: 0.2976\n",
            "Epoch: 2 | train_loss: 0.9028 | train_acc: 0.7808 | test_loss: 1.6429 | test_acc: 0.4330\n",
            "Epoch: 3 | train_loss: 0.7836 | train_acc: 0.8093 | test_loss: 1.3524 | test_acc: 0.5625\n",
            "Epoch: 4 | train_loss: 0.6710 | train_acc: 0.8481 | test_loss: 1.1311 | test_acc: 0.6860\n",
            "Epoch: 5 | train_loss: 0.6158 | train_acc: 0.8553 | test_loss: 0.9967 | test_acc: 0.7262\n",
            "Epoch: 6 | train_loss: 0.5554 | train_acc: 0.8646 | test_loss: 0.9078 | test_acc: 0.7723\n",
            "Epoch: 7 | train_loss: 0.5024 | train_acc: 0.8917 | test_loss: 0.8529 | test_acc: 0.7812\n",
            "Epoch: 8 | train_loss: 0.4708 | train_acc: 0.8951 | test_loss: 0.8160 | test_acc: 0.7812\n",
            "Epoch: 9 | train_loss: 0.4485 | train_acc: 0.8977 | test_loss: 0.7786 | test_acc: 0.7768\n",
            "Epoch: 10 | train_loss: 0.4128 | train_acc: 0.9219 | test_loss: 0.7713 | test_acc: 0.7768\n",
            "Epoch: 11 | train_loss: 0.3827 | train_acc: 0.9181 | test_loss: 0.7601 | test_acc: 0.7679\n",
            "Epoch: 12 | train_loss: 0.3701 | train_acc: 0.9207 | test_loss: 0.7600 | test_acc: 0.7753\n",
            "Epoch: 13 | train_loss: 0.3519 | train_acc: 0.9337 | test_loss: 0.7484 | test_acc: 0.7738\n",
            "Epoch: 14 | train_loss: 0.3317 | train_acc: 0.9360 | test_loss: 0.7415 | test_acc: 0.7872\n",
            "Epoch: 15 | train_loss: 0.3273 | train_acc: 0.9248 | test_loss: 0.7266 | test_acc: 0.7961\n",
            "Epoch: 16 | train_loss: 0.3165 | train_acc: 0.9226 | test_loss: 0.7321 | test_acc: 0.7783\n",
            "Epoch: 17 | train_loss: 0.2896 | train_acc: 0.9363 | test_loss: 0.7191 | test_acc: 0.7872\n",
            "Epoch: 18 | train_loss: 0.2675 | train_acc: 0.9483 | test_loss: 0.7146 | test_acc: 0.7872\n",
            "Epoch: 19 | train_loss: 0.2797 | train_acc: 0.9518 | test_loss: 0.7064 | test_acc: 0.7872\n",
            "Epoch: 20 | train_loss: 0.2752 | train_acc: 0.9324 | test_loss: 0.7020 | test_acc: 0.7917\n"
          ]
        }
      ]
    },
    {
      "cell_type": "code",
      "source": [
        "from helper_functions import plot_loss_curves\n",
        "\n",
        "plot_loss_curves(effnetb7_results)"
      ],
      "metadata": {
        "colab": {
          "base_uri": "https://localhost:8080/",
          "height": 458
        },
        "id": "A127MXLTahen",
        "outputId": "3264d394-24ea-4d39-e4c8-9fa5e234ef9d"
      },
      "execution_count": null,
      "outputs": [
        {
          "output_type": "display_data",
          "data": {
            "text/plain": [
              "<Figure size 1080x504 with 2 Axes>"
            ],
            "image/png": "[encoded data removed]"
          },
          "metadata": {
            "needs_background": "light"
          }
        }
      ]
    },
    {
      "cell_type": "code",
      "source": [
        "from going_modular.going_modular import utils\n",
        "\n",
        "# Save the model\n",
        "utils.save_model(model=effnetb7,\n",
        "                 target_dir=\"models\",\n",
        "                 model_name=\"pretrained_effnetb0_feature_extractor_drappcompressed.pth\")"
      ],
      "metadata": {
        "colab": {
          "base_uri": "https://localhost:8080/"
        },
        "id": "H3XDIkTVam4H",
        "outputId": "c97ecb48-d7f9-4fcf-f0e8-a41898f40793"
      },
      "execution_count": null,
      "outputs": [
        {
          "output_type": "stream",
          "name": "stdout",
          "text": [
            "[INFO] Saving model to: models/pretrained_effnetb0_feature_extractor_drappcompressed.pth\n"
          ]
        }
      ]
    },
    {
      "cell_type": "code",
      "source": [
        "from pathlib import Path\n",
        "\n",
        "# Get the model size in bytes then convert to megabytes\n",
        "pretrained_effnetb7_model_size = Path(\"models/pretrained_effnetb0_feature_extractor_drappcompressed.pth\").stat().st_size // (1024*1024) # division converts bytes to megabytes (roughly) \n",
        "print(f\"Pretrained EffNetB0 feature extractor model size: {pretrained_effnetb7_model_size} MB\")"
      ],
      "metadata": {
        "colab": {
          "base_uri": "https://localhost:8080/"
        },
        "id": "1f539Wfqawe0",
        "outputId": "94ca9282-a48d-4433-82d3-c00c63306a19"
      },
      "execution_count": null,
      "outputs": [
        {
          "output_type": "stream",
          "name": "stdout",
          "text": [
            "Pretrained EffNetB0 feature extractor model size: 245 MB\n"
          ]
        }
      ]
    },
    {
      "cell_type": "code",
      "source": [
        "# Count number of parameters in EffNetB0\n",
        "effnetb7_total_params = sum(torch.numel(param) for param in effnetb7.parameters())\n",
        "effnetb7_total_params"
      ],
      "metadata": {
        "colab": {
          "base_uri": "https://localhost:8080/"
        },
        "id": "Z6MQW1M1a2Lg",
        "outputId": "59690b24-66ea-412b-effd-3f2a397c66df"
      },
      "execution_count": null,
      "outputs": [
        {
          "output_type": "execute_result",
          "data": {
            "text/plain": [
              "63807448"
            ]
          },
          "metadata": {},
          "execution_count": 75
        }
      ]
    },
    {
      "cell_type": "code",
      "source": [
        "# Create a dictionary with EffNetB0 statistics\n",
        "effnetb7_stats = {\"test_loss\": effnetb7_results[\"test_loss\"][-1],\n",
        "                  \"test_acc\": effnetb7_results[\"test_acc\"][-1],\n",
        "                  \"number_of_parameters\": effnetb7_total_params,\n",
        "                  \"model_size (MB)\": pretrained_effnetb7_model_size}\n",
        "effnetb7_stats"
      ],
      "metadata": {
        "colab": {
          "base_uri": "https://localhost:8080/"
        },
        "id": "j_IZ_z3Oa4xx",
        "outputId": "8abac92f-a939-4e6f-9b2e-0bcf637eb175"
      },
      "execution_count": null,
      "outputs": [
        {
          "output_type": "execute_result",
          "data": {
            "text/plain": [
              "{'test_loss': 0.7020437717437744,\n",
              " 'test_acc': 0.7916666666666667,\n",
              " 'number_of_parameters': 63807448,\n",
              " 'model_size (MB)': 245}"
            ]
          },
          "metadata": {},
          "execution_count": 76
        }
      ]
    },
    {
      "cell_type": "code",
      "source": [
        "from pathlib import Path\n",
        "\n",
        "# Get all test data paths\n",
        "print(f\"[INFO] Finding all filepaths ending with '.jpg' in directory: {test_dir}\")\n",
        "test_data_paths = list(Path(test_dir).glob(\"*/*.jpg\"))\n",
        "test_data_paths[:5]"
      ],
      "metadata": {
        "colab": {
          "base_uri": "https://localhost:8080/"
        },
        "id": "kXBmjp_QbKB1",
        "outputId": "3318605d-1f5c-4a9f-e839-8c030c6df3e5"
      },
      "execution_count": null,
      "outputs": [
        {
          "output_type": "stream",
          "name": "stdout",
          "text": [
            "[INFO] Finding all filepaths ending with '.jpg' in directory: drive/MyDrive/data/test\n"
          ]
        },
        {
          "output_type": "execute_result",
          "data": {
            "text/plain": [
              "[PosixPath('drive/MyDrive/data/test/Normal/normal93.jpg'),\n",
              " PosixPath('drive/MyDrive/data/test/Normal/normal86.jpg'),\n",
              " PosixPath('drive/MyDrive/data/test/Normal/normal89.jpg'),\n",
              " PosixPath('drive/MyDrive/data/test/Normal/normal83.jpg'),\n",
              " PosixPath('drive/MyDrive/data/test/Normal/normal88.jpg')]"
            ]
          },
          "metadata": {},
          "execution_count": 77
        }
      ]
    },
    {
      "cell_type": "code",
      "source": [
        "import pathlib\n",
        "import torch\n",
        "\n",
        "from PIL import Image\n",
        "from timeit import default_timer as timer \n",
        "from tqdm.auto import tqdm\n",
        "from typing import List, Dict\n",
        "\n",
        "# 1. Create a function to return a list of dictionaries with sample, truth label, prediction, prediction probability and prediction time\n",
        "def pred_and_store(paths: List[pathlib.Path], \n",
        "                   model: torch.nn.Module,\n",
        "                   transform: torchvision.transforms, \n",
        "                   class_names: List[str], \n",
        "                   device: str = \"cuda\" if torch.cuda.is_available() else \"cpu\") -> List[Dict]:\n",
        "    \n",
        "    # 2. Create an empty list to store prediction dictionaires\n",
        "    pred_list = []\n",
        "    \n",
        "    # 3. Loop through target paths\n",
        "    for path in tqdm(paths):\n",
        "        \n",
        "        # 4. Create empty dictionary to store prediction information for each sample\n",
        "        pred_dict = {}\n",
        "\n",
        "        # 5. Get the sample path and ground truth class name\n",
        "        pred_dict[\"image_path\"] = path\n",
        "        class_name = path.parent.stem\n",
        "        pred_dict[\"class_name\"] = class_name\n",
        "        \n",
        "        # 6. Start the prediction timer\n",
        "        start_time = timer()\n",
        "        \n",
        "        # 7. Open image path\n",
        "        img = Image.open(path).convert('RGB')\n",
        "        \n",
        "        # 8. Transform the image, add batch dimension and put image on target device\n",
        "        transformed_image = transform(img).unsqueeze(0).to(device) \n",
        "        \n",
        "        # 9. Prepare model for inference by sending it to target device and turning on eval() mode\n",
        "        model.to(device)\n",
        "        model.eval()\n",
        "        \n",
        "        # 10. Get prediction probability, predicition label and prediction class\n",
        "        with torch.inference_mode():\n",
        "            pred_logit = model(transformed_image) # perform inference on target sample \n",
        "            pred_prob = torch.softmax(pred_logit, dim=1) # turn logits into prediction probabilities\n",
        "            pred_label = torch.argmax(pred_prob, dim=1) # turn prediction probabilities into prediction label\n",
        "            pred_class = class_names[pred_label.cpu()] # hardcode prediction class to be on CPU\n",
        "\n",
        "            # 11. Make sure things in the dictionary are on CPU (required for inspecting predictions later on) \n",
        "            pred_dict[\"pred_prob\"] = round(pred_prob.unsqueeze(0).max().cpu().item(), 4)\n",
        "            pred_dict[\"pred_class\"] = pred_class\n",
        "            \n",
        "            # 12. End the timer and calculate time per pred\n",
        "            end_time = timer()\n",
        "            pred_dict[\"time_for_pred\"] = round(end_time-start_time, 4)\n",
        "\n",
        "        # 13. Does the pred match the true label?\n",
        "        pred_dict[\"correct\"] = class_name == pred_class\n",
        "\n",
        "        # 14. Add the dictionary to the list of preds\n",
        "        pred_list.append(pred_dict)\n",
        "    \n",
        "    # 15. Return list of prediction dictionaries\n",
        "    return pred_list"
      ],
      "metadata": {
        "id": "DfHxthYzbdE_"
      },
      "execution_count": null,
      "outputs": []
    },
    {
      "cell_type": "code",
      "source": [
        "# Make predictions across test dataset with EffNetB0\n",
        "effnetb7_test_pred_dicts = pred_and_store(paths=test_data_paths,\n",
        "                                          model=effnetb7,\n",
        "                                          transform=effnetb7_transforms,\n",
        "                                          class_names=class_names,\n",
        "                                          device=\"cpu\") # make predictions on CPU "
      ],
      "metadata": {
        "colab": {
          "base_uri": "https://localhost:8080/",
          "height": 49,
          "referenced_widgets": [
            "fb9ce2a18a774018882e26508c0693f1",
            "becafba89b4a43f4bac954357112c1b9",
            "2acdbe818f9f4b1d93ea73f19f17baed",
            "7fca99a401134a5abd83c3f7f8b5ff71",
            "a790356ceff14ab185388e7e65e2566b",
            "6ae992e6ac714e1ab2c7712cb7b3592a",
            "24a7df471a114da8b0e55c5674e253ed",
            "f074843175ae440e91bb96b89cc45ada",
            "cf89a7cd44eb4e3e8388d0a08947823c",
            "08df7e07011e48a5b4046d67570db855",
            "6d528a8ec56748fbbc8c803cb12fc001"
          ]
        },
        "id": "u5NUust4benB",
        "outputId": "b17bcf23-14ae-41a3-cdf1-02430ebc61c1"
      },
      "execution_count": null,
      "outputs": [
        {
          "output_type": "display_data",
          "data": {
            "text/plain": [
              "  0%|          | 0/204 [00:00<?, ?it/s]"
            ],
            "application/vnd.jupyter.widget-view+json": {
              "version_major": 2,
              "version_minor": 0,
              "model_id": "fb9ce2a18a774018882e26508c0693f1"
            }
          },
          "metadata": {}
        }
      ]
    },
    {
      "cell_type": "code",
      "source": [
        "# Inspect the first 2 prediction dictionaries\n",
        "effnetb7_test_pred_dicts[:2]"
      ],
      "metadata": {
        "colab": {
          "base_uri": "https://localhost:8080/"
        },
        "id": "TzceF0M4bhct",
        "outputId": "99144a95-9af1-4614-acac-2146491f39a0"
      },
      "execution_count": null,
      "outputs": [
        {
          "output_type": "execute_result",
          "data": {
            "text/plain": [
              "[{'image_path': PosixPath('drive/MyDrive/data/test/Normal/normal93.jpg'),\n",
              "  'class_name': 'Normal',\n",
              "  'pred_prob': 0.9983,\n",
              "  'pred_class': 'Normal',\n",
              "  'time_for_pred': 1.9455,\n",
              "  'correct': True},\n",
              " {'image_path': PosixPath('drive/MyDrive/data/test/Normal/normal86.jpg'),\n",
              "  'class_name': 'Normal',\n",
              "  'pred_prob': 0.9879,\n",
              "  'pred_class': 'Normal',\n",
              "  'time_for_pred': 1.6585,\n",
              "  'correct': True}]"
            ]
          },
          "metadata": {},
          "execution_count": 80
        }
      ]
    },
    {
      "cell_type": "code",
      "source": [
        "# Turn the test_pred_dicts into a DataFrame\n",
        "import pandas as pd\n",
        "effnetb7_test_pred_df = pd.DataFrame(effnetb7_test_pred_dicts)\n",
        "effnetb7_test_pred_df.head()"
      ],
      "metadata": {
        "colab": {
          "base_uri": "https://localhost:8080/",
          "height": 206
        },
        "id": "566UnEh8blk5",
        "outputId": "04b8e663-ac01-48a0-ec15-637510e35a0e"
      },
      "execution_count": null,
      "outputs": [
        {
          "output_type": "execute_result",
          "data": {
            "text/plain": [
              "                                    image_path class_name  pred_prob  \\\n",
              "0  drive/MyDrive/data/test/Normal/normal93.jpg     Normal     0.9983   \n",
              "1  drive/MyDrive/data/test/Normal/normal86.jpg     Normal     0.9879   \n",
              "2  drive/MyDrive/data/test/Normal/normal89.jpg     Normal     0.9902   \n",
              "3  drive/MyDrive/data/test/Normal/normal83.jpg     Normal     0.9039   \n",
              "4  drive/MyDrive/data/test/Normal/normal88.jpg     Normal     0.9975   \n",
              "\n",
              "  pred_class  time_for_pred  correct  \n",
              "0     Normal         1.9455     True  \n",
              "1     Normal         1.6585     True  \n",
              "2     Normal         1.6430     True  \n",
              "3     Normal         1.7962     True  \n",
              "4     Normal         1.6492     True  "
            ],
            "text/html": [
              "\n",
              "  <div id=\"df-ac9e000b-1747-40b8-b970-9d439f0773d6\">\n",
              "    <div class=\"colab-df-container\">\n",
              "      <div>\n",
              "<style scoped>\n",
              "    .dataframe tbody tr th:only-of-type {\n",
              "        vertical-align: middle;\n",
              "    }\n",
              "\n",
              "    .dataframe tbody tr th {\n",
              "        vertical-align: top;\n",
              "    }\n",
              "\n",
              "    .dataframe thead th {\n",
              "        text-align: right;\n",
              "    }\n",
              "</style>\n",
              "<table border=\"1\" class=\"dataframe\">\n",
              "  <thead>\n",
              "    <tr style=\"text-align: right;\">\n",
              "      <th></th>\n",
              "      <th>image_path</th>\n",
              "      <th>class_name</th>\n",
              "      <th>pred_prob</th>\n",
              "      <th>pred_class</th>\n",
              "      <th>time_for_pred</th>\n",
              "      <th>correct</th>\n",
              "    </tr>\n",
              "  </thead>\n",
              "  <tbody>\n",
              "    <tr>\n",
              "      <th>0</th>\n",
              "      <td>drive/MyDrive/data/test/Normal/normal93.jpg</td>\n",
              "      <td>Normal</td>\n",
              "      <td>0.9983</td>\n",
              "      <td>Normal</td>\n",
              "      <td>1.9455</td>\n",
              "      <td>True</td>\n",
              "    </tr>\n",
              "    <tr>\n",
              "      <th>1</th>\n",
              "      <td>drive/MyDrive/data/test/Normal/normal86.jpg</td>\n",
              "      <td>Normal</td>\n",
              "      <td>0.9879</td>\n",
              "      <td>Normal</td>\n",
              "      <td>1.6585</td>\n",
              "      <td>True</td>\n",
              "    </tr>\n",
              "    <tr>\n",
              "      <th>2</th>\n",
              "      <td>drive/MyDrive/data/test/Normal/normal89.jpg</td>\n",
              "      <td>Normal</td>\n",
              "      <td>0.9902</td>\n",
              "      <td>Normal</td>\n",
              "      <td>1.6430</td>\n",
              "      <td>True</td>\n",
              "    </tr>\n",
              "    <tr>\n",
              "      <th>3</th>\n",
              "      <td>drive/MyDrive/data/test/Normal/normal83.jpg</td>\n",
              "      <td>Normal</td>\n",
              "      <td>0.9039</td>\n",
              "      <td>Normal</td>\n",
              "      <td>1.7962</td>\n",
              "      <td>True</td>\n",
              "    </tr>\n",
              "    <tr>\n",
              "      <th>4</th>\n",
              "      <td>drive/MyDrive/data/test/Normal/normal88.jpg</td>\n",
              "      <td>Normal</td>\n",
              "      <td>0.9975</td>\n",
              "      <td>Normal</td>\n",
              "      <td>1.6492</td>\n",
              "      <td>True</td>\n",
              "    </tr>\n",
              "  </tbody>\n",
              "</table>\n",
              "</div>\n",
              "      <button class=\"colab-df-convert\" onclick=\"convertToInteractive('df-ac9e000b-1747-40b8-b970-9d439f0773d6')\"\n",
              "              title=\"Convert this dataframe to an interactive table.\"\n",
              "              style=\"display:none;\">\n",
              "        \n",
              "  <svg xmlns=\"http://www.w3.org/2000/svg\" height=\"24px\"viewBox=\"0 0 24 24\"\n",
              "       width=\"24px\">\n",
              "    <path d=\"M0 0h24v24H0V0z\" fill=\"none\"/>\n",
              "    <path d=\"M18.56 5.44l.94 2.06.94-2.06 2.06-.94-2.06-.94-.94-2.06-.94 2.06-2.06.94zm-11 1L8.5 8.5l.94-2.06 2.06-.94-2.06-.94L8.5 2.5l-.94 2.06-2.06.94zm10 10l.94 2.06.94-2.06 2.06-.94-2.06-.94-.94-2.06-.94 2.06-2.06.94z\"/><path d=\"M17.41 7.96l-1.37-1.37c-.4-.4-.92-.59-1.43-.59-.52 0-1.04.2-1.43.59L10.3 9.45l-7.72 7.72c-.78.78-.78 2.05 0 2.83L4 21.41c.39.39.9.59 1.41.59.51 0 1.02-.2 1.41-.59l7.78-7.78 2.81-2.81c.8-.78.8-2.07 0-2.86zM5.41 20L4 18.59l7.72-7.72 1.47 1.35L5.41 20z\"/>\n",
              "  </svg>\n",
              "      </button>\n",
              "      \n",
              "  <style>\n",
              "    .colab-df-container {\n",
              "      display:flex;\n",
              "      flex-wrap:wrap;\n",
              "      gap: 12px;\n",
              "    }\n",
              "\n",
              "    .colab-df-convert {\n",
              "      background-color: #E8F0FE;\n",
              "      border: none;\n",
              "      border-radius: 50%;\n",
              "      cursor: pointer;\n",
              "      display: none;\n",
              "      fill: #1967D2;\n",
              "      height: 32px;\n",
              "      padding: 0 0 0 0;\n",
              "      width: 32px;\n",
              "    }\n",
              "\n",
              "    .colab-df-convert:hover {\n",
              "      background-color: #E2EBFA;\n",
              "      box-shadow: 0px 1px 2px rgba(60, 64, 67, 0.3), 0px 1px 3px 1px rgba(60, 64, 67, 0.15);\n",
              "      fill: #174EA6;\n",
              "    }\n",
              "\n",
              "    [theme=dark] .colab-df-convert {\n",
              "      background-color: #3B4455;\n",
              "      fill: #D2E3FC;\n",
              "    }\n",
              "\n",
              "    [theme=dark] .colab-df-convert:hover {\n",
              "      background-color: #434B5C;\n",
              "      box-shadow: 0px 1px 3px 1px rgba(0, 0, 0, 0.15);\n",
              "      filter: drop-shadow(0px 1px 2px rgba(0, 0, 0, 0.3));\n",
              "      fill: #FFFFFF;\n",
              "    }\n",
              "  </style>\n",
              "\n",
              "      <script>\n",
              "        const buttonEl =\n",
              "          document.querySelector('#df-ac9e000b-1747-40b8-b970-9d439f0773d6 button.colab-df-convert');\n",
              "        buttonEl.style.display =\n",
              "          google.colab.kernel.accessAllowed ? 'block' : 'none';\n",
              "\n",
              "        async function convertToInteractive(key) {\n",
              "          const element = document.querySelector('#df-ac9e000b-1747-40b8-b970-9d439f0773d6');\n",
              "          const dataTable =\n",
              "            await google.colab.kernel.invokeFunction('convertToInteractive',\n",
              "                                                     [key], {});\n",
              "          if (!dataTable) return;\n",
              "\n",
              "          const docLinkHtml = 'Like what you see? Visit the ' +\n",
              "            '<a target=\"_blank\" href=https://colab.research.google.com/notebooks/data_table.ipynb>data table notebook</a>'\n",
              "            + ' to learn more about interactive tables.';\n",
              "          element.innerHTML = '';\n",
              "          dataTable['output_type'] = 'display_data';\n",
              "          await google.colab.output.renderOutput(dataTable, element);\n",
              "          const docLink = document.createElement('div');\n",
              "          docLink.innerHTML = docLinkHtml;\n",
              "          element.appendChild(docLink);\n",
              "        }\n",
              "      </script>\n",
              "    </div>\n",
              "  </div>\n",
              "  "
            ]
          },
          "metadata": {},
          "execution_count": 81
        }
      ]
    },
    {
      "cell_type": "code",
      "source": [
        "# Check number of correct predictions\n",
        "effnetb7_test_pred_df.correct.value_counts()"
      ],
      "metadata": {
        "colab": {
          "base_uri": "https://localhost:8080/"
        },
        "id": "-_Udnudcbmh1",
        "outputId": "0c394bec-1b42-4c0d-e855-ebdd0dbe69d8"
      },
      "execution_count": null,
      "outputs": [
        {
          "output_type": "execute_result",
          "data": {
            "text/plain": [
              "True     116\n",
              "False     88\n",
              "Name: correct, dtype: int64"
            ]
          },
          "metadata": {},
          "execution_count": 82
        }
      ]
    },
    {
      "cell_type": "code",
      "source": [
        "# Find the average time per prediction \n",
        "effnetb7_average_time_per_pred = round(effnetb7_test_pred_df.time_for_pred.mean(), 4)\n",
        "print(f\"EffNetB0 average time per prediction: {effnetb7_average_time_per_pred} seconds\")"
      ],
      "metadata": {
        "colab": {
          "base_uri": "https://localhost:8080/"
        },
        "id": "ha80JgQ_bpgI",
        "outputId": "1d539645-b373-4f49-e8cd-b997bc99231f"
      },
      "execution_count": null,
      "outputs": [
        {
          "output_type": "stream",
          "name": "stdout",
          "text": [
            "EffNetB0 average time per prediction: 1.6944 seconds\n"
          ]
        }
      ]
    },
    {
      "cell_type": "code",
      "source": [
        "# Add EffNetB0 average prediction time to stats dictionary \n",
        "effnetb7_stats[\"time_per_pred_cpu\"] = effnetb7_average_time_per_pred\n",
        "effnetb7_stats"
      ],
      "metadata": {
        "colab": {
          "base_uri": "https://localhost:8080/"
        },
        "id": "z6mCU4kTbqq0",
        "outputId": "e70e2df5-1771-476b-ed68-f3767ba874c4"
      },
      "execution_count": null,
      "outputs": [
        {
          "output_type": "execute_result",
          "data": {
            "text/plain": [
              "{'test_loss': 0.7020437717437744,\n",
              " 'test_acc': 0.7916666666666667,\n",
              " 'number_of_parameters': 63807448,\n",
              " 'model_size (MB)': 245,\n",
              " 'time_per_pred_cpu': 1.6944}"
            ]
          },
          "metadata": {},
          "execution_count": 84
        }
      ]
    },
    {
      "cell_type": "code",
      "source": [
        "# Turn stat dictionaries into DataFrame\n",
        "df = pd.DataFrame([effnetb7_stats])\n",
        "\n",
        "# Add column for model names\n",
        "df[\"model\"] = [\"EffNetB0\"]\n",
        "\n",
        "# Convert accuracy to percentages\n",
        "df[\"test_acc\"] = round(df[\"test_acc\"] * 100, 2)\n",
        "\n",
        "df"
      ],
      "metadata": {
        "colab": {
          "base_uri": "https://localhost:8080/",
          "height": 81
        },
        "id": "kBaTZiq2b0Rk",
        "outputId": "c85faeb0-7aa0-4118-e7ef-078b1665e39c"
      },
      "execution_count": null,
      "outputs": [
        {
          "output_type": "execute_result",
          "data": {
            "text/plain": [
              "   test_loss  test_acc  number_of_parameters  model_size (MB)  \\\n",
              "0   0.702044     79.17              63807448              245   \n",
              "\n",
              "   time_per_pred_cpu     model  \n",
              "0             1.6944  EffNetB0  "
            ],
            "text/html": [
              "\n",
              "  <div id=\"df-9d3d063d-7f94-4bd3-a791-b486d34ebd14\">\n",
              "    <div class=\"colab-df-container\">\n",
              "      <div>\n",
              "<style scoped>\n",
              "    .dataframe tbody tr th:only-of-type {\n",
              "        vertical-align: middle;\n",
              "    }\n",
              "\n",
              "    .dataframe tbody tr th {\n",
              "        vertical-align: top;\n",
              "    }\n",
              "\n",
              "    .dataframe thead th {\n",
              "        text-align: right;\n",
              "    }\n",
              "</style>\n",
              "<table border=\"1\" class=\"dataframe\">\n",
              "  <thead>\n",
              "    <tr style=\"text-align: right;\">\n",
              "      <th></th>\n",
              "      <th>test_loss</th>\n",
              "      <th>test_acc</th>\n",
              "      <th>number_of_parameters</th>\n",
              "      <th>model_size (MB)</th>\n",
              "      <th>time_per_pred_cpu</th>\n",
              "      <th>model</th>\n",
              "    </tr>\n",
              "  </thead>\n",
              "  <tbody>\n",
              "    <tr>\n",
              "      <th>0</th>\n",
              "      <td>0.702044</td>\n",
              "      <td>79.17</td>\n",
              "      <td>63807448</td>\n",
              "      <td>245</td>\n",
              "      <td>1.6944</td>\n",
              "      <td>EffNetB0</td>\n",
              "    </tr>\n",
              "  </tbody>\n",
              "</table>\n",
              "</div>\n",
              "      <button class=\"colab-df-convert\" onclick=\"convertToInteractive('df-9d3d063d-7f94-4bd3-a791-b486d34ebd14')\"\n",
              "              title=\"Convert this dataframe to an interactive table.\"\n",
              "              style=\"display:none;\">\n",
              "        \n",
              "  <svg xmlns=\"http://www.w3.org/2000/svg\" height=\"24px\"viewBox=\"0 0 24 24\"\n",
              "       width=\"24px\">\n",
              "    <path d=\"M0 0h24v24H0V0z\" fill=\"none\"/>\n",
              "    <path d=\"M18.56 5.44l.94 2.06.94-2.06 2.06-.94-2.06-.94-.94-2.06-.94 2.06-2.06.94zm-11 1L8.5 8.5l.94-2.06 2.06-.94-2.06-.94L8.5 2.5l-.94 2.06-2.06.94zm10 10l.94 2.06.94-2.06 2.06-.94-2.06-.94-.94-2.06-.94 2.06-2.06.94z\"/><path d=\"M17.41 7.96l-1.37-1.37c-.4-.4-.92-.59-1.43-.59-.52 0-1.04.2-1.43.59L10.3 9.45l-7.72 7.72c-.78.78-.78 2.05 0 2.83L4 21.41c.39.39.9.59 1.41.59.51 0 1.02-.2 1.41-.59l7.78-7.78 2.81-2.81c.8-.78.8-2.07 0-2.86zM5.41 20L4 18.59l7.72-7.72 1.47 1.35L5.41 20z\"/>\n",
              "  </svg>\n",
              "      </button>\n",
              "      \n",
              "  <style>\n",
              "    .colab-df-container {\n",
              "      display:flex;\n",
              "      flex-wrap:wrap;\n",
              "      gap: 12px;\n",
              "    }\n",
              "\n",
              "    .colab-df-convert {\n",
              "      background-color: #E8F0FE;\n",
              "      border: none;\n",
              "      border-radius: 50%;\n",
              "      cursor: pointer;\n",
              "      display: none;\n",
              "      fill: #1967D2;\n",
              "      height: 32px;\n",
              "      padding: 0 0 0 0;\n",
              "      width: 32px;\n",
              "    }\n",
              "\n",
              "    .colab-df-convert:hover {\n",
              "      background-color: #E2EBFA;\n",
              "      box-shadow: 0px 1px 2px rgba(60, 64, 67, 0.3), 0px 1px 3px 1px rgba(60, 64, 67, 0.15);\n",
              "      fill: #174EA6;\n",
              "    }\n",
              "\n",
              "    [theme=dark] .colab-df-convert {\n",
              "      background-color: #3B4455;\n",
              "      fill: #D2E3FC;\n",
              "    }\n",
              "\n",
              "    [theme=dark] .colab-df-convert:hover {\n",
              "      background-color: #434B5C;\n",
              "      box-shadow: 0px 1px 3px 1px rgba(0, 0, 0, 0.15);\n",
              "      filter: drop-shadow(0px 1px 2px rgba(0, 0, 0, 0.3));\n",
              "      fill: #FFFFFF;\n",
              "    }\n",
              "  </style>\n",
              "\n",
              "      <script>\n",
              "        const buttonEl =\n",
              "          document.querySelector('#df-9d3d063d-7f94-4bd3-a791-b486d34ebd14 button.colab-df-convert');\n",
              "        buttonEl.style.display =\n",
              "          google.colab.kernel.accessAllowed ? 'block' : 'none';\n",
              "\n",
              "        async function convertToInteractive(key) {\n",
              "          const element = document.querySelector('#df-9d3d063d-7f94-4bd3-a791-b486d34ebd14');\n",
              "          const dataTable =\n",
              "            await google.colab.kernel.invokeFunction('convertToInteractive',\n",
              "                                                     [key], {});\n",
              "          if (!dataTable) return;\n",
              "\n",
              "          const docLinkHtml = 'Like what you see? Visit the ' +\n",
              "            '<a target=\"_blank\" href=https://colab.research.google.com/notebooks/data_table.ipynb>data table notebook</a>'\n",
              "            + ' to learn more about interactive tables.';\n",
              "          element.innerHTML = '';\n",
              "          dataTable['output_type'] = 'display_data';\n",
              "          await google.colab.output.renderOutput(dataTable, element);\n",
              "          const docLink = document.createElement('div');\n",
              "          docLink.innerHTML = docLinkHtml;\n",
              "          element.appendChild(docLink);\n",
              "        }\n",
              "      </script>\n",
              "    </div>\n",
              "  </div>\n",
              "  "
            ]
          },
          "metadata": {},
          "execution_count": 85
        }
      ]
    },
    {
      "cell_type": "code",
      "source": [
        "# Put EffNetB0 on CPU\n",
        "effnetb7.to(\"cpu\") \n",
        "\n",
        "# Check the device\n",
        "next(iter(effnetb7.parameters())).device"
      ],
      "metadata": {
        "colab": {
          "base_uri": "https://localhost:8080/"
        },
        "id": "XI1ZNgkPb4RD",
        "outputId": "e1fd219d-146f-4d15-a4d2-ceabc93c22fb"
      },
      "execution_count": null,
      "outputs": [
        {
          "output_type": "execute_result",
          "data": {
            "text/plain": [
              "device(type='cpu')"
            ]
          },
          "metadata": {},
          "execution_count": 86
        }
      ]
    },
    {
      "cell_type": "code",
      "source": [
        "from typing import Tuple, Dict\n",
        "\n",
        "def predict(img) -> Tuple[Dict, float]:\n",
        "    \"\"\"Transforms and performs a prediction on img and returns prediction and time taken.\n",
        "    \"\"\"\n",
        "    # Start the timer\n",
        "    start_time = timer()\n",
        "    \n",
        "    # Transform the target image and add a batch dimension\n",
        "    img = effnetb7_transforms(img).unsqueeze(0)\n",
        "    \n",
        "    # Put model into evaluation mode and turn on inference mode\n",
        "    effnetb7.eval()\n",
        "    with torch.inference_mode():\n",
        "        # Pass the transformed image through the model and turn the prediction logits into prediction probabilities\n",
        "        pred_probs = torch.softmax(effnetb7(img), dim=1)\n",
        "    \n",
        "    # Create a prediction label and prediction probability dictionary for each prediction class (this is the required format for Gradio's output parameter)\n",
        "    pred_labels_and_probs = {class_names[i]: float(pred_probs[0][i]) for i in range(len(class_names))}\n",
        "    \n",
        "    # Calculate the prediction time\n",
        "    pred_time = round(timer() - start_time, 5)\n",
        "    \n",
        "    # Return the prediction dictionary and prediction time \n",
        "    return pred_labels_and_probs, pred_time"
      ],
      "metadata": {
        "id": "NKbjBx7ScEgz"
      },
      "execution_count": null,
      "outputs": []
    },
    {
      "cell_type": "code",
      "source": [
        "import random\n",
        "from PIL import Image\n",
        "\n",
        "# Get a list of all test image filepaths\n",
        "test_data_paths = list(Path(test_dir).glob(\"*/*.jpg\"))\n",
        "\n",
        "# Randomly select a test image path\n",
        "random_image_path = random.sample(test_data_paths, k=1)[0]\n",
        "\n",
        "# Open the target image\n",
        "image = Image.open(random_image_path)\n",
        "print(f\"[INFO] Predicting on image at path: {random_image_path}\\n\")\n",
        "\n",
        "# Predict on the target image and print out the outputs\n",
        "pred_dict, pred_time = predict(img=image)\n",
        "print(f\"Prediction label and probability dictionary: \\n{pred_dict}\")\n",
        "print(f\"Prediction time: {pred_time} seconds\")"
      ],
      "metadata": {
        "colab": {
          "base_uri": "https://localhost:8080/"
        },
        "id": "-GY_gfNOcIFR",
        "outputId": "d1246333-e73f-4765-a7f8-ae7d3eecab9a"
      },
      "execution_count": null,
      "outputs": [
        {
          "output_type": "stream",
          "name": "stdout",
          "text": [
            "[INFO] Predicting on image at path: drive/MyDrive/data/test/Macular Degeneration/mdegen228.jpg\n",
            "\n",
            "Prediction label and probability dictionary: \n",
            "{'CRVO': 0.001017333590425551, 'Diabetic Retinopathy': 0.00613947119563818, 'Laser Spots': 0.05336802452802658, 'Macular Degeneration': 0.8603484034538269, 'Myelinated Nerve Fiber': 0.07030155509710312, 'Normal': 0.001360430964268744, 'Pathological Mypoia': 0.004458004608750343, 'Retinitis Pigmentosa': 0.0030066748149693012}\n",
            "Prediction time: 1.64753 seconds\n"
          ]
        }
      ]
    },
    {
      "cell_type": "code",
      "source": [
        "# Create a list of example inputs to our Gradio demo\n",
        "example_list = [[str(filepath)] for filepath in random.sample(test_data_paths, k=4)]\n",
        "example_list"
      ],
      "metadata": {
        "colab": {
          "base_uri": "https://localhost:8080/"
        },
        "id": "4S77VqCTcNeL",
        "outputId": "28345b48-f866-49bd-d30f-5496393141de"
      },
      "execution_count": null,
      "outputs": [
        {
          "output_type": "execute_result",
          "data": {
            "text/plain": [
              "[['drive/MyDrive/data/test/Retinitis Pigmentosa/rp32.jpg'],\n",
              " ['drive/MyDrive/data/test/Macular Degeneration/mdegen271.jpg'],\n",
              " ['drive/MyDrive/data/test/Pathological Myopia/pm218.jpg'],\n",
              " ['drive/MyDrive/data/test/CRVO/crvo31.jpg']]"
            ]
          },
          "metadata": {},
          "execution_count": 89
        }
      ]
    },
    {
      "cell_type": "code",
      "source": [
        "import gradio as gr\n",
        "\n",
        "# Create title, description and article strings\n",
        "title = \"DeepFundus 👀\"\n",
        "description = \"An EfficientNetB7 feature extractor computer vision model to classify retina pathology from optical funduscopic images.\"\n",
        "article = \"Created for fun.\"\n",
        "\n",
        "# Create the Gradio demo\n",
        "demo = gr.Interface(fn=predict, # mapping function from input to output\n",
        "                    inputs=gr.Image(type=\"pil\"), # what are the inputs?\n",
        "                    outputs=[gr.Label(num_top_classes=8, label=\"Predictions\"), # what are the outputs?\n",
        "                             gr.Number(label=\"Prediction time (s)\")], # our fn has two outputs, therefore we have two outputs\n",
        "                    examples=example_list, \n",
        "                    title=title,\n",
        "                    description=description,\n",
        "                    article=article)\n",
        "\n",
        "# Launch the demo!\n",
        "demo.launch(debug=False, # print errors locally?\n",
        "            share=True) # generate a publically shareable URL?"
      ],
      "metadata": {
        "colab": {
          "base_uri": "https://localhost:8080/",
          "height": 591
        },
        "id": "pcXV2IzrcOGS",
        "outputId": "22fea123-4a49-4dce-a2b8-7d74817c43f9"
      },
      "execution_count": null,
      "outputs": [
        {
          "output_type": "stream",
          "name": "stdout",
          "text": [
            "Colab notebook detected. To show errors in colab notebook, set debug=True in launch()\n",
            "Running on public URL: https://06062bf4-3f6d-44ab.gradio.live\n",
            "\n",
            "This share link expires in 72 hours. For free permanent hosting and GPU upgrades (NEW!), check out Spaces: https://huggingface.co/spaces\n"
          ]
        },
        {
          "output_type": "display_data",
          "data": {
            "text/plain": [
              "<IPython.core.display.HTML object>"
            ],
            "text/html": [
              "<div><iframe src=\"https://06062bf4-3f6d-44ab.gradio.live\" width=\"100%\" height=\"500\" allow=\"autoplay; camera; microphone; clipboard-read; clipboard-write;\" frameborder=\"0\" allowfullscreen></iframe></div>"
            ]
          },
          "metadata": {}
        },
        {
          "output_type": "execute_result",
          "data": {
            "text/plain": []
          },
          "metadata": {},
          "execution_count": 91
        }
      ]
    },
    {
      "cell_type": "code",
      "source": [],
      "metadata": {
        "id": "R-3RXpf6FWZ6"
      },
      "execution_count": null,
      "outputs": []
    }
  ]
}