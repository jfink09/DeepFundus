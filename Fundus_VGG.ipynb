{
  "nbformat": 4,
  "nbformat_minor": 0,
  "metadata": {
    "colab": {
      "provenance": [],
      "mount_file_id": "1OyLd1QDekN_e8-U9_7pqn_ErtZAUD3c2",
      "authorship_tag": "ABX9TyObdBYCRVTWSjm/eukcOMNG",
      "include_colab_link": true
    },
    "kernelspec": {
      "name": "python3",
      "display_name": "Python 3"
    },
    "language_info": {
      "name": "python"
    },
    "accelerator": "GPU",
    "gpuClass": "standard",
    "widgets": {
      "application/vnd.jupyter.widget-state+json": {
        "544ba9a5b9f24cf38f1d5d342edbae49": {
          "model_module": "@jupyter-widgets/controls",
          "model_name": "HBoxModel",
          "model_module_version": "1.5.0",
          "state": {
            "_dom_classes": [],
            "_model_module": "@jupyter-widgets/controls",
            "_model_module_version": "1.5.0",
            "_model_name": "HBoxModel",
            "_view_count": null,
            "_view_module": "@jupyter-widgets/controls",
            "_view_module_version": "1.5.0",
            "_view_name": "HBoxView",
            "box_style": "",
            "children": [
              "IPY_MODEL_ef43b833ea9443ff80e558315e5f76bc",
              "IPY_MODEL_d96cbd74361a49f0b9d8ffd24df5b4ca",
              "IPY_MODEL_3c862b77d4e9469a988503342d2ad322"
            ],
            "layout": "IPY_MODEL_467ec205ffab4be9a70e084040008a2e"
          }
        },
        "ef43b833ea9443ff80e558315e5f76bc": {
          "model_module": "@jupyter-widgets/controls",
          "model_name": "HTMLModel",
          "model_module_version": "1.5.0",
          "state": {
            "_dom_classes": [],
            "_model_module": "@jupyter-widgets/controls",
            "_model_module_version": "1.5.0",
            "_model_name": "HTMLModel",
            "_view_count": null,
            "_view_module": "@jupyter-widgets/controls",
            "_view_module_version": "1.5.0",
            "_view_name": "HTMLView",
            "description": "",
            "description_tooltip": null,
            "layout": "IPY_MODEL_1437768f1cb94599a05c8ffb919955b0",
            "placeholder": "​",
            "style": "IPY_MODEL_59049a160a404191bc937adc5318a1f7",
            "value": "100%"
          }
        },
        "d96cbd74361a49f0b9d8ffd24df5b4ca": {
          "model_module": "@jupyter-widgets/controls",
          "model_name": "FloatProgressModel",
          "model_module_version": "1.5.0",
          "state": {
            "_dom_classes": [],
            "_model_module": "@jupyter-widgets/controls",
            "_model_module_version": "1.5.0",
            "_model_name": "FloatProgressModel",
            "_view_count": null,
            "_view_module": "@jupyter-widgets/controls",
            "_view_module_version": "1.5.0",
            "_view_name": "ProgressView",
            "bar_style": "success",
            "description": "",
            "description_tooltip": null,
            "layout": "IPY_MODEL_0666703d106a41b7901c7df6771a4a8b",
            "max": 574769405,
            "min": 0,
            "orientation": "horizontal",
            "style": "IPY_MODEL_b0272fdf4c904344a8ef86f3e7a8e04d",
            "value": 574769405
          }
        },
        "3c862b77d4e9469a988503342d2ad322": {
          "model_module": "@jupyter-widgets/controls",
          "model_name": "HTMLModel",
          "model_module_version": "1.5.0",
          "state": {
            "_dom_classes": [],
            "_model_module": "@jupyter-widgets/controls",
            "_model_module_version": "1.5.0",
            "_model_name": "HTMLModel",
            "_view_count": null,
            "_view_module": "@jupyter-widgets/controls",
            "_view_module_version": "1.5.0",
            "_view_name": "HTMLView",
            "description": "",
            "description_tooltip": null,
            "layout": "IPY_MODEL_7b66247fd5f84b80a0b52e7e6f85c126",
            "placeholder": "​",
            "style": "IPY_MODEL_8a4a885a4a2c44049259f1d19bad2a77",
            "value": " 548M/548M [00:32&lt;00:00, 18.2MB/s]"
          }
        },
        "467ec205ffab4be9a70e084040008a2e": {
          "model_module": "@jupyter-widgets/base",
          "model_name": "LayoutModel",
          "model_module_version": "1.2.0",
          "state": {
            "_model_module": "@jupyter-widgets/base",
            "_model_module_version": "1.2.0",
            "_model_name": "LayoutModel",
            "_view_count": null,
            "_view_module": "@jupyter-widgets/base",
            "_view_module_version": "1.2.0",
            "_view_name": "LayoutView",
            "align_content": null,
            "align_items": null,
            "align_self": null,
            "border": null,
            "bottom": null,
            "display": null,
            "flex": null,
            "flex_flow": null,
            "grid_area": null,
            "grid_auto_columns": null,
            "grid_auto_flow": null,
            "grid_auto_rows": null,
            "grid_column": null,
            "grid_gap": null,
            "grid_row": null,
            "grid_template_areas": null,
            "grid_template_columns": null,
            "grid_template_rows": null,
            "height": null,
            "justify_content": null,
            "justify_items": null,
            "left": null,
            "margin": null,
            "max_height": null,
            "max_width": null,
            "min_height": null,
            "min_width": null,
            "object_fit": null,
            "object_position": null,
            "order": null,
            "overflow": null,
            "overflow_x": null,
            "overflow_y": null,
            "padding": null,
            "right": null,
            "top": null,
            "visibility": null,
            "width": null
          }
        },
        "1437768f1cb94599a05c8ffb919955b0": {
          "model_module": "@jupyter-widgets/base",
          "model_name": "LayoutModel",
          "model_module_version": "1.2.0",
          "state": {
            "_model_module": "@jupyter-widgets/base",
            "_model_module_version": "1.2.0",
            "_model_name": "LayoutModel",
            "_view_count": null,
            "_view_module": "@jupyter-widgets/base",
            "_view_module_version": "1.2.0",
            "_view_name": "LayoutView",
            "align_content": null,
            "align_items": null,
            "align_self": null,
            "border": null,
            "bottom": null,
            "display": null,
            "flex": null,
            "flex_flow": null,
            "grid_area": null,
            "grid_auto_columns": null,
            "grid_auto_flow": null,
            "grid_auto_rows": null,
            "grid_column": null,
            "grid_gap": null,
            "grid_row": null,
            "grid_template_areas": null,
            "grid_template_columns": null,
            "grid_template_rows": null,
            "height": null,
            "justify_content": null,
            "justify_items": null,
            "left": null,
            "margin": null,
            "max_height": null,
            "max_width": null,
            "min_height": null,
            "min_width": null,
            "object_fit": null,
            "object_position": null,
            "order": null,
            "overflow": null,
            "overflow_x": null,
            "overflow_y": null,
            "padding": null,
            "right": null,
            "top": null,
            "visibility": null,
            "width": null
          }
        },
        "59049a160a404191bc937adc5318a1f7": {
          "model_module": "@jupyter-widgets/controls",
          "model_name": "DescriptionStyleModel",
          "model_module_version": "1.5.0",
          "state": {
            "_model_module": "@jupyter-widgets/controls",
            "_model_module_version": "1.5.0",
            "_model_name": "DescriptionStyleModel",
            "_view_count": null,
            "_view_module": "@jupyter-widgets/base",
            "_view_module_version": "1.2.0",
            "_view_name": "StyleView",
            "description_width": ""
          }
        },
        "0666703d106a41b7901c7df6771a4a8b": {
          "model_module": "@jupyter-widgets/base",
          "model_name": "LayoutModel",
          "model_module_version": "1.2.0",
          "state": {
            "_model_module": "@jupyter-widgets/base",
            "_model_module_version": "1.2.0",
            "_model_name": "LayoutModel",
            "_view_count": null,
            "_view_module": "@jupyter-widgets/base",
            "_view_module_version": "1.2.0",
            "_view_name": "LayoutView",
            "align_content": null,
            "align_items": null,
            "align_self": null,
            "border": null,
            "bottom": null,
            "display": null,
            "flex": null,
            "flex_flow": null,
            "grid_area": null,
            "grid_auto_columns": null,
            "grid_auto_flow": null,
            "grid_auto_rows": null,
            "grid_column": null,
            "grid_gap": null,
            "grid_row": null,
            "grid_template_areas": null,
            "grid_template_columns": null,
            "grid_template_rows": null,
            "height": null,
            "justify_content": null,
            "justify_items": null,
            "left": null,
            "margin": null,
            "max_height": null,
            "max_width": null,
            "min_height": null,
            "min_width": null,
            "object_fit": null,
            "object_position": null,
            "order": null,
            "overflow": null,
            "overflow_x": null,
            "overflow_y": null,
            "padding": null,
            "right": null,
            "top": null,
            "visibility": null,
            "width": null
          }
        },
        "b0272fdf4c904344a8ef86f3e7a8e04d": {
          "model_module": "@jupyter-widgets/controls",
          "model_name": "ProgressStyleModel",
          "model_module_version": "1.5.0",
          "state": {
            "_model_module": "@jupyter-widgets/controls",
            "_model_module_version": "1.5.0",
            "_model_name": "ProgressStyleModel",
            "_view_count": null,
            "_view_module": "@jupyter-widgets/base",
            "_view_module_version": "1.2.0",
            "_view_name": "StyleView",
            "bar_color": null,
            "description_width": ""
          }
        },
        "7b66247fd5f84b80a0b52e7e6f85c126": {
          "model_module": "@jupyter-widgets/base",
          "model_name": "LayoutModel",
          "model_module_version": "1.2.0",
          "state": {
            "_model_module": "@jupyter-widgets/base",
            "_model_module_version": "1.2.0",
            "_model_name": "LayoutModel",
            "_view_count": null,
            "_view_module": "@jupyter-widgets/base",
            "_view_module_version": "1.2.0",
            "_view_name": "LayoutView",
            "align_content": null,
            "align_items": null,
            "align_self": null,
            "border": null,
            "bottom": null,
            "display": null,
            "flex": null,
            "flex_flow": null,
            "grid_area": null,
            "grid_auto_columns": null,
            "grid_auto_flow": null,
            "grid_auto_rows": null,
            "grid_column": null,
            "grid_gap": null,
            "grid_row": null,
            "grid_template_areas": null,
            "grid_template_columns": null,
            "grid_template_rows": null,
            "height": null,
            "justify_content": null,
            "justify_items": null,
            "left": null,
            "margin": null,
            "max_height": null,
            "max_width": null,
            "min_height": null,
            "min_width": null,
            "object_fit": null,
            "object_position": null,
            "order": null,
            "overflow": null,
            "overflow_x": null,
            "overflow_y": null,
            "padding": null,
            "right": null,
            "top": null,
            "visibility": null,
            "width": null
          }
        },
        "8a4a885a4a2c44049259f1d19bad2a77": {
          "model_module": "@jupyter-widgets/controls",
          "model_name": "DescriptionStyleModel",
          "model_module_version": "1.5.0",
          "state": {
            "_model_module": "@jupyter-widgets/controls",
            "_model_module_version": "1.5.0",
            "_model_name": "DescriptionStyleModel",
            "_view_count": null,
            "_view_module": "@jupyter-widgets/base",
            "_view_module_version": "1.2.0",
            "_view_name": "StyleView",
            "description_width": ""
          }
        },
        "74b3d4f5861f45c59987130c39e85f9e": {
          "model_module": "@jupyter-widgets/controls",
          "model_name": "HBoxModel",
          "model_module_version": "1.5.0",
          "state": {
            "_dom_classes": [],
            "_model_module": "@jupyter-widgets/controls",
            "_model_module_version": "1.5.0",
            "_model_name": "HBoxModel",
            "_view_count": null,
            "_view_module": "@jupyter-widgets/controls",
            "_view_module_version": "1.5.0",
            "_view_name": "HBoxView",
            "box_style": "",
            "children": [
              "IPY_MODEL_d1c93f643c3c4312bd92e2be301c0fbb",
              "IPY_MODEL_1baea5d1a4dc4b81a4dd98696ff17ac9",
              "IPY_MODEL_57c25d52a72341b482c87ca02a1067ab"
            ],
            "layout": "IPY_MODEL_1449bc9a52884c97b29b35e701c70cd2"
          }
        },
        "d1c93f643c3c4312bd92e2be301c0fbb": {
          "model_module": "@jupyter-widgets/controls",
          "model_name": "HTMLModel",
          "model_module_version": "1.5.0",
          "state": {
            "_dom_classes": [],
            "_model_module": "@jupyter-widgets/controls",
            "_model_module_version": "1.5.0",
            "_model_name": "HTMLModel",
            "_view_count": null,
            "_view_module": "@jupyter-widgets/controls",
            "_view_module_version": "1.5.0",
            "_view_name": "HTMLView",
            "description": "",
            "description_tooltip": null,
            "layout": "IPY_MODEL_1b8e7589de3b4d59bb8e10fe8517d69f",
            "placeholder": "​",
            "style": "IPY_MODEL_07b6d1d377cb4f43aead99e3941217f3",
            "value": "100%"
          }
        },
        "1baea5d1a4dc4b81a4dd98696ff17ac9": {
          "model_module": "@jupyter-widgets/controls",
          "model_name": "FloatProgressModel",
          "model_module_version": "1.5.0",
          "state": {
            "_dom_classes": [],
            "_model_module": "@jupyter-widgets/controls",
            "_model_module_version": "1.5.0",
            "_model_name": "FloatProgressModel",
            "_view_count": null,
            "_view_module": "@jupyter-widgets/controls",
            "_view_module_version": "1.5.0",
            "_view_name": "ProgressView",
            "bar_style": "success",
            "description": "",
            "description_tooltip": null,
            "layout": "IPY_MODEL_c08b3e84c09c44d5b91c036cc0bd7b8f",
            "max": 10,
            "min": 0,
            "orientation": "horizontal",
            "style": "IPY_MODEL_a6444fe7b1e9431cbb94b9563ae88aed",
            "value": 10
          }
        },
        "57c25d52a72341b482c87ca02a1067ab": {
          "model_module": "@jupyter-widgets/controls",
          "model_name": "HTMLModel",
          "model_module_version": "1.5.0",
          "state": {
            "_dom_classes": [],
            "_model_module": "@jupyter-widgets/controls",
            "_model_module_version": "1.5.0",
            "_model_name": "HTMLModel",
            "_view_count": null,
            "_view_module": "@jupyter-widgets/controls",
            "_view_module_version": "1.5.0",
            "_view_name": "HTMLView",
            "description": "",
            "description_tooltip": null,
            "layout": "IPY_MODEL_6556abd89ebc4cc081fe7dd248380906",
            "placeholder": "​",
            "style": "IPY_MODEL_1cad0fb9611b46579d6c1c9577eb4b99",
            "value": " 10/10 [30:05&lt;00:00, 134.62s/it]"
          }
        },
        "1449bc9a52884c97b29b35e701c70cd2": {
          "model_module": "@jupyter-widgets/base",
          "model_name": "LayoutModel",
          "model_module_version": "1.2.0",
          "state": {
            "_model_module": "@jupyter-widgets/base",
            "_model_module_version": "1.2.0",
            "_model_name": "LayoutModel",
            "_view_count": null,
            "_view_module": "@jupyter-widgets/base",
            "_view_module_version": "1.2.0",
            "_view_name": "LayoutView",
            "align_content": null,
            "align_items": null,
            "align_self": null,
            "border": null,
            "bottom": null,
            "display": null,
            "flex": null,
            "flex_flow": null,
            "grid_area": null,
            "grid_auto_columns": null,
            "grid_auto_flow": null,
            "grid_auto_rows": null,
            "grid_column": null,
            "grid_gap": null,
            "grid_row": null,
            "grid_template_areas": null,
            "grid_template_columns": null,
            "grid_template_rows": null,
            "height": null,
            "justify_content": null,
            "justify_items": null,
            "left": null,
            "margin": null,
            "max_height": null,
            "max_width": null,
            "min_height": null,
            "min_width": null,
            "object_fit": null,
            "object_position": null,
            "order": null,
            "overflow": null,
            "overflow_x": null,
            "overflow_y": null,
            "padding": null,
            "right": null,
            "top": null,
            "visibility": null,
            "width": null
          }
        },
        "1b8e7589de3b4d59bb8e10fe8517d69f": {
          "model_module": "@jupyter-widgets/base",
          "model_name": "LayoutModel",
          "model_module_version": "1.2.0",
          "state": {
            "_model_module": "@jupyter-widgets/base",
            "_model_module_version": "1.2.0",
            "_model_name": "LayoutModel",
            "_view_count": null,
            "_view_module": "@jupyter-widgets/base",
            "_view_module_version": "1.2.0",
            "_view_name": "LayoutView",
            "align_content": null,
            "align_items": null,
            "align_self": null,
            "border": null,
            "bottom": null,
            "display": null,
            "flex": null,
            "flex_flow": null,
            "grid_area": null,
            "grid_auto_columns": null,
            "grid_auto_flow": null,
            "grid_auto_rows": null,
            "grid_column": null,
            "grid_gap": null,
            "grid_row": null,
            "grid_template_areas": null,
            "grid_template_columns": null,
            "grid_template_rows": null,
            "height": null,
            "justify_content": null,
            "justify_items": null,
            "left": null,
            "margin": null,
            "max_height": null,
            "max_width": null,
            "min_height": null,
            "min_width": null,
            "object_fit": null,
            "object_position": null,
            "order": null,
            "overflow": null,
            "overflow_x": null,
            "overflow_y": null,
            "padding": null,
            "right": null,
            "top": null,
            "visibility": null,
            "width": null
          }
        },
        "07b6d1d377cb4f43aead99e3941217f3": {
          "model_module": "@jupyter-widgets/controls",
          "model_name": "DescriptionStyleModel",
          "model_module_version": "1.5.0",
          "state": {
            "_model_module": "@jupyter-widgets/controls",
            "_model_module_version": "1.5.0",
            "_model_name": "DescriptionStyleModel",
            "_view_count": null,
            "_view_module": "@jupyter-widgets/base",
            "_view_module_version": "1.2.0",
            "_view_name": "StyleView",
            "description_width": ""
          }
        },
        "c08b3e84c09c44d5b91c036cc0bd7b8f": {
          "model_module": "@jupyter-widgets/base",
          "model_name": "LayoutModel",
          "model_module_version": "1.2.0",
          "state": {
            "_model_module": "@jupyter-widgets/base",
            "_model_module_version": "1.2.0",
            "_model_name": "LayoutModel",
            "_view_count": null,
            "_view_module": "@jupyter-widgets/base",
            "_view_module_version": "1.2.0",
            "_view_name": "LayoutView",
            "align_content": null,
            "align_items": null,
            "align_self": null,
            "border": null,
            "bottom": null,
            "display": null,
            "flex": null,
            "flex_flow": null,
            "grid_area": null,
            "grid_auto_columns": null,
            "grid_auto_flow": null,
            "grid_auto_rows": null,
            "grid_column": null,
            "grid_gap": null,
            "grid_row": null,
            "grid_template_areas": null,
            "grid_template_columns": null,
            "grid_template_rows": null,
            "height": null,
            "justify_content": null,
            "justify_items": null,
            "left": null,
            "margin": null,
            "max_height": null,
            "max_width": null,
            "min_height": null,
            "min_width": null,
            "object_fit": null,
            "object_position": null,
            "order": null,
            "overflow": null,
            "overflow_x": null,
            "overflow_y": null,
            "padding": null,
            "right": null,
            "top": null,
            "visibility": null,
            "width": null
          }
        },
        "a6444fe7b1e9431cbb94b9563ae88aed": {
          "model_module": "@jupyter-widgets/controls",
          "model_name": "ProgressStyleModel",
          "model_module_version": "1.5.0",
          "state": {
            "_model_module": "@jupyter-widgets/controls",
            "_model_module_version": "1.5.0",
            "_model_name": "ProgressStyleModel",
            "_view_count": null,
            "_view_module": "@jupyter-widgets/base",
            "_view_module_version": "1.2.0",
            "_view_name": "StyleView",
            "bar_color": null,
            "description_width": ""
          }
        },
        "6556abd89ebc4cc081fe7dd248380906": {
          "model_module": "@jupyter-widgets/base",
          "model_name": "LayoutModel",
          "model_module_version": "1.2.0",
          "state": {
            "_model_module": "@jupyter-widgets/base",
            "_model_module_version": "1.2.0",
            "_model_name": "LayoutModel",
            "_view_count": null,
            "_view_module": "@jupyter-widgets/base",
            "_view_module_version": "1.2.0",
            "_view_name": "LayoutView",
            "align_content": null,
            "align_items": null,
            "align_self": null,
            "border": null,
            "bottom": null,
            "display": null,
            "flex": null,
            "flex_flow": null,
            "grid_area": null,
            "grid_auto_columns": null,
            "grid_auto_flow": null,
            "grid_auto_rows": null,
            "grid_column": null,
            "grid_gap": null,
            "grid_row": null,
            "grid_template_areas": null,
            "grid_template_columns": null,
            "grid_template_rows": null,
            "height": null,
            "justify_content": null,
            "justify_items": null,
            "left": null,
            "margin": null,
            "max_height": null,
            "max_width": null,
            "min_height": null,
            "min_width": null,
            "object_fit": null,
            "object_position": null,
            "order": null,
            "overflow": null,
            "overflow_x": null,
            "overflow_y": null,
            "padding": null,
            "right": null,
            "top": null,
            "visibility": null,
            "width": null
          }
        },
        "1cad0fb9611b46579d6c1c9577eb4b99": {
          "model_module": "@jupyter-widgets/controls",
          "model_name": "DescriptionStyleModel",
          "model_module_version": "1.5.0",
          "state": {
            "_model_module": "@jupyter-widgets/controls",
            "_model_module_version": "1.5.0",
            "_model_name": "DescriptionStyleModel",
            "_view_count": null,
            "_view_module": "@jupyter-widgets/base",
            "_view_module_version": "1.2.0",
            "_view_name": "StyleView",
            "description_width": ""
          }
        },
        "c47b4954a676468ebbc4cdbaa8c8e87c": {
          "model_module": "@jupyter-widgets/controls",
          "model_name": "HBoxModel",
          "model_module_version": "1.5.0",
          "state": {
            "_dom_classes": [],
            "_model_module": "@jupyter-widgets/controls",
            "_model_module_version": "1.5.0",
            "_model_name": "HBoxModel",
            "_view_count": null,
            "_view_module": "@jupyter-widgets/controls",
            "_view_module_version": "1.5.0",
            "_view_name": "HBoxView",
            "box_style": "",
            "children": [
              "IPY_MODEL_46cc7a197e2545119a21efa4f1f93bae",
              "IPY_MODEL_88d3a373228743f7bc39c11351de8da1",
              "IPY_MODEL_08679d017e7f41a68f0763e47cf1b0da"
            ],
            "layout": "IPY_MODEL_84f772f191b74e87901a4ed22c1c174e"
          }
        },
        "46cc7a197e2545119a21efa4f1f93bae": {
          "model_module": "@jupyter-widgets/controls",
          "model_name": "HTMLModel",
          "model_module_version": "1.5.0",
          "state": {
            "_dom_classes": [],
            "_model_module": "@jupyter-widgets/controls",
            "_model_module_version": "1.5.0",
            "_model_name": "HTMLModel",
            "_view_count": null,
            "_view_module": "@jupyter-widgets/controls",
            "_view_module_version": "1.5.0",
            "_view_name": "HTMLView",
            "description": "",
            "description_tooltip": null,
            "layout": "IPY_MODEL_9f90331a69014648b44d0e38d0cde5af",
            "placeholder": "​",
            "style": "IPY_MODEL_b526e483cff54c7583b3b24a20ea2c5f",
            "value": "100%"
          }
        },
        "88d3a373228743f7bc39c11351de8da1": {
          "model_module": "@jupyter-widgets/controls",
          "model_name": "FloatProgressModel",
          "model_module_version": "1.5.0",
          "state": {
            "_dom_classes": [],
            "_model_module": "@jupyter-widgets/controls",
            "_model_module_version": "1.5.0",
            "_model_name": "FloatProgressModel",
            "_view_count": null,
            "_view_module": "@jupyter-widgets/controls",
            "_view_module_version": "1.5.0",
            "_view_name": "ProgressView",
            "bar_style": "success",
            "description": "",
            "description_tooltip": null,
            "layout": "IPY_MODEL_599080cec4944986aef826034fe4c3ce",
            "max": 10,
            "min": 0,
            "orientation": "horizontal",
            "style": "IPY_MODEL_a979c0ee14624a91a15f2b470d1b65b7",
            "value": 10
          }
        },
        "08679d017e7f41a68f0763e47cf1b0da": {
          "model_module": "@jupyter-widgets/controls",
          "model_name": "HTMLModel",
          "model_module_version": "1.5.0",
          "state": {
            "_dom_classes": [],
            "_model_module": "@jupyter-widgets/controls",
            "_model_module_version": "1.5.0",
            "_model_name": "HTMLModel",
            "_view_count": null,
            "_view_module": "@jupyter-widgets/controls",
            "_view_module_version": "1.5.0",
            "_view_name": "HTMLView",
            "description": "",
            "description_tooltip": null,
            "layout": "IPY_MODEL_20e98c5c92df40c3a8aabcf9c13726cf",
            "placeholder": "​",
            "style": "IPY_MODEL_229eb19c0ef04cd59677ae86cfbc1a91",
            "value": " 10/10 [21:37&lt;00:00, 130.47s/it]"
          }
        },
        "84f772f191b74e87901a4ed22c1c174e": {
          "model_module": "@jupyter-widgets/base",
          "model_name": "LayoutModel",
          "model_module_version": "1.2.0",
          "state": {
            "_model_module": "@jupyter-widgets/base",
            "_model_module_version": "1.2.0",
            "_model_name": "LayoutModel",
            "_view_count": null,
            "_view_module": "@jupyter-widgets/base",
            "_view_module_version": "1.2.0",
            "_view_name": "LayoutView",
            "align_content": null,
            "align_items": null,
            "align_self": null,
            "border": null,
            "bottom": null,
            "display": null,
            "flex": null,
            "flex_flow": null,
            "grid_area": null,
            "grid_auto_columns": null,
            "grid_auto_flow": null,
            "grid_auto_rows": null,
            "grid_column": null,
            "grid_gap": null,
            "grid_row": null,
            "grid_template_areas": null,
            "grid_template_columns": null,
            "grid_template_rows": null,
            "height": null,
            "justify_content": null,
            "justify_items": null,
            "left": null,
            "margin": null,
            "max_height": null,
            "max_width": null,
            "min_height": null,
            "min_width": null,
            "object_fit": null,
            "object_position": null,
            "order": null,
            "overflow": null,
            "overflow_x": null,
            "overflow_y": null,
            "padding": null,
            "right": null,
            "top": null,
            "visibility": null,
            "width": null
          }
        },
        "9f90331a69014648b44d0e38d0cde5af": {
          "model_module": "@jupyter-widgets/base",
          "model_name": "LayoutModel",
          "model_module_version": "1.2.0",
          "state": {
            "_model_module": "@jupyter-widgets/base",
            "_model_module_version": "1.2.0",
            "_model_name": "LayoutModel",
            "_view_count": null,
            "_view_module": "@jupyter-widgets/base",
            "_view_module_version": "1.2.0",
            "_view_name": "LayoutView",
            "align_content": null,
            "align_items": null,
            "align_self": null,
            "border": null,
            "bottom": null,
            "display": null,
            "flex": null,
            "flex_flow": null,
            "grid_area": null,
            "grid_auto_columns": null,
            "grid_auto_flow": null,
            "grid_auto_rows": null,
            "grid_column": null,
            "grid_gap": null,
            "grid_row": null,
            "grid_template_areas": null,
            "grid_template_columns": null,
            "grid_template_rows": null,
            "height": null,
            "justify_content": null,
            "justify_items": null,
            "left": null,
            "margin": null,
            "max_height": null,
            "max_width": null,
            "min_height": null,
            "min_width": null,
            "object_fit": null,
            "object_position": null,
            "order": null,
            "overflow": null,
            "overflow_x": null,
            "overflow_y": null,
            "padding": null,
            "right": null,
            "top": null,
            "visibility": null,
            "width": null
          }
        },
        "b526e483cff54c7583b3b24a20ea2c5f": {
          "model_module": "@jupyter-widgets/controls",
          "model_name": "DescriptionStyleModel",
          "model_module_version": "1.5.0",
          "state": {
            "_model_module": "@jupyter-widgets/controls",
            "_model_module_version": "1.5.0",
            "_model_name": "DescriptionStyleModel",
            "_view_count": null,
            "_view_module": "@jupyter-widgets/base",
            "_view_module_version": "1.2.0",
            "_view_name": "StyleView",
            "description_width": ""
          }
        },
        "599080cec4944986aef826034fe4c3ce": {
          "model_module": "@jupyter-widgets/base",
          "model_name": "LayoutModel",
          "model_module_version": "1.2.0",
          "state": {
            "_model_module": "@jupyter-widgets/base",
            "_model_module_version": "1.2.0",
            "_model_name": "LayoutModel",
            "_view_count": null,
            "_view_module": "@jupyter-widgets/base",
            "_view_module_version": "1.2.0",
            "_view_name": "LayoutView",
            "align_content": null,
            "align_items": null,
            "align_self": null,
            "border": null,
            "bottom": null,
            "display": null,
            "flex": null,
            "flex_flow": null,
            "grid_area": null,
            "grid_auto_columns": null,
            "grid_auto_flow": null,
            "grid_auto_rows": null,
            "grid_column": null,
            "grid_gap": null,
            "grid_row": null,
            "grid_template_areas": null,
            "grid_template_columns": null,
            "grid_template_rows": null,
            "height": null,
            "justify_content": null,
            "justify_items": null,
            "left": null,
            "margin": null,
            "max_height": null,
            "max_width": null,
            "min_height": null,
            "min_width": null,
            "object_fit": null,
            "object_position": null,
            "order": null,
            "overflow": null,
            "overflow_x": null,
            "overflow_y": null,
            "padding": null,
            "right": null,
            "top": null,
            "visibility": null,
            "width": null
          }
        },
        "a979c0ee14624a91a15f2b470d1b65b7": {
          "model_module": "@jupyter-widgets/controls",
          "model_name": "ProgressStyleModel",
          "model_module_version": "1.5.0",
          "state": {
            "_model_module": "@jupyter-widgets/controls",
            "_model_module_version": "1.5.0",
            "_model_name": "ProgressStyleModel",
            "_view_count": null,
            "_view_module": "@jupyter-widgets/base",
            "_view_module_version": "1.2.0",
            "_view_name": "StyleView",
            "bar_color": null,
            "description_width": ""
          }
        },
        "20e98c5c92df40c3a8aabcf9c13726cf": {
          "model_module": "@jupyter-widgets/base",
          "model_name": "LayoutModel",
          "model_module_version": "1.2.0",
          "state": {
            "_model_module": "@jupyter-widgets/base",
            "_model_module_version": "1.2.0",
            "_model_name": "LayoutModel",
            "_view_count": null,
            "_view_module": "@jupyter-widgets/base",
            "_view_module_version": "1.2.0",
            "_view_name": "LayoutView",
            "align_content": null,
            "align_items": null,
            "align_self": null,
            "border": null,
            "bottom": null,
            "display": null,
            "flex": null,
            "flex_flow": null,
            "grid_area": null,
            "grid_auto_columns": null,
            "grid_auto_flow": null,
            "grid_auto_rows": null,
            "grid_column": null,
            "grid_gap": null,
            "grid_row": null,
            "grid_template_areas": null,
            "grid_template_columns": null,
            "grid_template_rows": null,
            "height": null,
            "justify_content": null,
            "justify_items": null,
            "left": null,
            "margin": null,
            "max_height": null,
            "max_width": null,
            "min_height": null,
            "min_width": null,
            "object_fit": null,
            "object_position": null,
            "order": null,
            "overflow": null,
            "overflow_x": null,
            "overflow_y": null,
            "padding": null,
            "right": null,
            "top": null,
            "visibility": null,
            "width": null
          }
        },
        "229eb19c0ef04cd59677ae86cfbc1a91": {
          "model_module": "@jupyter-widgets/controls",
          "model_name": "DescriptionStyleModel",
          "model_module_version": "1.5.0",
          "state": {
            "_model_module": "@jupyter-widgets/controls",
            "_model_module_version": "1.5.0",
            "_model_name": "DescriptionStyleModel",
            "_view_count": null,
            "_view_module": "@jupyter-widgets/base",
            "_view_module_version": "1.2.0",
            "_view_name": "StyleView",
            "description_width": ""
          }
        }
      }
    }
  },
  "cells": [
    {
      "cell_type": "markdown",
      "metadata": {
        "id": "view-in-github",
        "colab_type": "text"
      },
      "source": [
        "<a href=\"https://colab.research.google.com/github/jfink09/DeepFundus/blob/main/Fundus_VGG.ipynb\" target=\"_parent\"><img src=\"https://colab.research.google.com/assets/colab-badge.svg\" alt=\"Open In Colab\"/></a>"
      ]
    },
    {
      "cell_type": "code",
      "execution_count": 1,
      "metadata": {
        "id": "NBYviL5VrPNQ"
      },
      "outputs": [],
      "source": [
        "######################################### Use commented out code if dataset was downloaded from GitHub ######################################################\n",
        "# # Setup train and testing paths\n",
        "# train_dir = image_path / \"train\"\n",
        "# test_dir = image_path / \"test\"\n",
        "\n",
        "# train_dir, test_dir\n",
        "from pathlib import Path"
      ]
    },
    {
      "cell_type": "code",
      "source": [
        "# Setup train and testing paths\n",
        "train_dir = Path(\"drive/MyDrive/data/train\")\n",
        "test_dir = Path(\"drive/MyDrive/data/test\")\n",
        "\n",
        "train_dir, test_dir"
      ],
      "metadata": {
        "colab": {
          "base_uri": "https://localhost:8080/"
        },
        "id": "bK9Rj4CvrUd9",
        "outputId": "8b6deb15-9239-4745-c254-4a538c5fec17"
      },
      "execution_count": 2,
      "outputs": [
        {
          "output_type": "execute_result",
          "data": {
            "text/plain": [
              "(PosixPath('drive/MyDrive/data/train'), PosixPath('drive/MyDrive/data/test'))"
            ]
          },
          "metadata": {},
          "execution_count": 2
        }
      ]
    },
    {
      "cell_type": "code",
      "source": [
        "from torchvision import datasets, transforms\n",
        "\n",
        "# Create simple transform\n",
        "data_transform = transforms.Compose([ \n",
        "    #transforms.ToPILImage(),\n",
        "    transforms.RandomHorizontalFlip(p=0.5),\n",
        "    transforms.RandomInvert(),\n",
        "    #transforms.TenCrop(64),\n",
        "    transforms.ColorJitter(brightness=(0.5,1.5), contrast=(1), saturation=(0.5,1.5), hue=(-0.1,0.1)),\n",
        "    transforms.RandomSolarize(threshold=192,p=0.5),\n",
        "    transforms.ToTensor(),\n",
        "])\n",
        "\n",
        "# Use ImageFolder to create dataset(s)\n",
        "train_data = datasets.ImageFolder(root=train_dir, # target folder of images\n",
        "                                  transform=data_transform, # transforms to perform on data (images)\n",
        "                                  target_transform=None) # transforms to perform on labels (if necessary)\n",
        "\n",
        "test_data = datasets.ImageFolder(root=test_dir, \n",
        "                                 transform=data_transform)\n",
        "\n",
        "print(f\"Train data:\\n{train_data}\\nTest data:\\n{test_data}\")"
      ],
      "metadata": {
        "colab": {
          "base_uri": "https://localhost:8080/"
        },
        "id": "eIyhFv9WsXQ5",
        "outputId": "00083df8-2b53-41ef-df6e-325d01fef5bd"
      },
      "execution_count": 3,
      "outputs": [
        {
          "output_type": "stream",
          "name": "stdout",
          "text": [
            "Train data:\n",
            "Dataset ImageFolder\n",
            "    Number of datapoints: 1246\n",
            "    Root location: drive/MyDrive/data/train\n",
            "    StandardTransform\n",
            "Transform: Compose(\n",
            "               RandomHorizontalFlip(p=0.5)\n",
            "               RandomInvert(p=0.5)\n",
            "               ColorJitter(brightness=(0.5, 1.5), contrast=[0.0, 2.0], saturation=(0.5, 1.5), hue=(-0.1, 0.1))\n",
            "               RandomSolarize(threshold=192,p=0.5)\n",
            "               ToTensor()\n",
            "           )\n",
            "Test data:\n",
            "Dataset ImageFolder\n",
            "    Number of datapoints: 315\n",
            "    Root location: drive/MyDrive/data/test\n",
            "    StandardTransform\n",
            "Transform: Compose(\n",
            "               RandomHorizontalFlip(p=0.5)\n",
            "               RandomInvert(p=0.5)\n",
            "               ColorJitter(brightness=(0.5, 1.5), contrast=[0.0, 2.0], saturation=(0.5, 1.5), hue=(-0.1, 0.1))\n",
            "               RandomSolarize(threshold=192,p=0.5)\n",
            "               ToTensor()\n",
            "           )\n"
          ]
        }
      ]
    },
    {
      "cell_type": "code",
      "source": [
        "# For this notebook to run with updated APIs, we need torch 1.12+ and torchvision 0.13+\n",
        "try:\n",
        "    import torch\n",
        "    import torchvision\n",
        "    assert int(torch.__version__.split(\".\")[1]) >= 12, \"torch version should be 1.12+\"\n",
        "    assert int(torchvision.__version__.split(\".\")[1]) >= 13, \"torchvision version should be 0.13+\"\n",
        "    print(f\"torch version: {torch.__version__}\")\n",
        "    print(f\"torchvision version: {torchvision.__version__}\")\n",
        "except:\n",
        "    print(f\"[INFO] torch/torchvision versions not as required, installing nightly versions.\")\n",
        "    !pip3 install -U torch torchvision torchaudio --extra-index-url https://download.pytorch.org/whl/cu113\n",
        "    import torch\n",
        "    import torchvision\n",
        "    print(f\"torch version: {torch.__version__}\")\n",
        "    print(f\"torchvision version: {torchvision.__version__}\")"
      ],
      "metadata": {
        "colab": {
          "base_uri": "https://localhost:8080/"
        },
        "id": "2pEFk77BscPg",
        "outputId": "009d5620-fcef-4699-b1d9-f4488dda0ff5"
      },
      "execution_count": 4,
      "outputs": [
        {
          "output_type": "stream",
          "name": "stdout",
          "text": [
            "torch version: 1.13.1+cu116\n",
            "torchvision version: 0.14.1+cu116\n"
          ]
        }
      ]
    },
    {
      "cell_type": "code",
      "source": [
        "# Continue with regular imports\n",
        "import matplotlib.pyplot as plt\n",
        "import torch\n",
        "import torchvision\n",
        "\n",
        "from torch import nn\n",
        "from torchvision import transforms\n",
        "\n",
        "# Try to get torchinfo, install it if it doesn't work\n",
        "try:\n",
        "    from torchinfo import summary\n",
        "except:\n",
        "    print(\"[INFO] Couldn't find torchinfo... installing it.\")\n",
        "    !pip install -q torchinfo\n",
        "    from torchinfo import summary\n",
        "\n",
        "# Try to import the going_modular directory, download it from GitHub if it doesn't work\n",
        "try:\n",
        "    from going_modular.going_modular import data_setup, engine\n",
        "except:\n",
        "    # Get the going_modular scripts\n",
        "    print(\"[INFO] Couldn't find going_modular scripts... downloading them from GitHub.\")\n",
        "    !git clone https://github.com/jfink09/optical-funduscopic-convolutional-neural-network\n",
        "    !mv optical-funduscopic-convolutional-neural-network/going_modular .\n",
        "    !rm -rf optical-funduscopic-convolutional-neural-network\n",
        "    from going_modular.going_modular import data_setup, engine"
      ],
      "metadata": {
        "colab": {
          "base_uri": "https://localhost:8080/"
        },
        "id": "JIU4xj1zslW5",
        "outputId": "8e55a5d5-3a8a-4fb5-e9ab-440b252767f1"
      },
      "execution_count": 5,
      "outputs": [
        {
          "output_type": "stream",
          "name": "stdout",
          "text": [
            "[INFO] Couldn't find torchinfo... installing it.\n",
            "[INFO] Couldn't find going_modular scripts... downloading them from GitHub.\n",
            "Cloning into 'optical-funduscopic-convolutional-neural-network'...\n",
            "remote: Enumerating objects: 260, done.\u001b[K\n",
            "remote: Counting objects: 100% (188/188), done.\u001b[K\n",
            "remote: Compressing objects: 100% (147/147), done.\u001b[K\n",
            "remote: Total 260 (delta 92), reused 90 (delta 40), pack-reused 72\u001b[K\n",
            "Receiving objects: 100% (260/260), 110.85 MiB | 15.08 MiB/s, done.\n",
            "Resolving deltas: 100% (107/107), done.\n"
          ]
        }
      ]
    },
    {
      "cell_type": "code",
      "source": [
        "# Setup device agnostic code\n",
        "device = \"cuda\" if torch.cuda.is_available() else \"cpu\"\n",
        "device"
      ],
      "metadata": {
        "colab": {
          "base_uri": "https://localhost:8080/",
          "height": 35
        },
        "id": "BVg4UmXQsn1R",
        "outputId": "44e380ec-fd27-4e0e-e04c-f6da3e4921d2"
      },
      "execution_count": 6,
      "outputs": [
        {
          "output_type": "execute_result",
          "data": {
            "text/plain": [
              "'cuda'"
            ],
            "application/vnd.google.colaboratory.intrinsic+json": {
              "type": "string"
            }
          },
          "metadata": {},
          "execution_count": 6
        }
      ]
    },
    {
      "cell_type": "code",
      "source": [
        "# Create a transforms pipeline manually (required for torchvision < 0.13)\n",
        "manual_transforms = transforms.Compose([\n",
        "    transforms.Resize((224, 224)), # 1. Reshape all images to 224x224 (though some models may require different sizes)\n",
        "    transforms.RandomHorizontalFlip(p=0.5),\n",
        "    transforms.ColorJitter(brightness=(0.5,1.5), contrast=(1), saturation=(0.5,1.5), hue=(-0.1,0.1)),\n",
        "    transforms.RandomRotation(45),\n",
        "    transforms.ToTensor(), # 2. Turn image values to between 0 & 1 \n",
        "    transforms.Normalize(mean=[0.485, 0.456, 0.406], # 3. A mean of [0.485, 0.456, 0.406] (across each colour channel)\n",
        "                         std=[0.229, 0.224, 0.225]) # 4. A standard deviation of [0.229, 0.224, 0.225] (across each colour channel),\n",
        "])\n",
        "\n",
        "# import random\n",
        "# from PIL import Image\n",
        "# from pathlib import PurePath\n",
        "\n",
        "# image_path = Path(\"drive/MyDrive/data\")\n",
        "# #image_path = data_path / \"test/CRVO\"\n",
        "\n",
        "# # Set seed\n",
        "# #random.seed(42)\n",
        "\n",
        "# # 1. Get all image paths\n",
        "# image_path_list = list(image_path.glob(\"*/*/*.jpg\"))\n",
        "# image_path_list\n",
        "\n",
        "# # 2. Pick a random image path\n",
        "# random_image_path = random.choice(image_path_list)\n",
        "# print(random_image_path)\n",
        "\n",
        "# # 3. Get image class from path name (the image class is the name of the directory where the image is stored)\n",
        "# image_class = random_image_path.parent.stem\n",
        "# print(image_class)\n",
        "\n",
        "# # 4. Open image\n",
        "# img = Image.open(random_image_path)\n",
        "# #img"
      ],
      "metadata": {
        "id": "x3DiiX3IsulA"
      },
      "execution_count": 7,
      "outputs": []
    },
    {
      "cell_type": "code",
      "source": [
        "# Create training and testing DataLoaders as well as get a list of class names\n",
        "train_dataloader, test_dataloader, class_names = data_setup.create_dataloaders(train_dir=train_dir,\n",
        "                                                                               test_dir=test_dir,\n",
        "                                                                               transform=manual_transforms, # resize, convert images to between 0 & 1 and normalize them\n",
        "                                                                               batch_size=32) # set mini-batch size to 32\n",
        "\n",
        "train_dataloader, test_dataloader, class_names"
      ],
      "metadata": {
        "colab": {
          "base_uri": "https://localhost:8080/"
        },
        "id": "ZOSleaybt8Aq",
        "outputId": "8ec1fa46-1db2-496b-aec2-b578bd364bea"
      },
      "execution_count": 8,
      "outputs": [
        {
          "output_type": "execute_result",
          "data": {
            "text/plain": [
              "(<torch.utils.data.dataloader.DataLoader at 0x7f97dc3a7340>,\n",
              " <torch.utils.data.dataloader.DataLoader at 0x7f973e4544c0>,\n",
              " ['CRVO',\n",
              "  'Choroidal Nevus',\n",
              "  'Diabetic Retinopathy',\n",
              "  'Laser Spots',\n",
              "  'Macular Degeneration',\n",
              "  'Macular Hole',\n",
              "  'Myelinated Nerve Fiber',\n",
              "  'Normal',\n",
              "  'Pathological Mypoia',\n",
              "  'Retinitis Pigmentosa'])"
            ]
          },
          "metadata": {},
          "execution_count": 8
        }
      ]
    },
    {
      "cell_type": "code",
      "source": [
        "# Get a set of pretrained model weights\n",
        "weights = torchvision.models.VGG19_BN_Weights.DEFAULT # .DEFAULT = best available weights from pretraining on ImageNet\n",
        "weights"
      ],
      "metadata": {
        "colab": {
          "base_uri": "https://localhost:8080/"
        },
        "id": "fkPigw62uA9x",
        "outputId": "5ffa56ef-0113-4bd1-e7b8-27a8faa8125b"
      },
      "execution_count": 9,
      "outputs": [
        {
          "output_type": "execute_result",
          "data": {
            "text/plain": [
              "VGG19_BN_Weights.IMAGENET1K_V1"
            ]
          },
          "metadata": {},
          "execution_count": 9
        }
      ]
    },
    {
      "cell_type": "code",
      "source": [
        "# OLD: Setup the model with pretrained weights and send it to the target device (this was prior to torchvision v0.13)\n",
        "# model = torchvision.models.efficientnet_b0(pretrained=True).to(device) # OLD method (with pretrained=True)\n",
        "\n",
        "# NEW: Setup the model with pretrained weights and send it to the target device (torchvision v0.13+)\n",
        "weights = torchvision.models.VGG19_BN_Weights.DEFAULT # .DEFAULT = best available weights \n",
        "model = torchvision.models.vgg19_bn(weights=weights).to(device)\n",
        "\n",
        "#model # uncomment to output (it's very long)"
      ],
      "metadata": {
        "colab": {
          "base_uri": "https://localhost:8080/",
          "height": 67,
          "referenced_widgets": [
            "544ba9a5b9f24cf38f1d5d342edbae49",
            "ef43b833ea9443ff80e558315e5f76bc",
            "d96cbd74361a49f0b9d8ffd24df5b4ca",
            "3c862b77d4e9469a988503342d2ad322",
            "467ec205ffab4be9a70e084040008a2e",
            "1437768f1cb94599a05c8ffb919955b0",
            "59049a160a404191bc937adc5318a1f7",
            "0666703d106a41b7901c7df6771a4a8b",
            "b0272fdf4c904344a8ef86f3e7a8e04d",
            "7b66247fd5f84b80a0b52e7e6f85c126",
            "8a4a885a4a2c44049259f1d19bad2a77"
          ]
        },
        "id": "8OsqXPlhu-ym",
        "outputId": "5d8dda39-ddd5-493f-ce89-f16b15ebda78"
      },
      "execution_count": 11,
      "outputs": [
        {
          "output_type": "stream",
          "name": "stderr",
          "text": [
            "Downloading: \"https://download.pytorch.org/models/vgg19_bn-c79401a0.pth\" to /root/.cache/torch/hub/checkpoints/vgg19_bn-c79401a0.pth\n"
          ]
        },
        {
          "output_type": "display_data",
          "data": {
            "text/plain": [
              "  0%|          | 0.00/548M [00:00<?, ?B/s]"
            ],
            "application/vnd.jupyter.widget-view+json": {
              "version_major": 2,
              "version_minor": 0,
              "model_id": "544ba9a5b9f24cf38f1d5d342edbae49"
            }
          },
          "metadata": {}
        }
      ]
    },
    {
      "cell_type": "code",
      "source": [
        "# Print a summary using torchinfo (uncomment for actual output)\n",
        "summary(model=model,\n",
        "        input_size=(32, 3, 224, 224), # make sure this is \"input_size\", not \"input_shape\"\n",
        "        # col_names=[\"input_size\"], # uncomment for smaller output\n",
        "        col_names=[\"input_size\", \"output_size\", \"num_params\", \"trainable\"],\n",
        "        col_width=20,\n",
        "        row_settings=[\"var_names\"]\n",
        ")"
      ],
      "metadata": {
        "colab": {
          "base_uri": "https://localhost:8080/"
        },
        "id": "usYTLIAIvULc",
        "outputId": "0ea0fde7-d953-4885-8637-f9e3c8f03c2a"
      },
      "execution_count": 12,
      "outputs": [
        {
          "output_type": "execute_result",
          "data": {
            "text/plain": [
              "========================================================================================================================\n",
              "Layer (type (var_name))                  Input Shape          Output Shape         Param #              Trainable\n",
              "========================================================================================================================\n",
              "VGG (VGG)                                [32, 3, 224, 224]    [32, 1000]           --                   True\n",
              "├─Sequential (features)                  [32, 3, 224, 224]    [32, 512, 7, 7]      --                   True\n",
              "│    └─Conv2d (0)                        [32, 3, 224, 224]    [32, 64, 224, 224]   1,792                True\n",
              "│    └─BatchNorm2d (1)                   [32, 64, 224, 224]   [32, 64, 224, 224]   128                  True\n",
              "│    └─ReLU (2)                          [32, 64, 224, 224]   [32, 64, 224, 224]   --                   --\n",
              "│    └─Conv2d (3)                        [32, 64, 224, 224]   [32, 64, 224, 224]   36,928               True\n",
              "│    └─BatchNorm2d (4)                   [32, 64, 224, 224]   [32, 64, 224, 224]   128                  True\n",
              "│    └─ReLU (5)                          [32, 64, 224, 224]   [32, 64, 224, 224]   --                   --\n",
              "│    └─MaxPool2d (6)                     [32, 64, 224, 224]   [32, 64, 112, 112]   --                   --\n",
              "│    └─Conv2d (7)                        [32, 64, 112, 112]   [32, 128, 112, 112]  73,856               True\n",
              "│    └─BatchNorm2d (8)                   [32, 128, 112, 112]  [32, 128, 112, 112]  256                  True\n",
              "│    └─ReLU (9)                          [32, 128, 112, 112]  [32, 128, 112, 112]  --                   --\n",
              "│    └─Conv2d (10)                       [32, 128, 112, 112]  [32, 128, 112, 112]  147,584              True\n",
              "│    └─BatchNorm2d (11)                  [32, 128, 112, 112]  [32, 128, 112, 112]  256                  True\n",
              "│    └─ReLU (12)                         [32, 128, 112, 112]  [32, 128, 112, 112]  --                   --\n",
              "│    └─MaxPool2d (13)                    [32, 128, 112, 112]  [32, 128, 56, 56]    --                   --\n",
              "│    └─Conv2d (14)                       [32, 128, 56, 56]    [32, 256, 56, 56]    295,168              True\n",
              "│    └─BatchNorm2d (15)                  [32, 256, 56, 56]    [32, 256, 56, 56]    512                  True\n",
              "│    └─ReLU (16)                         [32, 256, 56, 56]    [32, 256, 56, 56]    --                   --\n",
              "│    └─Conv2d (17)                       [32, 256, 56, 56]    [32, 256, 56, 56]    590,080              True\n",
              "│    └─BatchNorm2d (18)                  [32, 256, 56, 56]    [32, 256, 56, 56]    512                  True\n",
              "│    └─ReLU (19)                         [32, 256, 56, 56]    [32, 256, 56, 56]    --                   --\n",
              "│    └─Conv2d (20)                       [32, 256, 56, 56]    [32, 256, 56, 56]    590,080              True\n",
              "│    └─BatchNorm2d (21)                  [32, 256, 56, 56]    [32, 256, 56, 56]    512                  True\n",
              "│    └─ReLU (22)                         [32, 256, 56, 56]    [32, 256, 56, 56]    --                   --\n",
              "│    └─Conv2d (23)                       [32, 256, 56, 56]    [32, 256, 56, 56]    590,080              True\n",
              "│    └─BatchNorm2d (24)                  [32, 256, 56, 56]    [32, 256, 56, 56]    512                  True\n",
              "│    └─ReLU (25)                         [32, 256, 56, 56]    [32, 256, 56, 56]    --                   --\n",
              "│    └─MaxPool2d (26)                    [32, 256, 56, 56]    [32, 256, 28, 28]    --                   --\n",
              "│    └─Conv2d (27)                       [32, 256, 28, 28]    [32, 512, 28, 28]    1,180,160            True\n",
              "│    └─BatchNorm2d (28)                  [32, 512, 28, 28]    [32, 512, 28, 28]    1,024                True\n",
              "│    └─ReLU (29)                         [32, 512, 28, 28]    [32, 512, 28, 28]    --                   --\n",
              "│    └─Conv2d (30)                       [32, 512, 28, 28]    [32, 512, 28, 28]    2,359,808            True\n",
              "│    └─BatchNorm2d (31)                  [32, 512, 28, 28]    [32, 512, 28, 28]    1,024                True\n",
              "│    └─ReLU (32)                         [32, 512, 28, 28]    [32, 512, 28, 28]    --                   --\n",
              "│    └─Conv2d (33)                       [32, 512, 28, 28]    [32, 512, 28, 28]    2,359,808            True\n",
              "│    └─BatchNorm2d (34)                  [32, 512, 28, 28]    [32, 512, 28, 28]    1,024                True\n",
              "│    └─ReLU (35)                         [32, 512, 28, 28]    [32, 512, 28, 28]    --                   --\n",
              "│    └─Conv2d (36)                       [32, 512, 28, 28]    [32, 512, 28, 28]    2,359,808            True\n",
              "│    └─BatchNorm2d (37)                  [32, 512, 28, 28]    [32, 512, 28, 28]    1,024                True\n",
              "│    └─ReLU (38)                         [32, 512, 28, 28]    [32, 512, 28, 28]    --                   --\n",
              "│    └─MaxPool2d (39)                    [32, 512, 28, 28]    [32, 512, 14, 14]    --                   --\n",
              "│    └─Conv2d (40)                       [32, 512, 14, 14]    [32, 512, 14, 14]    2,359,808            True\n",
              "│    └─BatchNorm2d (41)                  [32, 512, 14, 14]    [32, 512, 14, 14]    1,024                True\n",
              "│    └─ReLU (42)                         [32, 512, 14, 14]    [32, 512, 14, 14]    --                   --\n",
              "│    └─Conv2d (43)                       [32, 512, 14, 14]    [32, 512, 14, 14]    2,359,808            True\n",
              "│    └─BatchNorm2d (44)                  [32, 512, 14, 14]    [32, 512, 14, 14]    1,024                True\n",
              "│    └─ReLU (45)                         [32, 512, 14, 14]    [32, 512, 14, 14]    --                   --\n",
              "│    └─Conv2d (46)                       [32, 512, 14, 14]    [32, 512, 14, 14]    2,359,808            True\n",
              "│    └─BatchNorm2d (47)                  [32, 512, 14, 14]    [32, 512, 14, 14]    1,024                True\n",
              "│    └─ReLU (48)                         [32, 512, 14, 14]    [32, 512, 14, 14]    --                   --\n",
              "│    └─Conv2d (49)                       [32, 512, 14, 14]    [32, 512, 14, 14]    2,359,808            True\n",
              "│    └─BatchNorm2d (50)                  [32, 512, 14, 14]    [32, 512, 14, 14]    1,024                True\n",
              "│    └─ReLU (51)                         [32, 512, 14, 14]    [32, 512, 14, 14]    --                   --\n",
              "│    └─MaxPool2d (52)                    [32, 512, 14, 14]    [32, 512, 7, 7]      --                   --\n",
              "├─AdaptiveAvgPool2d (avgpool)            [32, 512, 7, 7]      [32, 512, 7, 7]      --                   --\n",
              "├─Sequential (classifier)                [32, 25088]          [32, 1000]           --                   True\n",
              "│    └─Linear (0)                        [32, 25088]          [32, 4096]           102,764,544          True\n",
              "│    └─ReLU (1)                          [32, 4096]           [32, 4096]           --                   --\n",
              "│    └─Dropout (2)                       [32, 4096]           [32, 4096]           --                   --\n",
              "│    └─Linear (3)                        [32, 4096]           [32, 4096]           16,781,312           True\n",
              "│    └─ReLU (4)                          [32, 4096]           [32, 4096]           --                   --\n",
              "│    └─Dropout (5)                       [32, 4096]           [32, 4096]           --                   --\n",
              "│    └─Linear (6)                        [32, 4096]           [32, 1000]           4,097,000            True\n",
              "========================================================================================================================\n",
              "Total params: 143,678,248\n",
              "Trainable params: 143,678,248\n",
              "Non-trainable params: 0\n",
              "Total mult-adds (G): 628.70\n",
              "========================================================================================================================\n",
              "Input size (MB): 19.27\n",
              "Forward/backward pass size (MB): 7606.63\n",
              "Params size (MB): 574.71\n",
              "Estimated Total Size (MB): 8200.61\n",
              "========================================================================================================================"
            ]
          },
          "metadata": {},
          "execution_count": 12
        }
      ]
    },
    {
      "cell_type": "code",
      "source": [
        "# Set the manual seeds\n",
        "torch.manual_seed(42)\n",
        "torch.cuda.manual_seed(42)\n",
        "\n",
        "# Get the length of class_names (one output unit for each class)\n",
        "output_shape = len(class_names)\n",
        "\n",
        "# Recreate the classifier layer and seed it to the target device\n",
        "model.classifier = torch.nn.Sequential(\n",
        "    torch.nn.Dropout(p=0.2, inplace=True), \n",
        "    torch.nn.Linear(in_features=25088, \n",
        "                    out_features=output_shape, # same number of output units as our number of classes\n",
        "                    bias=True)).to(device)"
      ],
      "metadata": {
        "id": "0i025Xd_vX3E"
      },
      "execution_count": 16,
      "outputs": []
    },
    {
      "cell_type": "code",
      "source": [
        "# Define loss and optimizer\n",
        "loss_fn = nn.CrossEntropyLoss()\n",
        "optimizer = torch.optim.Adam(model.parameters(), lr=0.001)"
      ],
      "metadata": {
        "id": "-0htmlu-vbqM"
      },
      "execution_count": 17,
      "outputs": []
    },
    {
      "cell_type": "code",
      "source": [
        "# Set the random seeds\n",
        "torch.manual_seed(42)\n",
        "torch.cuda.manual_seed(42)\n",
        "\n",
        "# Start the timer\n",
        "from timeit import default_timer as timer \n",
        "start_time = timer()\n",
        "\n",
        "# Setup training and save the results\n",
        "results = engine.train(model=model,\n",
        "                        train_dataloader=train_dataloader,\n",
        "                        test_dataloader=test_dataloader,\n",
        "                        optimizer=optimizer,\n",
        "                        loss_fn=loss_fn,\n",
        "                        epochs=10,\n",
        "                        device=device)\n",
        "\n",
        "# End the timer and print out how long it took\n",
        "end_time = timer()\n",
        "print(f\"[INFO] Total training time: {end_time-start_time:.3f} seconds\")"
      ],
      "metadata": {
        "colab": {
          "base_uri": "https://localhost:8080/",
          "height": 240,
          "referenced_widgets": [
            "74b3d4f5861f45c59987130c39e85f9e",
            "d1c93f643c3c4312bd92e2be301c0fbb",
            "1baea5d1a4dc4b81a4dd98696ff17ac9",
            "57c25d52a72341b482c87ca02a1067ab",
            "1449bc9a52884c97b29b35e701c70cd2",
            "1b8e7589de3b4d59bb8e10fe8517d69f",
            "07b6d1d377cb4f43aead99e3941217f3",
            "c08b3e84c09c44d5b91c036cc0bd7b8f",
            "a6444fe7b1e9431cbb94b9563ae88aed",
            "6556abd89ebc4cc081fe7dd248380906",
            "1cad0fb9611b46579d6c1c9577eb4b99"
          ]
        },
        "id": "o4YxoPMcwcZg",
        "outputId": "8c1cbb54-ebe4-43b2-e4ab-807fd809223a"
      },
      "execution_count": 18,
      "outputs": [
        {
          "output_type": "display_data",
          "data": {
            "text/plain": [
              "  0%|          | 0/10 [00:00<?, ?it/s]"
            ],
            "application/vnd.jupyter.widget-view+json": {
              "version_major": 2,
              "version_minor": 0,
              "model_id": "74b3d4f5861f45c59987130c39e85f9e"
            }
          },
          "metadata": {}
        },
        {
          "output_type": "stream",
          "name": "stdout",
          "text": [
            "Epoch: 1 | train_loss: 2.1450 | train_acc: 0.2377 | test_loss: 6.2158 | test_acc: 0.2402\n",
            "Epoch: 2 | train_loss: 1.9187 | train_acc: 0.2920 | test_loss: 1.9829 | test_acc: 0.2781\n",
            "Epoch: 3 | train_loss: 1.8524 | train_acc: 0.3171 | test_loss: 2.2410 | test_acc: 0.2867\n",
            "Epoch: 4 | train_loss: 1.7800 | train_acc: 0.3502 | test_loss: 1.9467 | test_acc: 0.3038\n",
            "Epoch: 5 | train_loss: 1.7831 | train_acc: 0.3628 | test_loss: 2.0167 | test_acc: 0.3546\n",
            "Epoch: 6 | train_loss: 1.7244 | train_acc: 0.3668 | test_loss: 1.8525 | test_acc: 0.3140\n",
            "Epoch: 7 | train_loss: 1.6265 | train_acc: 0.4184 | test_loss: 1.8507 | test_acc: 0.3700\n",
            "Epoch: 8 | train_loss: 1.5977 | train_acc: 0.4252 | test_loss: 1.9401 | test_acc: 0.3223\n",
            "Epoch: 9 | train_loss: 1.5549 | train_acc: 0.4254 | test_loss: 2.2117 | test_acc: 0.3535\n",
            "Epoch: 10 | train_loss: 1.5479 | train_acc: 0.4506 | test_loss: 1.8113 | test_acc: 0.3569\n",
            "[INFO] Total training time: 1805.776 seconds\n"
          ]
        }
      ]
    },
    {
      "cell_type": "code",
      "source": [
        "# Get the plot_loss_curves() function from helper_functions.py, download the file if we don't have it\n",
        "try:\n",
        "    from helper_functions import plot_loss_curves\n",
        "except:\n",
        "    print(\"[INFO] Couldn't find helper_functions.py, downloading...\")\n",
        "    with open(\"helper_functions.py\", \"wb\") as f:\n",
        "        import requests\n",
        "        request = requests.get(\"https://github.com/jfink09/optical-funduscopic-convolutional-neural-network/raw/main/helper_functions.py\")\n",
        "        f.write(request.content)\n",
        "    from helper_functions import plot_loss_curves\n",
        "\n",
        "# Plot the loss curves of our model\n",
        "plot_loss_curves(results)"
      ],
      "metadata": {
        "colab": {
          "base_uri": "https://localhost:8080/",
          "height": 475
        },
        "id": "qkLnY8fF0V_F",
        "outputId": "1c05144d-1e0c-4f7b-a652-c1dfb673e75f"
      },
      "execution_count": 19,
      "outputs": [
        {
          "output_type": "stream",
          "name": "stdout",
          "text": [
            "[INFO] Couldn't find helper_functions.py, downloading...\n"
          ]
        },
        {
          "output_type": "display_data",
          "data": {
            "text/plain": [
              "<Figure size 1080x504 with 2 Axes>"
            ],
            "image/png": "[encoded data removed]"
          },
          "metadata": {
            "needs_background": "light"
          }
        }
      ]
    },
    {
      "cell_type": "code",
      "source": [
        "from typing import List, Tuple\n",
        "\n",
        "from PIL import Image\n",
        "\n",
        "# 1. Take in a trained model, class names, image path, image size, a transform and target device\n",
        "def pred_and_plot_image(model: torch.nn.Module,\n",
        "                        image_path: str, \n",
        "                        class_names: List[str],\n",
        "                        image_size: Tuple[int, int] = (224, 224),\n",
        "                        transform: torchvision.transforms = None,\n",
        "                        device: torch.device=device):\n",
        "    \n",
        "    \n",
        "    # 2. Open image\n",
        "    img = Image.open(image_path)\n",
        "\n",
        "    # 3. Create transformation for image (if one doesn't exist)\n",
        "    if transform is not None:\n",
        "        image_transform = transform\n",
        "    else:\n",
        "        image_transform = transforms.Compose([\n",
        "            transforms.Resize(image_size),\n",
        "            #transforms.Grayscale(3),\n",
        "            #transforms.RandomGrayscale(0.1),\n",
        "            #transforms.ColorJitter(brightness=.5, hue=.3),\n",
        "            transforms.ToTensor(),\n",
        "            transforms.Normalize(mean=[0.485, 0.456, 0.406],\n",
        "                                 std=[0.229, 0.224, 0.225]),\n",
        "        ])\n",
        "\n",
        "    ### Predict on image ### \n",
        "\n",
        "    # 4. Make sure the model is on the target device\n",
        "    model.to(device)\n",
        "\n",
        "    # 5. Turn on model evaluation mode and inference mode\n",
        "    model.eval()\n",
        "    with torch.inference_mode():\n",
        "      # 6. Transform and add an extra dimension to image (model requires samples in [batch_size, color_channels, height, width])\n",
        "      transformed_image = image_transform(img).unsqueeze(dim=0)\n",
        "\n",
        "      # 7. Make a prediction on image with an extra dimension and send it to the target device\n",
        "      target_image_pred = model(transformed_image.to(device))\n",
        "\n",
        "    # 8. Convert logits -> prediction probabilities (using torch.softmax() for multi-class classification)\n",
        "    target_image_pred_probs = torch.softmax(target_image_pred, dim=1)\n",
        "\n",
        "    # 9. Convert prediction probabilities -> prediction labels\n",
        "    target_image_pred_label = torch.argmax(target_image_pred_probs, dim=1)\n",
        "\n",
        "    # 10. Plot image with predicted label and probability \n",
        "    plt.figure()\n",
        "    plt.imshow(img)\n",
        "    plt.title(f\"Pred: {class_names[target_image_pred_label]} | Prob: {target_image_pred_probs.max():.3f}\")\n",
        "    plt.axis(False);\n",
        "#pred_and_plot_image(model,'drive/MyDrive/data/train/CRVO/cr1.jpg',class_names)"
      ],
      "metadata": {
        "id": "PE2pOgLLwfXt"
      },
      "execution_count": 20,
      "outputs": []
    },
    {
      "cell_type": "code",
      "source": [
        "# Get a random list of image paths from test set\n",
        "import random\n",
        "num_images_to_plot = 3\n",
        "test_image_path_list = list(Path(test_dir).glob(\"*/*.jpg\")) # get list all image paths from test data \n",
        "test_image_path_sample = random.sample(population=test_image_path_list, # go through all of the test image paths\n",
        "                                       k=num_images_to_plot) # randomly select 'k' image paths to pred and plot\n",
        "\n",
        "# Make predictions on and plot the images\n",
        "for image_path in test_image_path_sample:\n",
        "    pred_and_plot_image(model=model, \n",
        "                        image_path=image_path,\n",
        "                        class_names=class_names,\n",
        "                        # transform=weights.transforms(), # optionally pass in a specified transform from our pretrained model weights\n",
        "                        image_size=(224, 224))"
      ],
      "metadata": {
        "colab": {
          "base_uri": "https://localhost:8080/",
          "height": 758
        },
        "id": "Ls_vXaoV52Vu",
        "outputId": "8d19d435-fb10-468c-fe21-8c5af14f5d8b"
      },
      "execution_count": 21,
      "outputs": [
        {
          "output_type": "display_data",
          "data": {
            "text/plain": [
              "<Figure size 432x288 with 1 Axes>"
            ],
            "image/png": "[encoded data removed]"
          },
          "metadata": {
            "needs_background": "light"
          }
        },
        {
          "output_type": "display_data",
          "data": {
            "text/plain": [
              "<Figure size 432x288 with 1 Axes>"
            ],
            "image/png": "[encoded data removed]"
          },
          "metadata": {
            "needs_background": "light"
          }
        },
        {
          "output_type": "display_data",
          "data": {
            "text/plain": [
              "<Figure size 432x288 with 1 Axes>"
            ],
            "image/png": "[encoded data removed]"
          },
          "metadata": {
            "needs_background": "light"
          }
        }
      ]
    },
    {
      "cell_type": "code",
      "source": [
        "data_path = Path(\"data/\")\n",
        "image_path = data_path / \"deepfundus\"\n",
        "\n",
        "# If the image folder doesn't exist, download it and prepare it... \n",
        "if image_path.is_dir():\n",
        "    print(f\"{image_path} directory exists.\")\n",
        "else:\n",
        "    print(f\"Did not find {image_path} directory, creating one...\")\n",
        "    image_path.mkdir(parents=True, exist_ok=True)"
      ],
      "metadata": {
        "colab": {
          "base_uri": "https://localhost:8080/"
        },
        "id": "eyZl9NBH6FpL",
        "outputId": "f6a394ab-9e43-4e47-f603-e3a520a21a9c"
      },
      "execution_count": 22,
      "outputs": [
        {
          "output_type": "stream",
          "name": "stdout",
          "text": [
            "Did not find data/deepfundus directory, creating one...\n"
          ]
        }
      ]
    },
    {
      "cell_type": "code",
      "source": [
        "# Import/install Gradio \n",
        "try:\n",
        "    import gradio as gr\n",
        "except: \n",
        "    !pip -q install gradio\n",
        "    import gradio as gr\n",
        "    \n",
        "print(f\"Gradio version: {gr.__version__}\")"
      ],
      "metadata": {
        "colab": {
          "base_uri": "https://localhost:8080/"
        },
        "id": "nI9vNa1p6GQE",
        "outputId": "3861069d-1403-4553-b8d3-39ccb0c4b5cc"
      },
      "execution_count": 23,
      "outputs": [
        {
          "output_type": "stream",
          "name": "stdout",
          "text": [
            "\u001b[2K     \u001b[90m━━━━━━━━━━━━━━━━━━━━━━━━━━━━━━━━━━━━━━━━\u001b[0m \u001b[32m14.2/14.2 MB\u001b[0m \u001b[31m87.7 MB/s\u001b[0m eta \u001b[36m0:00:00\u001b[0m\n",
            "\u001b[2K     \u001b[90m━━━━━━━━━━━━━━━━━━━━━━━━━━━━━━━━━━━━━━━━\u001b[0m \u001b[32m84.5/84.5 KB\u001b[0m \u001b[31m10.9 MB/s\u001b[0m eta \u001b[36m0:00:00\u001b[0m\n",
            "\u001b[2K     \u001b[90m━━━━━━━━━━━━━━━━━━━━━━━━━━━━━━━━━━━━━━━━\u001b[0m \u001b[32m71.5/71.5 KB\u001b[0m \u001b[31m9.0 MB/s\u001b[0m eta \u001b[36m0:00:00\u001b[0m\n",
            "\u001b[2K     \u001b[90m━━━━━━━━━━━━━━━━━━━━━━━━━━━━━━━━━━━━━━━━\u001b[0m \u001b[32m56.9/56.9 KB\u001b[0m \u001b[31m7.1 MB/s\u001b[0m eta \u001b[36m0:00:00\u001b[0m\n",
            "\u001b[2K     \u001b[90m━━━━━━━━━━━━━━━━━━━━━━━━━━━━━━━━━━━━━━━━\u001b[0m \u001b[32m56.2/56.2 KB\u001b[0m \u001b[31m4.5 MB/s\u001b[0m eta \u001b[36m0:00:00\u001b[0m\n",
            "\u001b[2K     \u001b[90m━━━━━━━━━━━━━━━━━━━━━━━━━━━━━━━━━━━━━━\u001b[0m \u001b[32m107.0/107.0 KB\u001b[0m \u001b[31m13.7 MB/s\u001b[0m eta \u001b[36m0:00:00\u001b[0m\n",
            "\u001b[?25h  Preparing metadata (setup.py) ... \u001b[?25l\u001b[?25hdone\n",
            "\u001b[2K     \u001b[90m━━━━━━━━━━━━━━━━━━━━━━━━━━━━━━━━━━━━━━\u001b[0m \u001b[32m140.7/140.7 KB\u001b[0m \u001b[31m17.7 MB/s\u001b[0m eta \u001b[36m0:00:00\u001b[0m\n",
            "\u001b[2K     \u001b[90m━━━━━━━━━━━━━━━━━━━━━━━━━━━━━━━━━━━━━━━━\u001b[0m \u001b[32m2.1/2.1 MB\u001b[0m \u001b[31m85.7 MB/s\u001b[0m eta \u001b[36m0:00:00\u001b[0m\n",
            "\u001b[?25h  Preparing metadata (setup.py) ... \u001b[?25l\u001b[?25hdone\n",
            "\u001b[2K     \u001b[90m━━━━━━━━━━━━━━━━━━━━━━━━━━━━━━━━━━━━━━━━\u001b[0m \u001b[32m50.5/50.5 KB\u001b[0m \u001b[31m6.5 MB/s\u001b[0m eta \u001b[36m0:00:00\u001b[0m\n",
            "\u001b[2K     \u001b[90m━━━━━━━━━━━━━━━━━━━━━━━━━━━━━━━━━━━━━━━━\u001b[0m \u001b[32m66.4/66.4 KB\u001b[0m \u001b[31m7.8 MB/s\u001b[0m eta \u001b[36m0:00:00\u001b[0m\n",
            "\u001b[2K     \u001b[90m━━━━━━━━━━━━━━━━━━━━━━━━━━━━━━━━━━━━━━━━\u001b[0m \u001b[32m69.6/69.6 KB\u001b[0m \u001b[31m8.5 MB/s\u001b[0m eta \u001b[36m0:00:00\u001b[0m\n",
            "\u001b[2K     \u001b[90m━━━━━━━━━━━━━━━━━━━━━━━━━━━━━━━━━━━━━━━━\u001b[0m \u001b[32m58.3/58.3 KB\u001b[0m \u001b[31m7.4 MB/s\u001b[0m eta \u001b[36m0:00:00\u001b[0m\n",
            "\u001b[2K     \u001b[90m━━━━━━━━━━━━━━━━━━━━━━━━━━━━━━━━━━━━━━━━\u001b[0m \u001b[32m80.6/80.6 KB\u001b[0m \u001b[31m9.3 MB/s\u001b[0m eta \u001b[36m0:00:00\u001b[0m\n",
            "\u001b[?25h  Building wheel for ffmpy (setup.py) ... \u001b[?25l\u001b[?25hdone\n",
            "  Building wheel for python-multipart (setup.py) ... \u001b[?25l\u001b[?25hdone\n",
            "Gradio version: 3.18.0\n"
          ]
        }
      ]
    },
    {
      "cell_type": "code",
      "source": [
        "# Put ResNet50 on CPU\n",
        "model.to(\"cpu\") \n",
        "\n",
        "# Check the device\n",
        "next(iter(model.parameters())).device"
      ],
      "metadata": {
        "colab": {
          "base_uri": "https://localhost:8080/"
        },
        "id": "eeg3Sgqw6I4c",
        "outputId": "6bafea8a-4f99-40db-eb33-3e44980fe400"
      },
      "execution_count": 24,
      "outputs": [
        {
          "output_type": "execute_result",
          "data": {
            "text/plain": [
              "device(type='cpu')"
            ]
          },
          "metadata": {},
          "execution_count": 24
        }
      ]
    },
    {
      "cell_type": "code",
      "source": [
        "# 1. Setup pretrained ResNet50 weights\n",
        "vgg19_bn_weights = torchvision.models.VGG19_BN_Weights.DEFAULT\n",
        "\n",
        "# 2. Get ResNet50 transforms\n",
        "vgg19_bn_transforms = vgg19_bn_weights.transforms()\n",
        "\n",
        "# 3. Setup pretrained model\n",
        "vgg19_bn = torchvision.models.vgg19_bn(weights=vgg19_bn_weights) # could also use weights=\"DEFAULT\"\n",
        "\n",
        "# 4. Freeze the base layers in the model (this will freeze all layers to begin with)\n",
        "for param in vgg19_bn.parameters():\n",
        "    param.requires_grad = True # Set to False for model's other than ResNet"
      ],
      "metadata": {
        "id": "AGvXC1yw6O1D"
      },
      "execution_count": 25,
      "outputs": []
    },
    {
      "cell_type": "code",
      "source": [
        "# 5. Update the classifier head\n",
        "vgg19_bn.classifier = nn.Sequential(\n",
        "    nn.Dropout(p=0.3, inplace=True), # keep dropout layer same\n",
        "    nn.Linear(in_features=25088, # keep in_features same \n",
        "              out_features=10)) # change out_features to suit our number of classes # 4"
      ],
      "metadata": {
        "id": "B4uqtmZK6lOT"
      },
      "execution_count": 26,
      "outputs": []
    },
    {
      "cell_type": "code",
      "source": [
        "def create_vgg19_bn_model(num_classes:int=10, # 4\n",
        "                          seed:int=42):\n",
        "    \"\"\"Creates an VGG19_BN feature extractor model and transforms.\n",
        "\n",
        "    Args:\n",
        "        num_classes (int, optional): number of classes in the classifier head. \n",
        "            Defaults to 3.\n",
        "        seed (int, optional): random seed value. Defaults to 42.\n",
        "\n",
        "    Returns:\n",
        "        model (torch.nn.Module): VGG19_BN feature extractor model. \n",
        "        transforms (torchvision.transforms): VGG19_BN image transforms.\n",
        "    \"\"\"\n",
        "    # 1, 2, 3. Create VGG19_BN pretrained weights, transforms and model\n",
        "    weights = torchvision.models.VGG19_BN_Weights.DEFAULT\n",
        "    transforms = weights.transforms()\n",
        "    model = torchvision.models.vgg19_bn(weights=weights)\n",
        "\n",
        "    # 4. Freeze all layers in base model\n",
        "    for param in model.parameters():\n",
        "        param.requires_grad = True # Set to False for model's other than ResNet\n",
        "\n",
        "    # 5. Change classifier head with random seed for reproducibility\n",
        "    torch.manual_seed(seed)\n",
        "    model.classifier = nn.Sequential(\n",
        "        nn.Dropout(p=0.3, inplace=True),\n",
        "        nn.Linear(in_features=25088\n",
        "                  , out_features=num_classes), # If using EffnetB2 in_features = 1408, EffnetB0 in_features = 1280, if ResNet50 in_features = 2048\n",
        "    )\n",
        "    \n",
        "    return model, transforms"
      ],
      "metadata": {
        "id": "wQxY4c_W60Sq"
      },
      "execution_count": 27,
      "outputs": []
    },
    {
      "cell_type": "code",
      "source": [
        "vgg19_bn, vgg19_bn_transforms = create_vgg19_bn_model(num_classes=10, # 4\n",
        "                                                      seed=42)"
      ],
      "metadata": {
        "id": "AoR25zZD7S-5"
      },
      "execution_count": 28,
      "outputs": []
    },
    {
      "cell_type": "code",
      "source": [
        "from torchinfo import summary\n",
        "\n",
        "# Print VGG19_BN model summary (uncomment for full output) \n",
        "summary(vgg19_bn, \n",
        "        input_size=(1, 3, 224, 224),\n",
        "        col_names=[\"input_size\", \"output_size\", \"num_params\", \"trainable\"],\n",
        "        col_width=20,\n",
        "        row_settings=[\"var_names\"])"
      ],
      "metadata": {
        "colab": {
          "base_uri": "https://localhost:8080/"
        },
        "id": "-1DrM7jP7gjC",
        "outputId": "24925359-4f09-4383-8032-fd1792c5d264"
      },
      "execution_count": 29,
      "outputs": [
        {
          "output_type": "execute_result",
          "data": {
            "text/plain": [
              "========================================================================================================================\n",
              "Layer (type (var_name))                  Input Shape          Output Shape         Param #              Trainable\n",
              "========================================================================================================================\n",
              "VGG (VGG)                                [1, 3, 224, 224]     [1, 10]              --                   True\n",
              "├─Sequential (features)                  [1, 3, 224, 224]     [1, 512, 7, 7]       --                   True\n",
              "│    └─Conv2d (0)                        [1, 3, 224, 224]     [1, 64, 224, 224]    1,792                True\n",
              "│    └─BatchNorm2d (1)                   [1, 64, 224, 224]    [1, 64, 224, 224]    128                  True\n",
              "│    └─ReLU (2)                          [1, 64, 224, 224]    [1, 64, 224, 224]    --                   --\n",
              "│    └─Conv2d (3)                        [1, 64, 224, 224]    [1, 64, 224, 224]    36,928               True\n",
              "│    └─BatchNorm2d (4)                   [1, 64, 224, 224]    [1, 64, 224, 224]    128                  True\n",
              "│    └─ReLU (5)                          [1, 64, 224, 224]    [1, 64, 224, 224]    --                   --\n",
              "│    └─MaxPool2d (6)                     [1, 64, 224, 224]    [1, 64, 112, 112]    --                   --\n",
              "│    └─Conv2d (7)                        [1, 64, 112, 112]    [1, 128, 112, 112]   73,856               True\n",
              "│    └─BatchNorm2d (8)                   [1, 128, 112, 112]   [1, 128, 112, 112]   256                  True\n",
              "│    └─ReLU (9)                          [1, 128, 112, 112]   [1, 128, 112, 112]   --                   --\n",
              "│    └─Conv2d (10)                       [1, 128, 112, 112]   [1, 128, 112, 112]   147,584              True\n",
              "│    └─BatchNorm2d (11)                  [1, 128, 112, 112]   [1, 128, 112, 112]   256                  True\n",
              "│    └─ReLU (12)                         [1, 128, 112, 112]   [1, 128, 112, 112]   --                   --\n",
              "│    └─MaxPool2d (13)                    [1, 128, 112, 112]   [1, 128, 56, 56]     --                   --\n",
              "│    └─Conv2d (14)                       [1, 128, 56, 56]     [1, 256, 56, 56]     295,168              True\n",
              "│    └─BatchNorm2d (15)                  [1, 256, 56, 56]     [1, 256, 56, 56]     512                  True\n",
              "│    └─ReLU (16)                         [1, 256, 56, 56]     [1, 256, 56, 56]     --                   --\n",
              "│    └─Conv2d (17)                       [1, 256, 56, 56]     [1, 256, 56, 56]     590,080              True\n",
              "│    └─BatchNorm2d (18)                  [1, 256, 56, 56]     [1, 256, 56, 56]     512                  True\n",
              "│    └─ReLU (19)                         [1, 256, 56, 56]     [1, 256, 56, 56]     --                   --\n",
              "│    └─Conv2d (20)                       [1, 256, 56, 56]     [1, 256, 56, 56]     590,080              True\n",
              "│    └─BatchNorm2d (21)                  [1, 256, 56, 56]     [1, 256, 56, 56]     512                  True\n",
              "│    └─ReLU (22)                         [1, 256, 56, 56]     [1, 256, 56, 56]     --                   --\n",
              "│    └─Conv2d (23)                       [1, 256, 56, 56]     [1, 256, 56, 56]     590,080              True\n",
              "│    └─BatchNorm2d (24)                  [1, 256, 56, 56]     [1, 256, 56, 56]     512                  True\n",
              "│    └─ReLU (25)                         [1, 256, 56, 56]     [1, 256, 56, 56]     --                   --\n",
              "│    └─MaxPool2d (26)                    [1, 256, 56, 56]     [1, 256, 28, 28]     --                   --\n",
              "│    └─Conv2d (27)                       [1, 256, 28, 28]     [1, 512, 28, 28]     1,180,160            True\n",
              "│    └─BatchNorm2d (28)                  [1, 512, 28, 28]     [1, 512, 28, 28]     1,024                True\n",
              "│    └─ReLU (29)                         [1, 512, 28, 28]     [1, 512, 28, 28]     --                   --\n",
              "│    └─Conv2d (30)                       [1, 512, 28, 28]     [1, 512, 28, 28]     2,359,808            True\n",
              "│    └─BatchNorm2d (31)                  [1, 512, 28, 28]     [1, 512, 28, 28]     1,024                True\n",
              "│    └─ReLU (32)                         [1, 512, 28, 28]     [1, 512, 28, 28]     --                   --\n",
              "│    └─Conv2d (33)                       [1, 512, 28, 28]     [1, 512, 28, 28]     2,359,808            True\n",
              "│    └─BatchNorm2d (34)                  [1, 512, 28, 28]     [1, 512, 28, 28]     1,024                True\n",
              "│    └─ReLU (35)                         [1, 512, 28, 28]     [1, 512, 28, 28]     --                   --\n",
              "│    └─Conv2d (36)                       [1, 512, 28, 28]     [1, 512, 28, 28]     2,359,808            True\n",
              "│    └─BatchNorm2d (37)                  [1, 512, 28, 28]     [1, 512, 28, 28]     1,024                True\n",
              "│    └─ReLU (38)                         [1, 512, 28, 28]     [1, 512, 28, 28]     --                   --\n",
              "│    └─MaxPool2d (39)                    [1, 512, 28, 28]     [1, 512, 14, 14]     --                   --\n",
              "│    └─Conv2d (40)                       [1, 512, 14, 14]     [1, 512, 14, 14]     2,359,808            True\n",
              "│    └─BatchNorm2d (41)                  [1, 512, 14, 14]     [1, 512, 14, 14]     1,024                True\n",
              "│    └─ReLU (42)                         [1, 512, 14, 14]     [1, 512, 14, 14]     --                   --\n",
              "│    └─Conv2d (43)                       [1, 512, 14, 14]     [1, 512, 14, 14]     2,359,808            True\n",
              "│    └─BatchNorm2d (44)                  [1, 512, 14, 14]     [1, 512, 14, 14]     1,024                True\n",
              "│    └─ReLU (45)                         [1, 512, 14, 14]     [1, 512, 14, 14]     --                   --\n",
              "│    └─Conv2d (46)                       [1, 512, 14, 14]     [1, 512, 14, 14]     2,359,808            True\n",
              "│    └─BatchNorm2d (47)                  [1, 512, 14, 14]     [1, 512, 14, 14]     1,024                True\n",
              "│    └─ReLU (48)                         [1, 512, 14, 14]     [1, 512, 14, 14]     --                   --\n",
              "│    └─Conv2d (49)                       [1, 512, 14, 14]     [1, 512, 14, 14]     2,359,808            True\n",
              "│    └─BatchNorm2d (50)                  [1, 512, 14, 14]     [1, 512, 14, 14]     1,024                True\n",
              "│    └─ReLU (51)                         [1, 512, 14, 14]     [1, 512, 14, 14]     --                   --\n",
              "│    └─MaxPool2d (52)                    [1, 512, 14, 14]     [1, 512, 7, 7]       --                   --\n",
              "├─AdaptiveAvgPool2d (avgpool)            [1, 512, 7, 7]       [1, 512, 7, 7]       --                   --\n",
              "├─Sequential (classifier)                [1, 25088]           [1, 10]              --                   True\n",
              "│    └─Dropout (0)                       [1, 25088]           [1, 25088]           --                   --\n",
              "│    └─Linear (1)                        [1, 25088]           [1, 10]              250,890              True\n",
              "========================================================================================================================\n",
              "Total params: 20,286,282\n",
              "Trainable params: 20,286,282\n",
              "Non-trainable params: 0\n",
              "Total mult-adds (G): 19.52\n",
              "========================================================================================================================\n",
              "Input size (MB): 0.60\n",
              "Forward/backward pass size (MB): 237.63\n",
              "Params size (MB): 81.15\n",
              "Estimated Total Size (MB): 319.38\n",
              "========================================================================================================================"
            ]
          },
          "metadata": {},
          "execution_count": 29
        }
      ]
    },
    {
      "cell_type": "code",
      "source": [
        "# Setup DataLoaders\n",
        "from going_modular.going_modular import data_setup\n",
        "train_dataloader_vgg19_bn, test_dataloader_vgg19_bn, class_names = data_setup.create_dataloaders(train_dir=train_dir,\n",
        "                                                                                                 test_dir=test_dir,\n",
        "                                                                                                 transform=vgg19_bn_transforms,\n",
        "                                                                                                 batch_size=32)"
      ],
      "metadata": {
        "id": "ibCcMbhe7riQ"
      },
      "execution_count": 30,
      "outputs": []
    },
    {
      "cell_type": "code",
      "source": [
        "from going_modular.going_modular import engine\n",
        "\n",
        "# Setup optimizer\n",
        "optimizer = torch.optim.Adam(params=vgg19_bn.parameters(),\n",
        "                             lr=1e-3)\n",
        "# Setup loss function\n",
        "loss_fn = torch.nn.CrossEntropyLoss()\n",
        "\n",
        "# Set seeds for reproducibility and train the model\n",
        "#set_seeds()\n",
        "vgg19_bn_results = engine.train(model=vgg19_bn,\n",
        "                                train_dataloader=train_dataloader_vgg19_bn,\n",
        "                                test_dataloader=test_dataloader_vgg19_bn,\n",
        "                                epochs=10,\n",
        "                                optimizer=optimizer,\n",
        "                                loss_fn=loss_fn,\n",
        "                                device=device)"
      ],
      "metadata": {
        "colab": {
          "base_uri": "https://localhost:8080/",
          "height": 223,
          "referenced_widgets": [
            "c47b4954a676468ebbc4cdbaa8c8e87c",
            "46cc7a197e2545119a21efa4f1f93bae",
            "88d3a373228743f7bc39c11351de8da1",
            "08679d017e7f41a68f0763e47cf1b0da",
            "84f772f191b74e87901a4ed22c1c174e",
            "9f90331a69014648b44d0e38d0cde5af",
            "b526e483cff54c7583b3b24a20ea2c5f",
            "599080cec4944986aef826034fe4c3ce",
            "a979c0ee14624a91a15f2b470d1b65b7",
            "20e98c5c92df40c3a8aabcf9c13726cf",
            "229eb19c0ef04cd59677ae86cfbc1a91"
          ]
        },
        "id": "h28Yj53V73Zn",
        "outputId": "307dae4b-4c78-4b54-af8b-5fff93d119aa"
      },
      "execution_count": 31,
      "outputs": [
        {
          "output_type": "display_data",
          "data": {
            "text/plain": [
              "  0%|          | 0/10 [00:00<?, ?it/s]"
            ],
            "application/vnd.jupyter.widget-view+json": {
              "version_major": 2,
              "version_minor": 0,
              "model_id": "c47b4954a676468ebbc4cdbaa8c8e87c"
            }
          },
          "metadata": {}
        },
        {
          "output_type": "stream",
          "name": "stdout",
          "text": [
            "Epoch: 1 | train_loss: 1.8857 | train_acc: 0.3170 | test_loss: 9.6814 | test_acc: 0.2032\n",
            "Epoch: 2 | train_loss: 1.5524 | train_acc: 0.4230 | test_loss: 2.0161 | test_acc: 0.3370\n",
            "Epoch: 3 | train_loss: 1.4234 | train_acc: 0.4581 | test_loss: 3.5123 | test_acc: 0.2481\n",
            "Epoch: 4 | train_loss: 1.3243 | train_acc: 0.4533 | test_loss: 1.7751 | test_acc: 0.3751\n",
            "Epoch: 5 | train_loss: 1.2028 | train_acc: 0.5353 | test_loss: 2.4360 | test_acc: 0.4405\n",
            "Epoch: 6 | train_loss: 1.0932 | train_acc: 0.5955 | test_loss: 2.6921 | test_acc: 0.4447\n",
            "Epoch: 7 | train_loss: 0.9604 | train_acc: 0.6421 | test_loss: 1.7202 | test_acc: 0.4788\n",
            "Epoch: 8 | train_loss: 0.7690 | train_acc: 0.7198 | test_loss: 1.7391 | test_acc: 0.4615\n",
            "Epoch: 9 | train_loss: 0.6785 | train_acc: 0.7510 | test_loss: 1.9868 | test_acc: 0.5134\n",
            "Epoch: 10 | train_loss: 0.5916 | train_acc: 0.7985 | test_loss: 1.9675 | test_acc: 0.4609\n"
          ]
        }
      ]
    },
    {
      "cell_type": "code",
      "source": [
        "from helper_functions import plot_loss_curves\n",
        "\n",
        "plot_loss_curves(vgg19_bn_results)"
      ],
      "metadata": {
        "colab": {
          "base_uri": "https://localhost:8080/",
          "height": 458
        },
        "id": "oal0FqkG8Fd-",
        "outputId": "48dc92bb-8f0d-42e9-f3ec-7d60ca5cb1b5"
      },
      "execution_count": 32,
      "outputs": [
        {
          "output_type": "display_data",
          "data": {
            "text/plain": [
              "<Figure size 1080x504 with 2 Axes>"
            ],
            "image/png": "[encoded data removed]"
          },
          "metadata": {
            "needs_background": "light"
          }
        }
      ]
    },
    {
      "cell_type": "code",
      "source": [
        "from going_modular.going_modular import utils\n",
        "\n",
        "# Save the model\n",
        "utils.save_model(model=vgg19_bn,\n",
        "                 target_dir=\"models\",\n",
        "                 model_name=\"pretrained_vgg19_bn_feature_extractor_drappcompressed.pth\")"
      ],
      "metadata": {
        "colab": {
          "base_uri": "https://localhost:8080/"
        },
        "id": "h-37o-O-82I9",
        "outputId": "26bddf06-c2e9-4d1c-84cb-03b5074fca10"
      },
      "execution_count": 33,
      "outputs": [
        {
          "output_type": "stream",
          "name": "stdout",
          "text": [
            "[INFO] Saving model to: models/pretrained_vgg19_bn_feature_extractor_drappcompressed.pth\n"
          ]
        }
      ]
    },
    {
      "cell_type": "code",
      "source": [
        "from pathlib import Path\n",
        "\n",
        "# Get all test data paths\n",
        "print(f\"[INFO] Finding all filepaths ending with '.jpg' in directory: {test_dir}\")\n",
        "test_data_paths = list(Path(test_dir).glob(\"*/*.jpg\"))\n",
        "test_data_paths[:5]"
      ],
      "metadata": {
        "colab": {
          "base_uri": "https://localhost:8080/"
        },
        "id": "8QnixsOj-Vsa",
        "outputId": "918988a6-2316-44d4-fda4-17f9893468ff"
      },
      "execution_count": 35,
      "outputs": [
        {
          "output_type": "stream",
          "name": "stdout",
          "text": [
            "[INFO] Finding all filepaths ending with '.jpg' in directory: drive/MyDrive/data/test\n"
          ]
        },
        {
          "output_type": "execute_result",
          "data": {
            "text/plain": [
              "[PosixPath('drive/MyDrive/data/test/Laser Spots/laserspot80.jpg'),\n",
              " PosixPath('drive/MyDrive/data/test/Laser Spots/laserspot81.jpg'),\n",
              " PosixPath('drive/MyDrive/data/test/Laser Spots/laserspot82.jpg'),\n",
              " PosixPath('drive/MyDrive/data/test/Laser Spots/laserspot83.jpg'),\n",
              " PosixPath('drive/MyDrive/data/test/Laser Spots/laserspot87.jpg')]"
            ]
          },
          "metadata": {},
          "execution_count": 35
        }
      ]
    },
    {
      "cell_type": "code",
      "source": [
        "import pathlib\n",
        "import torch\n",
        "\n",
        "from PIL import Image\n",
        "from timeit import default_timer as timer \n",
        "from tqdm.auto import tqdm\n",
        "from typing import List, Dict\n",
        "\n",
        "# 1. Create a function to return a list of dictionaries with sample, truth label, prediction, prediction probability and prediction time\n",
        "def pred_and_store(paths: List[pathlib.Path], \n",
        "                   model: torch.nn.Module,\n",
        "                   transform: torchvision.transforms, \n",
        "                   class_names: List[str], \n",
        "                   device: str = \"cuda\" if torch.cuda.is_available() else \"cpu\") -> List[Dict]:\n",
        "    \n",
        "    # 2. Create an empty list to store prediction dictionaires\n",
        "    pred_list = []\n",
        "    \n",
        "    # 3. Loop through target paths\n",
        "    for path in tqdm(paths):\n",
        "        \n",
        "        # 4. Create empty dictionary to store prediction information for each sample\n",
        "        pred_dict = {}\n",
        "\n",
        "        # 5. Get the sample path and ground truth class name\n",
        "        pred_dict[\"image_path\"] = path\n",
        "        class_name = path.parent.stem\n",
        "        pred_dict[\"class_name\"] = class_name\n",
        "        \n",
        "        # 6. Start the prediction timer\n",
        "        start_time = timer()\n",
        "        \n",
        "        # 7. Open image path\n",
        "        img = Image.open(path).convert('RGB')\n",
        "        \n",
        "        # 8. Transform the image, add batch dimension and put image on target device\n",
        "        transformed_image = transform(img).unsqueeze(0).to(device) \n",
        "        \n",
        "        # 9. Prepare model for inference by sending it to target device and turning on eval() mode\n",
        "        model.to(device)\n",
        "        model.eval()\n",
        "        \n",
        "        # 10. Get prediction probability, predicition label and prediction class\n",
        "        with torch.inference_mode():\n",
        "            pred_logit = model(transformed_image) # perform inference on target sample \n",
        "            pred_prob = torch.softmax(pred_logit, dim=1) # turn logits into prediction probabilities\n",
        "            pred_label = torch.argmax(pred_prob, dim=1) # turn prediction probabilities into prediction label\n",
        "            pred_class = class_names[pred_label.cpu()] # hardcode prediction class to be on CPU\n",
        "\n",
        "            # 11. Make sure things in the dictionary are on CPU (required for inspecting predictions later on) \n",
        "            pred_dict[\"pred_prob\"] = round(pred_prob.unsqueeze(0).max().cpu().item(), 4)\n",
        "            pred_dict[\"pred_class\"] = pred_class\n",
        "            \n",
        "            # 12. End the timer and calculate time per pred\n",
        "            end_time = timer()\n",
        "            pred_dict[\"time_for_pred\"] = round(end_time-start_time, 4)\n",
        "\n",
        "        # 13. Does the pred match the true label?\n",
        "        pred_dict[\"correct\"] = class_name == pred_class\n",
        "\n",
        "        # 14. Add the dictionary to the list of preds\n",
        "        pred_list.append(pred_dict)\n",
        "    \n",
        "    # 15. Return list of prediction dictionaries\n",
        "    return pred_list"
      ],
      "metadata": {
        "id": "iXW-NWul88bE"
      },
      "execution_count": 34,
      "outputs": []
    },
    {
      "cell_type": "code",
      "source": [
        "# Make predictions across test dataset with ResNet50\n",
        "vgg19_bn_test_pred_dicts = pred_and_store(paths=test_data_paths,\n",
        "                                          model=vgg19_bn,\n",
        "                                          transform=vgg19_bn_transforms,\n",
        "                                          class_names=class_names,\n",
        "                                          device=\"cpu\") # make predictions on CPU "
      ],
      "metadata": {
        "id": "js3COWQz9V-A"
      },
      "execution_count": null,
      "outputs": []
    },
    {
      "cell_type": "code",
      "source": [
        "# Create a list of example inputs to our Gradio demo\n",
        "example_list = [[str(filepath)] for filepath in random.sample(test_data_paths, k=4)]\n",
        "example_list"
      ],
      "metadata": {
        "id": "5HIVwjEf9rFU"
      },
      "execution_count": null,
      "outputs": []
    },
    {
      "cell_type": "code",
      "source": [
        "import gradio as gr\n",
        "\n",
        "# Create title, description and article strings\n",
        "title = \"DeepFundus 👀\"\n",
        "description = \"A VGG19_BN feature extractor computer vision model to classify retina pathology from optical funduscopic images.\"\n",
        "article = \"Created for fun.\"\n",
        "\n",
        "# Create the Gradio demo\n",
        "demo = gr.Interface(fn=predict, # mapping function from input to output\n",
        "                    inputs=gr.Image(type=\"pil\"), # what are the inputs?\n",
        "                    outputs=[gr.Label(num_top_classes=10, label=\"Predictions\"), # what are the outputs?\n",
        "                             gr.Number(label=\"Prediction time (s)\")], # our fn has two outputs, therefore we have two outputs\n",
        "                    examples=example_list, \n",
        "                    title=title,\n",
        "                    description=description,\n",
        "                    article=article)\n",
        "\n",
        "# Launch the demo!\n",
        "demo.launch(debug=False, # print errors locally?\n",
        "            share=True) # generate a publically shareable URL?"
      ],
      "metadata": {
        "id": "-jczeJe19uJc"
      },
      "execution_count": null,
      "outputs": []
    },
    {
      "cell_type": "code",
      "source": [
        "import shutil\n",
        "from pathlib import Path\n",
        "\n",
        "# Create DeepFundus demo path\n",
        "deepfundus_demo_path = Path(\"demos/deepfundus/\")\n",
        "\n",
        "# Remove files that might already exist there and create new directory\n",
        "if deepfundus_demo_path.exists():\n",
        "    shutil.rmtree(deepfundus_demo_path)\n",
        "    deepfundus_demo_path.mkdir(parents=True, # make the parent folders?\n",
        "                                    exist_ok=True) # create it even if it already exists?\n",
        "else:\n",
        "    # If the file doesn't exist, create it anyway\n",
        "    deepfundus_demo_path.mkdir(parents=True, \n",
        "                                    exist_ok=True)\n",
        "    \n",
        "# Check what's in the folder\n",
        "!ls demos/deepfundus/"
      ],
      "metadata": {
        "id": "TAjvn6zO-yTU"
      },
      "execution_count": 36,
      "outputs": []
    },
    {
      "cell_type": "code",
      "source": [
        "import shutil\n",
        "from pathlib import Path\n",
        "\n",
        "# 1. Create an examples directory\n",
        "deepfundus_examples_path = deepfundus_demo_path / \"examples\"\n",
        "deepfundus_examples_path.mkdir(parents=True, exist_ok=True)\n",
        "\n",
        "# 2. Collect three random test dataset image paths\n",
        "deepfundus_examples = [Path('drive/MyDrive/data/test/CRVO/cr44.jpg'),\n",
        "                            Path('drive/MyDrive/data/test/Macular Degeneration/mdegen228.jpg'),\n",
        "                            Path('drive/MyDrive/data/test/Diabetic Retinopathy/dr240.jpg')]\n",
        "\n",
        "# 3. Copy the three random images to the examples directory\n",
        "for example in deepfundus_examples:\n",
        "    destination = deepfundus_examples_path / example.name\n",
        "    print(f\"[INFO] Copying {example} to {destination}\")\n",
        "    shutil.copy2(src=example, dst=destination)"
      ],
      "metadata": {
        "colab": {
          "base_uri": "https://localhost:8080/"
        },
        "id": "aK7wQyma-6_w",
        "outputId": "31e96cc7-70d9-42cb-c071-034de0db913d"
      },
      "execution_count": 37,
      "outputs": [
        {
          "output_type": "stream",
          "name": "stdout",
          "text": [
            "[INFO] Copying drive/MyDrive/data/test/CRVO/cr44.jpg to demos/deepfundus/examples/cr44.jpg\n",
            "[INFO] Copying drive/MyDrive/data/test/Macular Degeneration/mdegen228.jpg to demos/deepfundus/examples/mdegen228.jpg\n",
            "[INFO] Copying drive/MyDrive/data/test/Diabetic Retinopathy/dr240.jpg to demos/deepfundus/examples/dr240.jpg\n"
          ]
        }
      ]
    },
    {
      "cell_type": "code",
      "source": [
        "import os\n",
        "\n",
        "# Get example filepaths in a list of lists\n",
        "example_list = [[\"examples/\" + example] for example in os.listdir(deepfundus_examples_path)]\n",
        "example_list"
      ],
      "metadata": {
        "colab": {
          "base_uri": "https://localhost:8080/"
        },
        "id": "zwYuMfCh_AVI",
        "outputId": "d7ff2b17-7743-4773-842d-704d1695d844"
      },
      "execution_count": 38,
      "outputs": [
        {
          "output_type": "execute_result",
          "data": {
            "text/plain": [
              "[['examples/dr240.jpg'], ['examples/cr44.jpg'], ['examples/mdegen228.jpg']]"
            ]
          },
          "metadata": {},
          "execution_count": 38
        }
      ]
    },
    {
      "cell_type": "code",
      "source": [
        "import shutil\n",
        "\n",
        "# Create a source path for our target model\n",
        "vgg19_bn_deepfundus_model_path = \"models/09_pretrained_vgg19_bn_feature_extractor_drappcompressed.pth\"\n",
        "\n",
        "# Create a destination path for our target model \n",
        "vgg19_bn_deepfundus_model_destination = deepfundus_demo_path / vgg19_bn_deepfundus_model_path.split(\"/\")[1]\n",
        "\n",
        "# Try to move the file\n",
        "try:\n",
        "    print(f\"[INFO] Attempting to move {vgg19_bn_deepfundus_model_path} to {vgg19_bn_deepfundus_model_destination}\")\n",
        "    \n",
        "    # Move the model\n",
        "    shutil.move(src=vgg19_bn_deepfundus_model_path, \n",
        "                dst=vgg19_bn_deepfundus_model_destination)\n",
        "    \n",
        "    print(f\"[INFO] Model move complete.\")\n",
        "\n",
        "# If the model has already been moved, check if it exists\n",
        "except:\n",
        "    print(f\"[INFO] No model found at {vgg19_bn_deepfundus_model_path}, perhaps its already been moved?\")\n",
        "    print(f\"[INFO] Model exists at {vgg19_bn_deepfundus_model_destination}: {vgg19_bn_deepfundus_model_destination.exists()}\")"
      ],
      "metadata": {
        "colab": {
          "base_uri": "https://localhost:8080/"
        },
        "id": "vs0T5apH_Cr_",
        "outputId": "c8fc99af-bc95-487a-f693-93703b828fc3"
      },
      "execution_count": 39,
      "outputs": [
        {
          "output_type": "stream",
          "name": "stdout",
          "text": [
            "[INFO] Attempting to move models/09_pretrained_vgg19_bn_feature_extractor_drappcompressed.pth to demos/deepfundus/09_pretrained_vgg19_bn_feature_extractor_drappcompressed.pth\n",
            "[INFO] No model found at models/09_pretrained_vgg19_bn_feature_extractor_drappcompressed.pth, perhaps its already been moved?\n",
            "[INFO] Model exists at demos/deepfundus/09_pretrained_vgg19_bn_feature_extractor_drappcompressed.pth: False\n"
          ]
        }
      ]
    },
    {
      "cell_type": "code",
      "source": [
        "%%writefile demos/deepfundus/model.py\n",
        "import torch\n",
        "import torchvision\n",
        "\n",
        "from torch import nn\n",
        "\n",
        "def create_vgg19_bn_model(num_classes:int=10, # 4\n",
        "                          seed:int=42):\n",
        "    \"\"\"Creates an VGG19_BN feature extractor model and transforms.\n",
        "\n",
        "    Args:\n",
        "        num_classes (int, optional): number of classes in the classifier head. \n",
        "            Defaults to 3.\n",
        "        seed (int, optional): random seed value. Defaults to 42.\n",
        "\n",
        "    Returns:\n",
        "        model (torch.nn.Module): VGG19_BN feature extractor model. \n",
        "        transforms (torchvision.transforms): VGG19_BN image transforms.\n",
        "    \"\"\"\n",
        "    # 1, 2, 3. Create VGG19_BN pretrained weights, transforms and model\n",
        "    weights = torchvision.models.VGG19_BN_Weights.DEFAULT\n",
        "    transforms = weights.transforms()\n",
        "    model = torchvision.models.vgg19_bn(weights=weights)\n",
        "\n",
        "    # 4. Freeze all layers in base model\n",
        "    for param in model.parameters():\n",
        "        param.requires_grad = True # Set to False for model's other than ResNet\n",
        "\n",
        "    # 5. Change classifier head with random seed for reproducibility\n",
        "    torch.manual_seed(seed)\n",
        "    model.classifier = nn.Sequential(\n",
        "        nn.Dropout(p=0.3, inplace=True),\n",
        "        nn.Linear(in_features=25088\n",
        "                  , out_features=num_classes), # If using EffnetB2 in_features = 1408, EffnetB0 in_features = 1280, if ResNet50 in_features = 2048\n",
        "    )\n",
        "    \n",
        "    return model, transforms"
      ],
      "metadata": {
        "colab": {
          "base_uri": "https://localhost:8080/"
        },
        "id": "_4dybjNj_e5J",
        "outputId": "e8a7036c-2939-4e9c-e806-80fbf22da108"
      },
      "execution_count": 40,
      "outputs": [
        {
          "output_type": "stream",
          "name": "stdout",
          "text": [
            "Writing demos/deepfundus/model.py\n"
          ]
        }
      ]
    },
    {
      "cell_type": "code",
      "source": [
        "%%writefile demos/deepfundus/app.py\n",
        "### 1. Imports and class names setup ### \n",
        "import gradio as gr\n",
        "import os\n",
        "import torch\n",
        "\n",
        "from model import create_vgg19_bn_model\n",
        "from timeit import default_timer as timer\n",
        "from typing import Tuple, Dict\n",
        "\n",
        "# Setup class names\n",
        "class_names = ['CRVO',\n",
        "  'Choroidal Nevus',\n",
        "  'Diabetic Retinopathy',\n",
        "  'Laser Spots',\n",
        "  'Macular Degeneration',\n",
        "  'Macular Hole',\n",
        "  'Myelinated Nerve Fiber',\n",
        "  'Normal',\n",
        "  'Pathological Mypoia',\n",
        "  'Retinitis Pigmentosa']\n",
        "\n",
        "### 2. Model and transforms preparation ###\n",
        "\n",
        "# Create VGG19_BN model\n",
        "vgg19_bn, vgg19_bn_transforms = create_vgg19_bn_model(\n",
        "    num_classes=len(class_names), # actual value would also work\n",
        ")\n",
        "\n",
        "# Load saved weights\n",
        "vgg19_bn.load_state_dict(\n",
        "    torch.load(\n",
        "        f=\"pretrained_vgg19_bn_feature_extractor_drappcompressed.pth\",\n",
        "        map_location=torch.device(\"cpu\"),  # load to CPU\n",
        "    )\n",
        ")\n",
        "\n",
        "### 3. Predict function ###\n",
        "\n",
        "# Create predict function\n",
        "def predict(img) -> Tuple[Dict, float]:\n",
        "    \"\"\"Transforms and performs a prediction on img and returns prediction and time taken.\n",
        "    \"\"\"\n",
        "    # Start the timer\n",
        "    start_time = timer()\n",
        "    \n",
        "    # Transform the target image and add a batch dimension\n",
        "    img = vgg19_bn_transforms(img).unsqueeze(0)\n",
        "    \n",
        "    # Put model into evaluation mode and turn on inference mode\n",
        "    vgg19_bn.eval()\n",
        "    with torch.inference_mode():\n",
        "        # Pass the transformed image through the model and turn the prediction logits into prediction probabilities\n",
        "        pred_probs = torch.softmax(resnet50(img), dim=1)\n",
        "    \n",
        "    # Create a prediction label and prediction probability dictionary for each prediction class (this is the required format for Gradio's output parameter)\n",
        "    pred_labels_and_probs = {class_names[i]: float(pred_probs[0][i]) for i in range(len(class_names))}\n",
        "    \n",
        "    # Calculate the prediction time\n",
        "    pred_time = round(timer() - start_time, 5)\n",
        "    \n",
        "    # Return the prediction dictionary and prediction time \n",
        "    return pred_labels_and_probs, pred_time\n",
        "\n",
        "### 4. Gradio app ###\n",
        "\n",
        "# Create title, description and article strings\n",
        "title = \"DeepFundus 👀\"\n",
        "description = \"A VGG19_BN feature extractor computer vision model to classify funduscopic images.\"\n",
        "article = \"Created with the help from [09. PyTorch Model Deployment](https://www.learnpytorch.io/09_pytorch_model_deployment/).\"\n",
        "\n",
        "# Create examples list from \"examples/\" directory\n",
        "example_list = [[\"examples/\" + example] for example in os.listdir(\"examples\")]\n",
        "\n",
        "# Create the Gradio demo\n",
        "demo = gr.Interface(fn=predict, # mapping function from input to output\n",
        "                    inputs=gr.Image(type=\"pil\"), # what are the inputs?\n",
        "                    outputs=[gr.Label(num_top_classes=10, label=\"Predictions\"), # what are the outputs?\n",
        "                             gr.Number(label=\"Prediction time (s)\")], # our fn has two outputs, therefore we have two outputs\n",
        "                    # Create examples list from \"examples/\" directory\n",
        "                    examples=example_list, \n",
        "                    title=title,\n",
        "                    description=description,\n",
        "                    article=article)\n",
        "\n",
        "# Launch the demo!\n",
        "demo.launch()"
      ],
      "metadata": {
        "colab": {
          "base_uri": "https://localhost:8080/"
        },
        "id": "VAxhUt9zADQf",
        "outputId": "293a999a-2471-4570-c46f-fe7a59f5f379"
      },
      "execution_count": 41,
      "outputs": [
        {
          "output_type": "stream",
          "name": "stdout",
          "text": [
            "Writing demos/deepfundus/app.py\n"
          ]
        }
      ]
    },
    {
      "cell_type": "code",
      "source": [
        "%%writefile demos/deepfundus/requirements.txt\n",
        "torch==1.12.0\n",
        "torchvision==0.13.0\n",
        "gradio==3.1.4"
      ],
      "metadata": {
        "colab": {
          "base_uri": "https://localhost:8080/"
        },
        "id": "8sV7rws-AegD",
        "outputId": "d51a8018-0f4c-449a-f5a2-ad6f4b93e9d6"
      },
      "execution_count": 42,
      "outputs": [
        {
          "output_type": "stream",
          "name": "stdout",
          "text": [
            "Writing demos/deepfundus/requirements.txt\n"
          ]
        }
      ]
    },
    {
      "cell_type": "code",
      "source": [
        "!ls demos/deepfundus"
      ],
      "metadata": {
        "colab": {
          "base_uri": "https://localhost:8080/"
        },
        "id": "Rr2uZT_cAjEZ",
        "outputId": "3772841c-a8fb-433b-9e1c-008bd7c7f252"
      },
      "execution_count": 43,
      "outputs": [
        {
          "output_type": "stream",
          "name": "stdout",
          "text": [
            "app.py\texamples  model.py  requirements.txt\n"
          ]
        }
      ]
    },
    {
      "cell_type": "code",
      "source": [
        "# Change into and then zip the deepfundus folder but exclude certain files\n",
        "!cd demos/deepfundus && zip -r ../deepfundus.zip * -x \"*.pyc\" \"*.ipynb\" \"*__pycache__*\" \"*ipynb_checkpoints*\"\n",
        "\n",
        "# Download the zipped DeepFundus app (if running in Google Colab)\n",
        "try:\n",
        "    from google.colab import files\n",
        "    files.download(\"demos/deepfundus.zip\")\n",
        "except:\n",
        "    print(\"Not running in Google Colab, can't use google.colab.files.download(), please manually download.\")"
      ],
      "metadata": {
        "colab": {
          "base_uri": "https://localhost:8080/",
          "height": 139
        },
        "id": "l43iwn4YAkOQ",
        "outputId": "8da2ddeb-c63e-432e-b8d6-339490918c8f"
      },
      "execution_count": 44,
      "outputs": [
        {
          "output_type": "stream",
          "name": "stdout",
          "text": [
            "  adding: app.py (deflated 56%)\n",
            "  adding: examples/ (stored 0%)\n",
            "  adding: examples/dr240.jpg (deflated 28%)\n",
            "  adding: examples/cr44.jpg (deflated 11%)\n",
            "  adding: examples/mdegen228.jpg (deflated 20%)\n",
            "  adding: model.py (deflated 55%)\n",
            "  adding: requirements.txt (deflated 4%)\n"
          ]
        },
        {
          "output_type": "display_data",
          "data": {
            "text/plain": [
              "<IPython.core.display.Javascript object>"
            ],
            "application/javascript": [
              "\n",
              "    async function download(id, filename, size) {\n",
              "      if (!google.colab.kernel.accessAllowed) {\n",
              "        return;\n",
              "      }\n",
              "      const div = document.createElement('div');\n",
              "      const label = document.createElement('label');\n",
              "      label.textContent = `Downloading \"${filename}\": `;\n",
              "      div.appendChild(label);\n",
              "      const progress = document.createElement('progress');\n",
              "      progress.max = size;\n",
              "      div.appendChild(progress);\n",
              "      document.body.appendChild(div);\n",
              "\n",
              "      const buffers = [];\n",
              "      let downloaded = 0;\n",
              "\n",
              "      const channel = await google.colab.kernel.comms.open(id);\n",
              "      // Send a message to notify the kernel that we're ready.\n",
              "      channel.send({})\n",
              "\n",
              "      for await (const message of channel.messages) {\n",
              "        // Send a message to notify the kernel that we're ready.\n",
              "        channel.send({})\n",
              "        if (message.buffers) {\n",
              "          for (const buffer of message.buffers) {\n",
              "            buffers.push(buffer);\n",
              "            downloaded += buffer.byteLength;\n",
              "            progress.value = downloaded;\n",
              "          }\n",
              "        }\n",
              "      }\n",
              "      const blob = new Blob(buffers, {type: 'application/binary'});\n",
              "      const a = document.createElement('a');\n",
              "      a.href = window.URL.createObjectURL(blob);\n",
              "      a.download = filename;\n",
              "      div.appendChild(a);\n",
              "      a.click();\n",
              "      div.remove();\n",
              "    }\n",
              "  "
            ]
          },
          "metadata": {}
        },
        {
          "output_type": "display_data",
          "data": {
            "text/plain": [
              "<IPython.core.display.Javascript object>"
            ],
            "application/javascript": [
              "download(\"download_3f7654ca-65a4-4a48-b8da-39189e3b6f25\", \"deepfundus.zip\", 406720)"
            ]
          },
          "metadata": {}
        }
      ]
    }
  ]
}